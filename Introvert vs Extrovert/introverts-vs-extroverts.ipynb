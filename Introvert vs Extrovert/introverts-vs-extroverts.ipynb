{
 "cells": [
  {
   "cell_type": "code",
   "execution_count": 1,
   "id": "3b663cfd",
   "metadata": {
    "_cell_guid": "b1076dfc-b9ad-4769-8c92-a6c4dae69d19",
    "_uuid": "8f2839f25d086af736a60e9eeb907d3b93b6e0e5",
    "execution": {
     "iopub.execute_input": "2025-07-30T06:42:34.418811Z",
     "iopub.status.busy": "2025-07-30T06:42:34.418357Z",
     "iopub.status.idle": "2025-07-30T06:42:36.395756Z",
     "shell.execute_reply": "2025-07-30T06:42:36.394664Z"
    },
    "papermill": {
     "duration": 1.991423,
     "end_time": "2025-07-30T06:42:36.397832",
     "exception": false,
     "start_time": "2025-07-30T06:42:34.406409",
     "status": "completed"
    },
    "tags": []
   },
   "outputs": [
    {
     "name": "stdout",
     "output_type": "stream",
     "text": [
      "/kaggle/input/playground-series-s5e7/sample_submission.csv\n",
      "/kaggle/input/playground-series-s5e7/train.csv\n",
      "/kaggle/input/playground-series-s5e7/test.csv\n"
     ]
    }
   ],
   "source": [
    "# This Python 3 environment comes with many helpful analytics libraries installed\n",
    "# It is defined by the kaggle/python Docker image: https://github.com/kaggle/docker-python\n",
    "# For example, here's several helpful packages to load\n",
    "\n",
    "import numpy as np # linear algebra\n",
    "import pandas as pd # data processing, CSV file I/O (e.g. pd.read_csv)\n",
    "\n",
    "# Input data files are available in the read-only \"../input/\" directory\n",
    "# For example, running this (by clicking run or pressing Shift+Enter) will list all files under the input directory\n",
    "\n",
    "import os\n",
    "for dirname, _, filenames in os.walk('/kaggle/input'):\n",
    "    for filename in filenames:\n",
    "        print(os.path.join(dirname, filename))\n",
    "\n",
    "# You can write up to 20GB to the current directory (/kaggle/working/) that gets preserved as output when you create a version using \"Save & Run All\" \n",
    "# You can also write temporary files to /kaggle/temp/, but they won't be saved outside of the current session"
   ]
  },
  {
   "cell_type": "code",
   "execution_count": 2,
   "id": "a69f7e4e",
   "metadata": {
    "execution": {
     "iopub.execute_input": "2025-07-30T06:42:36.423858Z",
     "iopub.status.busy": "2025-07-30T06:42:36.423374Z",
     "iopub.status.idle": "2025-07-30T06:42:39.466519Z",
     "shell.execute_reply": "2025-07-30T06:42:39.465428Z"
    },
    "papermill": {
     "duration": 3.058848,
     "end_time": "2025-07-30T06:42:39.468310",
     "exception": false,
     "start_time": "2025-07-30T06:42:36.409462",
     "status": "completed"
    },
    "tags": []
   },
   "outputs": [],
   "source": [
    "import numpy as np\n",
    "import pandas as pd\n",
    "import matplotlib.pyplot as plt\n",
    "%matplotlib inline\n",
    "import seaborn as sns\n",
    "from sklearn.preprocessing import LabelEncoder\n",
    "#from lightgbm import  log_evaluation, early_stopping\n",
    "from sklearn.feature_selection import mutual_info_classif\n",
    "from sklearn.linear_model import LogisticRegression\n",
    "from sklearn.model_selection import StratifiedKFold\n",
    "from sklearn.preprocessing import LabelEncoder\n",
    "from sklearn.base import clone\n",
    "from xgboost import XGBClassifier\n",
    "\n",
    "import warnings\n",
    "warnings.filterwarnings(\"ignore\")"
   ]
  },
  {
   "cell_type": "code",
   "execution_count": 3,
   "id": "f0422b91",
   "metadata": {
    "execution": {
     "iopub.execute_input": "2025-07-30T06:42:39.489806Z",
     "iopub.status.busy": "2025-07-30T06:42:39.489317Z",
     "iopub.status.idle": "2025-07-30T06:42:39.539164Z",
     "shell.execute_reply": "2025-07-30T06:42:39.538028Z"
    },
    "papermill": {
     "duration": 0.063024,
     "end_time": "2025-07-30T06:42:39.541056",
     "exception": false,
     "start_time": "2025-07-30T06:42:39.478032",
     "status": "completed"
    },
    "tags": []
   },
   "outputs": [],
   "source": [
    "train_df = pd.read_csv('/kaggle/input/playground-series-s5e7/train.csv')"
   ]
  },
  {
   "cell_type": "code",
   "execution_count": 4,
   "id": "4d7231d7",
   "metadata": {
    "execution": {
     "iopub.execute_input": "2025-07-30T06:42:39.562787Z",
     "iopub.status.busy": "2025-07-30T06:42:39.562393Z",
     "iopub.status.idle": "2025-07-30T06:42:39.578774Z",
     "shell.execute_reply": "2025-07-30T06:42:39.577575Z"
    },
    "papermill": {
     "duration": 0.028862,
     "end_time": "2025-07-30T06:42:39.580527",
     "exception": false,
     "start_time": "2025-07-30T06:42:39.551665",
     "status": "completed"
    },
    "tags": []
   },
   "outputs": [],
   "source": [
    "test_df = pd.read_csv('/kaggle/input/playground-series-s5e7/test.csv')"
   ]
  },
  {
   "cell_type": "code",
   "execution_count": 5,
   "id": "7bc4f81a",
   "metadata": {
    "execution": {
     "iopub.execute_input": "2025-07-30T06:42:39.600881Z",
     "iopub.status.busy": "2025-07-30T06:42:39.600548Z",
     "iopub.status.idle": "2025-07-30T06:42:39.609458Z",
     "shell.execute_reply": "2025-07-30T06:42:39.608578Z"
    },
    "papermill": {
     "duration": 0.020902,
     "end_time": "2025-07-30T06:42:39.611082",
     "exception": false,
     "start_time": "2025-07-30T06:42:39.590180",
     "status": "completed"
    },
    "tags": []
   },
   "outputs": [
    {
     "data": {
      "text/plain": [
       "Index(['id', 'Time_spent_Alone', 'Stage_fear', 'Social_event_attendance',\n",
       "       'Going_outside', 'Drained_after_socializing', 'Friends_circle_size',\n",
       "       'Post_frequency', 'Personality'],\n",
       "      dtype='object')"
      ]
     },
     "execution_count": 5,
     "metadata": {},
     "output_type": "execute_result"
    }
   ],
   "source": [
    "train_df.columns"
   ]
  },
  {
   "cell_type": "code",
   "execution_count": 6,
   "id": "ccb130ad",
   "metadata": {
    "execution": {
     "iopub.execute_input": "2025-07-30T06:42:39.634044Z",
     "iopub.status.busy": "2025-07-30T06:42:39.633701Z",
     "iopub.status.idle": "2025-07-30T06:42:39.639705Z",
     "shell.execute_reply": "2025-07-30T06:42:39.638801Z"
    },
    "papermill": {
     "duration": 0.019244,
     "end_time": "2025-07-30T06:42:39.641132",
     "exception": false,
     "start_time": "2025-07-30T06:42:39.621888",
     "status": "completed"
    },
    "tags": []
   },
   "outputs": [
    {
     "data": {
      "text/plain": [
       "(18524, 9)"
      ]
     },
     "execution_count": 6,
     "metadata": {},
     "output_type": "execute_result"
    }
   ],
   "source": [
    "train_df.shape"
   ]
  },
  {
   "cell_type": "code",
   "execution_count": 7,
   "id": "708a271d",
   "metadata": {
    "execution": {
     "iopub.execute_input": "2025-07-30T06:42:39.662114Z",
     "iopub.status.busy": "2025-07-30T06:42:39.661720Z",
     "iopub.status.idle": "2025-07-30T06:42:39.667830Z",
     "shell.execute_reply": "2025-07-30T06:42:39.666940Z"
    },
    "papermill": {
     "duration": 0.018256,
     "end_time": "2025-07-30T06:42:39.669278",
     "exception": false,
     "start_time": "2025-07-30T06:42:39.651022",
     "status": "completed"
    },
    "tags": []
   },
   "outputs": [
    {
     "data": {
      "text/plain": [
       "(6175, 8)"
      ]
     },
     "execution_count": 7,
     "metadata": {},
     "output_type": "execute_result"
    }
   ],
   "source": [
    "test_df.shape"
   ]
  },
  {
   "cell_type": "code",
   "execution_count": 8,
   "id": "0b61a38c",
   "metadata": {
    "execution": {
     "iopub.execute_input": "2025-07-30T06:42:39.691039Z",
     "iopub.status.busy": "2025-07-30T06:42:39.690728Z",
     "iopub.status.idle": "2025-07-30T06:42:39.723073Z",
     "shell.execute_reply": "2025-07-30T06:42:39.722199Z"
    },
    "papermill": {
     "duration": 0.045795,
     "end_time": "2025-07-30T06:42:39.724913",
     "exception": false,
     "start_time": "2025-07-30T06:42:39.679118",
     "status": "completed"
    },
    "tags": []
   },
   "outputs": [
    {
     "data": {
      "text/html": [
       "<div>\n",
       "<style scoped>\n",
       "    .dataframe tbody tr th:only-of-type {\n",
       "        vertical-align: middle;\n",
       "    }\n",
       "\n",
       "    .dataframe tbody tr th {\n",
       "        vertical-align: top;\n",
       "    }\n",
       "\n",
       "    .dataframe thead th {\n",
       "        text-align: right;\n",
       "    }\n",
       "</style>\n",
       "<table border=\"1\" class=\"dataframe\">\n",
       "  <thead>\n",
       "    <tr style=\"text-align: right;\">\n",
       "      <th></th>\n",
       "      <th>id</th>\n",
       "      <th>Time_spent_Alone</th>\n",
       "      <th>Stage_fear</th>\n",
       "      <th>Social_event_attendance</th>\n",
       "      <th>Going_outside</th>\n",
       "      <th>Drained_after_socializing</th>\n",
       "      <th>Friends_circle_size</th>\n",
       "      <th>Post_frequency</th>\n",
       "      <th>Personality</th>\n",
       "    </tr>\n",
       "  </thead>\n",
       "  <tbody>\n",
       "    <tr>\n",
       "      <th>0</th>\n",
       "      <td>0</td>\n",
       "      <td>0.0</td>\n",
       "      <td>No</td>\n",
       "      <td>6.0</td>\n",
       "      <td>4.0</td>\n",
       "      <td>No</td>\n",
       "      <td>15.0</td>\n",
       "      <td>5.0</td>\n",
       "      <td>Extrovert</td>\n",
       "    </tr>\n",
       "    <tr>\n",
       "      <th>1</th>\n",
       "      <td>1</td>\n",
       "      <td>1.0</td>\n",
       "      <td>No</td>\n",
       "      <td>7.0</td>\n",
       "      <td>3.0</td>\n",
       "      <td>No</td>\n",
       "      <td>10.0</td>\n",
       "      <td>8.0</td>\n",
       "      <td>Extrovert</td>\n",
       "    </tr>\n",
       "    <tr>\n",
       "      <th>2</th>\n",
       "      <td>2</td>\n",
       "      <td>6.0</td>\n",
       "      <td>Yes</td>\n",
       "      <td>1.0</td>\n",
       "      <td>0.0</td>\n",
       "      <td>NaN</td>\n",
       "      <td>3.0</td>\n",
       "      <td>0.0</td>\n",
       "      <td>Introvert</td>\n",
       "    </tr>\n",
       "    <tr>\n",
       "      <th>3</th>\n",
       "      <td>3</td>\n",
       "      <td>3.0</td>\n",
       "      <td>No</td>\n",
       "      <td>7.0</td>\n",
       "      <td>3.0</td>\n",
       "      <td>No</td>\n",
       "      <td>11.0</td>\n",
       "      <td>5.0</td>\n",
       "      <td>Extrovert</td>\n",
       "    </tr>\n",
       "    <tr>\n",
       "      <th>4</th>\n",
       "      <td>4</td>\n",
       "      <td>1.0</td>\n",
       "      <td>No</td>\n",
       "      <td>4.0</td>\n",
       "      <td>4.0</td>\n",
       "      <td>No</td>\n",
       "      <td>13.0</td>\n",
       "      <td>NaN</td>\n",
       "      <td>Extrovert</td>\n",
       "    </tr>\n",
       "    <tr>\n",
       "      <th>5</th>\n",
       "      <td>5</td>\n",
       "      <td>2.0</td>\n",
       "      <td>No</td>\n",
       "      <td>8.0</td>\n",
       "      <td>5.0</td>\n",
       "      <td>No</td>\n",
       "      <td>NaN</td>\n",
       "      <td>3.0</td>\n",
       "      <td>Extrovert</td>\n",
       "    </tr>\n",
       "    <tr>\n",
       "      <th>6</th>\n",
       "      <td>6</td>\n",
       "      <td>1.0</td>\n",
       "      <td>No</td>\n",
       "      <td>8.0</td>\n",
       "      <td>NaN</td>\n",
       "      <td>No</td>\n",
       "      <td>NaN</td>\n",
       "      <td>4.0</td>\n",
       "      <td>Extrovert</td>\n",
       "    </tr>\n",
       "    <tr>\n",
       "      <th>7</th>\n",
       "      <td>7</td>\n",
       "      <td>2.0</td>\n",
       "      <td>No</td>\n",
       "      <td>8.0</td>\n",
       "      <td>3.0</td>\n",
       "      <td>No</td>\n",
       "      <td>4.0</td>\n",
       "      <td>5.0</td>\n",
       "      <td>Extrovert</td>\n",
       "    </tr>\n",
       "    <tr>\n",
       "      <th>8</th>\n",
       "      <td>8</td>\n",
       "      <td>4.0</td>\n",
       "      <td>Yes</td>\n",
       "      <td>2.0</td>\n",
       "      <td>1.0</td>\n",
       "      <td>NaN</td>\n",
       "      <td>0.0</td>\n",
       "      <td>2.0</td>\n",
       "      <td>Introvert</td>\n",
       "    </tr>\n",
       "    <tr>\n",
       "      <th>9</th>\n",
       "      <td>9</td>\n",
       "      <td>1.0</td>\n",
       "      <td>No</td>\n",
       "      <td>8.0</td>\n",
       "      <td>6.0</td>\n",
       "      <td>No</td>\n",
       "      <td>14.0</td>\n",
       "      <td>9.0</td>\n",
       "      <td>Extrovert</td>\n",
       "    </tr>\n",
       "  </tbody>\n",
       "</table>\n",
       "</div>"
      ],
      "text/plain": [
       "   id  Time_spent_Alone Stage_fear  Social_event_attendance  Going_outside  \\\n",
       "0   0               0.0         No                      6.0            4.0   \n",
       "1   1               1.0         No                      7.0            3.0   \n",
       "2   2               6.0        Yes                      1.0            0.0   \n",
       "3   3               3.0         No                      7.0            3.0   \n",
       "4   4               1.0         No                      4.0            4.0   \n",
       "5   5               2.0         No                      8.0            5.0   \n",
       "6   6               1.0         No                      8.0            NaN   \n",
       "7   7               2.0         No                      8.0            3.0   \n",
       "8   8               4.0        Yes                      2.0            1.0   \n",
       "9   9               1.0         No                      8.0            6.0   \n",
       "\n",
       "  Drained_after_socializing  Friends_circle_size  Post_frequency Personality  \n",
       "0                        No                 15.0             5.0   Extrovert  \n",
       "1                        No                 10.0             8.0   Extrovert  \n",
       "2                       NaN                  3.0             0.0   Introvert  \n",
       "3                        No                 11.0             5.0   Extrovert  \n",
       "4                        No                 13.0             NaN   Extrovert  \n",
       "5                        No                  NaN             3.0   Extrovert  \n",
       "6                        No                  NaN             4.0   Extrovert  \n",
       "7                        No                  4.0             5.0   Extrovert  \n",
       "8                       NaN                  0.0             2.0   Introvert  \n",
       "9                        No                 14.0             9.0   Extrovert  "
      ]
     },
     "execution_count": 8,
     "metadata": {},
     "output_type": "execute_result"
    }
   ],
   "source": [
    "train_df.head(10)"
   ]
  },
  {
   "cell_type": "code",
   "execution_count": 9,
   "id": "5bf93312",
   "metadata": {
    "execution": {
     "iopub.execute_input": "2025-07-30T06:42:39.747399Z",
     "iopub.status.busy": "2025-07-30T06:42:39.747085Z",
     "iopub.status.idle": "2025-07-30T06:42:40.361722Z",
     "shell.execute_reply": "2025-07-30T06:42:40.360624Z"
    },
    "papermill": {
     "duration": 0.627429,
     "end_time": "2025-07-30T06:42:40.363692",
     "exception": false,
     "start_time": "2025-07-30T06:42:39.736263",
     "status": "completed"
    },
    "tags": []
   },
   "outputs": [
    {
     "data": {
      "text/plain": [
       "<seaborn.axisgrid.FacetGrid at 0x79b2670e2a90>"
      ]
     },
     "execution_count": 9,
     "metadata": {},
     "output_type": "execute_result"
    },
    {
     "data": {
      "image/png": "[encoded data removed]",
      "text/plain": [
       "<Figure size 500x500 with 1 Axes>"
      ]
     },
     "metadata": {},
     "output_type": "display_data"
    }
   ],
   "source": [
    "sns.displot(train_df['Time_spent_Alone'],kde = True)"
   ]
  },
  {
   "cell_type": "code",
   "execution_count": 10,
   "id": "851870d4",
   "metadata": {
    "execution": {
     "iopub.execute_input": "2025-07-30T06:42:40.387092Z",
     "iopub.status.busy": "2025-07-30T06:42:40.386738Z",
     "iopub.status.idle": "2025-07-30T06:42:40.882726Z",
     "shell.execute_reply": "2025-07-30T06:42:40.881733Z"
    },
    "papermill": {
     "duration": 0.509749,
     "end_time": "2025-07-30T06:42:40.884523",
     "exception": false,
     "start_time": "2025-07-30T06:42:40.374774",
     "status": "completed"
    },
    "tags": []
   },
   "outputs": [
    {
     "data": {
      "text/plain": [
       "Text(0.5, 1.0, 'Social_event_attendance vs Personlaity')"
      ]
     },
     "execution_count": 10,
     "metadata": {},
     "output_type": "execute_result"
    },
    {
     "data": {
      "image/png": "[encoded data removed]",
      "text/plain": [
       "<Figure size 300x200 with 1 Axes>"
      ]
     },
     "metadata": {},
     "output_type": "display_data"
    }
   ],
   "source": [
    "#sns.pairplot(train_df)\n",
    "#plt.show()\n",
    "plt.figure(figsize=(3,2))\n",
    "sns.barplot(x=train_df['Social_event_attendance'], y=train_df['Personality'])\n",
    "plt.xticks(rotation= 45)\n",
    "plt.xlabel('Social_event_attendance')\n",
    "plt.ylabel('Personality')\n",
    "plt.title('Social_event_attendance vs Personlaity')"
   ]
  },
  {
   "cell_type": "code",
   "execution_count": 11,
   "id": "4287aa0e",
   "metadata": {
    "execution": {
     "iopub.execute_input": "2025-07-30T06:42:40.911179Z",
     "iopub.status.busy": "2025-07-30T06:42:40.910844Z",
     "iopub.status.idle": "2025-07-30T06:42:41.399655Z",
     "shell.execute_reply": "2025-07-30T06:42:41.398741Z"
    },
    "papermill": {
     "duration": 0.502154,
     "end_time": "2025-07-30T06:42:41.401153",
     "exception": false,
     "start_time": "2025-07-30T06:42:40.898999",
     "status": "completed"
    },
    "tags": []
   },
   "outputs": [
    {
     "data": {
      "text/plain": [
       "Text(0.5, 1.0, 'Time_spent_Alone vs Personlaity')"
      ]
     },
     "execution_count": 11,
     "metadata": {},
     "output_type": "execute_result"
    },
    {
     "data": {
      "image/png": "[encoded data removed]",
      "text/plain": [
       "<Figure size 300x200 with 1 Axes>"
      ]
     },
     "metadata": {},
     "output_type": "display_data"
    }
   ],
   "source": [
    "plt.figure(figsize=(3,2))\n",
    "sns.barplot(x=train_df['Time_spent_Alone'], y=train_df['Personality'])\n",
    "plt.xticks(rotation= 45)\n",
    "plt.xlabel('Time_spent_Alone')\n",
    "plt.ylabel('Personality')\n",
    "plt.title('Time_spent_Alone vs Personlaity')"
   ]
  },
  {
   "cell_type": "code",
   "execution_count": 12,
   "id": "f8256365",
   "metadata": {
    "execution": {
     "iopub.execute_input": "2025-07-30T06:42:41.428185Z",
     "iopub.status.busy": "2025-07-30T06:42:41.427342Z",
     "iopub.status.idle": "2025-07-30T06:42:41.913269Z",
     "shell.execute_reply": "2025-07-30T06:42:41.912322Z"
    },
    "papermill": {
     "duration": 0.501924,
     "end_time": "2025-07-30T06:42:41.914786",
     "exception": false,
     "start_time": "2025-07-30T06:42:41.412862",
     "status": "completed"
    },
    "tags": []
   },
   "outputs": [
    {
     "data": {
      "text/plain": [
       "Text(0.5, 1.0, 'Going_outside vs Personlaity')"
      ]
     },
     "execution_count": 12,
     "metadata": {},
     "output_type": "execute_result"
    },
    {
     "data": {
      "image/png": "[encoded data removed]",
      "text/plain": [
       "<Figure size 300x200 with 1 Axes>"
      ]
     },
     "metadata": {},
     "output_type": "display_data"
    }
   ],
   "source": [
    "plt.figure(figsize=(3,2))\n",
    "sns.barplot(x=train_df['Going_outside'], y=train_df['Personality'])\n",
    "plt.xticks(rotation= 45)\n",
    "plt.xlabel('Going_outside')\n",
    "plt.ylabel('Personality')\n",
    "plt.title('Going_outside vs Personlaity')"
   ]
  },
  {
   "cell_type": "code",
   "execution_count": 13,
   "id": "0973ba74",
   "metadata": {
    "execution": {
     "iopub.execute_input": "2025-07-30T06:42:41.940502Z",
     "iopub.status.busy": "2025-07-30T06:42:41.939738Z",
     "iopub.status.idle": "2025-07-30T06:42:42.425684Z",
     "shell.execute_reply": "2025-07-30T06:42:42.424542Z"
    },
    "papermill": {
     "duration": 0.500857,
     "end_time": "2025-07-30T06:42:42.427297",
     "exception": false,
     "start_time": "2025-07-30T06:42:41.926440",
     "status": "completed"
    },
    "tags": []
   },
   "outputs": [
    {
     "data": {
      "text/plain": [
       "Text(0.5, 1.0, 'Friends_circle_size vs Personlaity')"
      ]
     },
     "execution_count": 13,
     "metadata": {},
     "output_type": "execute_result"
    },
    {
     "data": {
      "image/png": "[encoded data removed]",
      "text/plain": [
       "<Figure size 300x200 with 1 Axes>"
      ]
     },
     "metadata": {},
     "output_type": "display_data"
    }
   ],
   "source": [
    "plt.figure(figsize=(3,2))\n",
    "sns.barplot(x=train_df['Friends_circle_size'], y=train_df['Personality'])\n",
    "plt.xticks(rotation= 45)\n",
    "plt.xlabel('Friends_circle_size')\n",
    "plt.ylabel('Personality')\n",
    "plt.title('Friends_circle_size vs Personlaity')"
   ]
  },
  {
   "cell_type": "code",
   "execution_count": 14,
   "id": "d60e284c",
   "metadata": {
    "execution": {
     "iopub.execute_input": "2025-07-30T06:42:42.454176Z",
     "iopub.status.busy": "2025-07-30T06:42:42.453854Z",
     "iopub.status.idle": "2025-07-30T06:42:42.461248Z",
     "shell.execute_reply": "2025-07-30T06:42:42.460230Z"
    },
    "papermill": {
     "duration": 0.023135,
     "end_time": "2025-07-30T06:42:42.462727",
     "exception": false,
     "start_time": "2025-07-30T06:42:42.439592",
     "status": "completed"
    },
    "tags": []
   },
   "outputs": [
    {
     "data": {
      "text/plain": [
       "0    Extrovert\n",
       "1    Extrovert\n",
       "2    Introvert\n",
       "3    Extrovert\n",
       "4    Extrovert\n",
       "Name: Personality, dtype: object"
      ]
     },
     "execution_count": 14,
     "metadata": {},
     "output_type": "execute_result"
    }
   ],
   "source": [
    "y = train_df.iloc[:, -1]\n",
    "y.head()"
   ]
  },
  {
   "cell_type": "code",
   "execution_count": 15,
   "id": "19ce0bd4",
   "metadata": {
    "execution": {
     "iopub.execute_input": "2025-07-30T06:42:42.488893Z",
     "iopub.status.busy": "2025-07-30T06:42:42.488561Z",
     "iopub.status.idle": "2025-07-30T06:42:42.503430Z",
     "shell.execute_reply": "2025-07-30T06:42:42.502564Z"
    },
    "papermill": {
     "duration": 0.02989,
     "end_time": "2025-07-30T06:42:42.504955",
     "exception": false,
     "start_time": "2025-07-30T06:42:42.475065",
     "status": "completed"
    },
    "tags": []
   },
   "outputs": [
    {
     "data": {
      "text/html": [
       "<div>\n",
       "<style scoped>\n",
       "    .dataframe tbody tr th:only-of-type {\n",
       "        vertical-align: middle;\n",
       "    }\n",
       "\n",
       "    .dataframe tbody tr th {\n",
       "        vertical-align: top;\n",
       "    }\n",
       "\n",
       "    .dataframe thead th {\n",
       "        text-align: right;\n",
       "    }\n",
       "</style>\n",
       "<table border=\"1\" class=\"dataframe\">\n",
       "  <thead>\n",
       "    <tr style=\"text-align: right;\">\n",
       "      <th></th>\n",
       "      <th>id</th>\n",
       "      <th>Time_spent_Alone</th>\n",
       "      <th>Stage_fear</th>\n",
       "      <th>Social_event_attendance</th>\n",
       "      <th>Going_outside</th>\n",
       "      <th>Drained_after_socializing</th>\n",
       "      <th>Friends_circle_size</th>\n",
       "      <th>Post_frequency</th>\n",
       "    </tr>\n",
       "  </thead>\n",
       "  <tbody>\n",
       "    <tr>\n",
       "      <th>0</th>\n",
       "      <td>0</td>\n",
       "      <td>0.0</td>\n",
       "      <td>No</td>\n",
       "      <td>6.0</td>\n",
       "      <td>4.0</td>\n",
       "      <td>No</td>\n",
       "      <td>15.0</td>\n",
       "      <td>5.0</td>\n",
       "    </tr>\n",
       "    <tr>\n",
       "      <th>1</th>\n",
       "      <td>1</td>\n",
       "      <td>1.0</td>\n",
       "      <td>No</td>\n",
       "      <td>7.0</td>\n",
       "      <td>3.0</td>\n",
       "      <td>No</td>\n",
       "      <td>10.0</td>\n",
       "      <td>8.0</td>\n",
       "    </tr>\n",
       "    <tr>\n",
       "      <th>2</th>\n",
       "      <td>2</td>\n",
       "      <td>6.0</td>\n",
       "      <td>Yes</td>\n",
       "      <td>1.0</td>\n",
       "      <td>0.0</td>\n",
       "      <td>NaN</td>\n",
       "      <td>3.0</td>\n",
       "      <td>0.0</td>\n",
       "    </tr>\n",
       "    <tr>\n",
       "      <th>3</th>\n",
       "      <td>3</td>\n",
       "      <td>3.0</td>\n",
       "      <td>No</td>\n",
       "      <td>7.0</td>\n",
       "      <td>3.0</td>\n",
       "      <td>No</td>\n",
       "      <td>11.0</td>\n",
       "      <td>5.0</td>\n",
       "    </tr>\n",
       "    <tr>\n",
       "      <th>4</th>\n",
       "      <td>4</td>\n",
       "      <td>1.0</td>\n",
       "      <td>No</td>\n",
       "      <td>4.0</td>\n",
       "      <td>4.0</td>\n",
       "      <td>No</td>\n",
       "      <td>13.0</td>\n",
       "      <td>NaN</td>\n",
       "    </tr>\n",
       "  </tbody>\n",
       "</table>\n",
       "</div>"
      ],
      "text/plain": [
       "   id  Time_spent_Alone Stage_fear  Social_event_attendance  Going_outside  \\\n",
       "0   0               0.0         No                      6.0            4.0   \n",
       "1   1               1.0         No                      7.0            3.0   \n",
       "2   2               6.0        Yes                      1.0            0.0   \n",
       "3   3               3.0         No                      7.0            3.0   \n",
       "4   4               1.0         No                      4.0            4.0   \n",
       "\n",
       "  Drained_after_socializing  Friends_circle_size  Post_frequency  \n",
       "0                        No                 15.0             5.0  \n",
       "1                        No                 10.0             8.0  \n",
       "2                       NaN                  3.0             0.0  \n",
       "3                        No                 11.0             5.0  \n",
       "4                        No                 13.0             NaN  "
      ]
     },
     "execution_count": 15,
     "metadata": {},
     "output_type": "execute_result"
    }
   ],
   "source": [
    "X = train_df.iloc[:, :-1]\n",
    "X.head()"
   ]
  },
  {
   "cell_type": "code",
   "execution_count": 16,
   "id": "651acc64",
   "metadata": {
    "execution": {
     "iopub.execute_input": "2025-07-30T06:42:42.601178Z",
     "iopub.status.busy": "2025-07-30T06:42:42.600826Z",
     "iopub.status.idle": "2025-07-30T06:42:42.605649Z",
     "shell.execute_reply": "2025-07-30T06:42:42.604702Z"
    },
    "papermill": {
     "duration": 0.020211,
     "end_time": "2025-07-30T06:42:42.607286",
     "exception": false,
     "start_time": "2025-07-30T06:42:42.587075",
     "status": "completed"
    },
    "tags": []
   },
   "outputs": [],
   "source": [
    "cat_columns = ['Stage_fear', 'Drained_after_socializing']"
   ]
  },
  {
   "cell_type": "code",
   "execution_count": 17,
   "id": "92a29e02",
   "metadata": {
    "execution": {
     "iopub.execute_input": "2025-07-30T06:42:42.634148Z",
     "iopub.status.busy": "2025-07-30T06:42:42.633757Z",
     "iopub.status.idle": "2025-07-30T06:42:42.644901Z",
     "shell.execute_reply": "2025-07-30T06:42:42.644144Z"
    },
    "papermill": {
     "duration": 0.026342,
     "end_time": "2025-07-30T06:42:42.646297",
     "exception": false,
     "start_time": "2025-07-30T06:42:42.619955",
     "status": "completed"
    },
    "tags": []
   },
   "outputs": [
    {
     "data": {
      "text/plain": [
       "Stage_fear                   1893\n",
       "Drained_after_socializing    1149\n",
       "dtype: int64"
      ]
     },
     "execution_count": 17,
     "metadata": {},
     "output_type": "execute_result"
    }
   ],
   "source": [
    "train_df[cat_columns].isnull().sum()"
   ]
  },
  {
   "cell_type": "code",
   "execution_count": 18,
   "id": "6562fdd8",
   "metadata": {
    "execution": {
     "iopub.execute_input": "2025-07-30T06:42:42.674331Z",
     "iopub.status.busy": "2025-07-30T06:42:42.673987Z",
     "iopub.status.idle": "2025-07-30T06:42:42.680776Z",
     "shell.execute_reply": "2025-07-30T06:42:42.679763Z"
    },
    "papermill": {
     "duration": 0.022296,
     "end_time": "2025-07-30T06:42:42.682374",
     "exception": false,
     "start_time": "2025-07-30T06:42:42.660078",
     "status": "completed"
    },
    "tags": []
   },
   "outputs": [
    {
     "data": {
      "text/plain": [
       "array(['No', 'Yes', nan], dtype=object)"
      ]
     },
     "execution_count": 18,
     "metadata": {},
     "output_type": "execute_result"
    }
   ],
   "source": [
    "train_df['Stage_fear'].unique()"
   ]
  },
  {
   "cell_type": "code",
   "execution_count": 19,
   "id": "6d4c0aff",
   "metadata": {
    "execution": {
     "iopub.execute_input": "2025-07-30T06:42:42.709806Z",
     "iopub.status.busy": "2025-07-30T06:42:42.708913Z",
     "iopub.status.idle": "2025-07-30T06:42:42.731504Z",
     "shell.execute_reply": "2025-07-30T06:42:42.729925Z"
    },
    "papermill": {
     "duration": 0.038243,
     "end_time": "2025-07-30T06:42:42.733509",
     "exception": false,
     "start_time": "2025-07-30T06:42:42.695266",
     "status": "completed"
    },
    "tags": []
   },
   "outputs": [
    {
     "name": "stdout",
     "output_type": "stream",
     "text": [
      "\n",
      "Method 1: Filled using a loop for each column's mode:\n",
      "          id  Time_spent_Alone Stage_fear  Social_event_attendance  \\\n",
      "0          0               0.0         No                      6.0   \n",
      "1          1               1.0         No                      7.0   \n",
      "2          2               6.0        Yes                      1.0   \n",
      "3          3               3.0         No                      7.0   \n",
      "4          4               1.0         No                      4.0   \n",
      "...      ...               ...        ...                      ...   \n",
      "18519  18519               3.0         No                      7.0   \n",
      "18520  18520               1.0         No                      6.0   \n",
      "18521  18521               7.0        Yes                      1.0   \n",
      "18522  18522               NaN        Yes                      1.0   \n",
      "18523  18523               1.0         No                      8.0   \n",
      "\n",
      "       Going_outside Drained_after_socializing  Friends_circle_size  \\\n",
      "0                4.0                        No                 15.0   \n",
      "1                3.0                        No                 10.0   \n",
      "2                0.0                        No                  3.0   \n",
      "3                3.0                        No                 11.0   \n",
      "4                4.0                        No                 13.0   \n",
      "...              ...                       ...                  ...   \n",
      "18519            3.0                        No                  9.0   \n",
      "18520            7.0                        No                  6.0   \n",
      "18521            1.0                       Yes                  1.0   \n",
      "18522            0.0                       Yes                  5.0   \n",
      "18523            6.0                        No                  4.0   \n",
      "\n",
      "       Post_frequency Personality  \n",
      "0                 5.0   Extrovert  \n",
      "1                 8.0   Extrovert  \n",
      "2                 0.0   Introvert  \n",
      "3                 5.0   Extrovert  \n",
      "4                 NaN   Extrovert  \n",
      "...               ...         ...  \n",
      "18519             7.0   Extrovert  \n",
      "18520             5.0   Extrovert  \n",
      "18521             NaN   Introvert  \n",
      "18522             2.0   Introvert  \n",
      "18523             7.0   Extrovert  \n",
      "\n",
      "[18524 rows x 9 columns]\n"
     ]
    }
   ],
   "source": [
    "train_df_fill = train_df.copy()\n",
    "for col in cat_columns:\n",
    "    if col in train_df_fill.columns: \n",
    "        mode_val = train_df_fill[col].mode()[0]\n",
    "        train_df_fill[col] = train_df_fill[col].fillna(mode_val)\n",
    "print(\"\\nMethod 1: Filled using a loop for each column's mode:\")\n",
    "print(train_df_fill)"
   ]
  },
  {
   "cell_type": "code",
   "execution_count": 20,
   "id": "ee79a39f",
   "metadata": {
    "execution": {
     "iopub.execute_input": "2025-07-30T06:42:42.763809Z",
     "iopub.status.busy": "2025-07-30T06:42:42.763421Z",
     "iopub.status.idle": "2025-07-30T06:42:42.779156Z",
     "shell.execute_reply": "2025-07-30T06:42:42.778097Z"
    },
    "papermill": {
     "duration": 0.032949,
     "end_time": "2025-07-30T06:42:42.780896",
     "exception": false,
     "start_time": "2025-07-30T06:42:42.747947",
     "status": "completed"
    },
    "tags": []
   },
   "outputs": [
    {
     "name": "stdout",
     "output_type": "stream",
     "text": [
      "\n",
      "Method 1: Filled using a loop for each column's mode:\n",
      "      id  Time_spent_Alone Stage_fear  Social_event_attendance  Going_outside  \\\n",
      "0  18524               3.0         No                      7.0            4.0   \n",
      "1  18525               NaN        Yes                      0.0            0.0   \n",
      "2  18526               3.0         No                      5.0            6.0   \n",
      "3  18527               3.0         No                      4.0            4.0   \n",
      "4  18528               9.0        Yes                      1.0            2.0   \n",
      "5  18529               2.0         No                      5.0            3.0   \n",
      "6  18530               3.0         No                      4.0            5.0   \n",
      "7  18531              11.0        Yes                      2.0            1.0   \n",
      "8  18532               2.0         No                      6.0            NaN   \n",
      "9  18533               8.0         No                      2.0            1.0   \n",
      "\n",
      "  Drained_after_socializing  Friends_circle_size  Post_frequency  \n",
      "0                        No                  6.0             NaN  \n",
      "1                       Yes                  5.0             1.0  \n",
      "2                        No                 15.0             9.0  \n",
      "3                        No                  5.0             6.0  \n",
      "4                       Yes                  1.0             1.0  \n",
      "5                        No                 10.0             4.0  \n",
      "6                        No                 15.0             5.0  \n",
      "7                       Yes                  4.0             1.0  \n",
      "8                        No                  9.0             6.0  \n",
      "9                       Yes                  1.0             1.0  \n"
     ]
    }
   ],
   "source": [
    "test_df_fill = test_df.copy()\n",
    "for col in cat_columns:\n",
    "    if col in test_df_fill.columns: \n",
    "        mode_val = test_df_fill[col].mode()[0]\n",
    "        test_df_fill[col] = test_df_fill[col].fillna(mode_val)\n",
    "print(\"\\nMethod 1: Filled using a loop for each column's mode:\")\n",
    "print(test_df_fill.head(10))"
   ]
  },
  {
   "cell_type": "code",
   "execution_count": 21,
   "id": "66f6fed9",
   "metadata": {
    "execution": {
     "iopub.execute_input": "2025-07-30T06:42:42.807724Z",
     "iopub.status.busy": "2025-07-30T06:42:42.807370Z",
     "iopub.status.idle": "2025-07-30T06:42:42.817900Z",
     "shell.execute_reply": "2025-07-30T06:42:42.816887Z"
    },
    "papermill": {
     "duration": 0.025624,
     "end_time": "2025-07-30T06:42:42.819452",
     "exception": false,
     "start_time": "2025-07-30T06:42:42.793828",
     "status": "completed"
    },
    "tags": []
   },
   "outputs": [
    {
     "data": {
      "text/plain": [
       "Stage_fear                   0\n",
       "Drained_after_socializing    0\n",
       "dtype: int64"
      ]
     },
     "execution_count": 21,
     "metadata": {},
     "output_type": "execute_result"
    }
   ],
   "source": [
    "train_df_fill[cat_columns].isna().sum()"
   ]
  },
  {
   "cell_type": "code",
   "execution_count": 22,
   "id": "dab1852f",
   "metadata": {
    "execution": {
     "iopub.execute_input": "2025-07-30T06:42:42.847087Z",
     "iopub.status.busy": "2025-07-30T06:42:42.846775Z",
     "iopub.status.idle": "2025-07-30T06:42:42.856085Z",
     "shell.execute_reply": "2025-07-30T06:42:42.855129Z"
    },
    "papermill": {
     "duration": 0.024778,
     "end_time": "2025-07-30T06:42:42.857630",
     "exception": false,
     "start_time": "2025-07-30T06:42:42.832852",
     "status": "completed"
    },
    "tags": []
   },
   "outputs": [
    {
     "data": {
      "text/plain": [
       "Stage_fear                   0\n",
       "Drained_after_socializing    0\n",
       "dtype: int64"
      ]
     },
     "execution_count": 22,
     "metadata": {},
     "output_type": "execute_result"
    }
   ],
   "source": [
    "test_df_fill[cat_columns].isna().sum()"
   ]
  },
  {
   "cell_type": "code",
   "execution_count": 23,
   "id": "5eac6ef5",
   "metadata": {
    "execution": {
     "iopub.execute_input": "2025-07-30T06:42:42.885646Z",
     "iopub.status.busy": "2025-07-30T06:42:42.885288Z",
     "iopub.status.idle": "2025-07-30T06:42:42.891426Z",
     "shell.execute_reply": "2025-07-30T06:42:42.890456Z"
    },
    "papermill": {
     "duration": 0.022163,
     "end_time": "2025-07-30T06:42:42.892917",
     "exception": false,
     "start_time": "2025-07-30T06:42:42.870754",
     "status": "completed"
    },
    "tags": []
   },
   "outputs": [
    {
     "data": {
      "text/plain": [
       "['id',\n",
       " 'Time_spent_Alone',\n",
       " 'Social_event_attendance',\n",
       " 'Going_outside',\n",
       " 'Friends_circle_size',\n",
       " 'Post_frequency']"
      ]
     },
     "execution_count": 23,
     "metadata": {},
     "output_type": "execute_result"
    }
   ],
   "source": [
    "numerical_cols = [col for col in X.columns if col not in cat_columns]\n",
    "numerical_cols"
   ]
  },
  {
   "cell_type": "code",
   "execution_count": 24,
   "id": "e026a80f",
   "metadata": {
    "execution": {
     "iopub.execute_input": "2025-07-30T06:42:42.921240Z",
     "iopub.status.busy": "2025-07-30T06:42:42.920956Z",
     "iopub.status.idle": "2025-07-30T06:42:42.938143Z",
     "shell.execute_reply": "2025-07-30T06:42:42.936460Z"
    },
    "papermill": {
     "duration": 0.033627,
     "end_time": "2025-07-30T06:42:42.940098",
     "exception": false,
     "start_time": "2025-07-30T06:42:42.906471",
     "status": "completed"
    },
    "tags": []
   },
   "outputs": [
    {
     "name": "stdout",
     "output_type": "stream",
     "text": [
      "\n",
      "Method 1: Filled using a loop for each column's mode:\n",
      "          id  Time_spent_Alone Stage_fear  Social_event_attendance  \\\n",
      "0          0               0.0         No                      6.0   \n",
      "1          1               1.0         No                      7.0   \n",
      "2          2               6.0        Yes                      1.0   \n",
      "3          3               3.0         No                      7.0   \n",
      "4          4               1.0         No                      4.0   \n",
      "...      ...               ...        ...                      ...   \n",
      "18519  18519               3.0         No                      7.0   \n",
      "18520  18520               1.0         No                      6.0   \n",
      "18521  18521               7.0        Yes                      1.0   \n",
      "18522  18522               2.0        Yes                      1.0   \n",
      "18523  18523               1.0         No                      8.0   \n",
      "\n",
      "       Going_outside Drained_after_socializing  Friends_circle_size  \\\n",
      "0                4.0                        No                 15.0   \n",
      "1                3.0                        No                 10.0   \n",
      "2                0.0                        No                  3.0   \n",
      "3                3.0                        No                 11.0   \n",
      "4                4.0                        No                 13.0   \n",
      "...              ...                       ...                  ...   \n",
      "18519            3.0                        No                  9.0   \n",
      "18520            7.0                        No                  6.0   \n",
      "18521            1.0                       Yes                  1.0   \n",
      "18522            0.0                       Yes                  5.0   \n",
      "18523            6.0                        No                  4.0   \n",
      "\n",
      "       Post_frequency Personality  \n",
      "0                 5.0   Extrovert  \n",
      "1                 8.0   Extrovert  \n",
      "2                 0.0   Introvert  \n",
      "3                 5.0   Extrovert  \n",
      "4                 5.0   Extrovert  \n",
      "...               ...         ...  \n",
      "18519             7.0   Extrovert  \n",
      "18520             5.0   Extrovert  \n",
      "18521             5.0   Introvert  \n",
      "18522             2.0   Introvert  \n",
      "18523             7.0   Extrovert  \n",
      "\n",
      "[18524 rows x 9 columns]\n"
     ]
    }
   ],
   "source": [
    "for col in numerical_cols:\n",
    "    if col in train_df_fill.columns: # Ensure the column exists\n",
    "        # Calculate the mode for the current column. .mode()[0] handles ties by taking the first mode.\n",
    "        median_val = train_df_fill[col].median()\n",
    "        train_df_fill[col] = train_df_fill[col].fillna(median_val)\n",
    "print(\"\\nMethod 1: Filled using a loop for each column's mode:\")\n",
    "print(train_df_fill)"
   ]
  },
  {
   "cell_type": "code",
   "execution_count": 25,
   "id": "a14acb1b",
   "metadata": {
    "execution": {
     "iopub.execute_input": "2025-07-30T06:42:42.968136Z",
     "iopub.status.busy": "2025-07-30T06:42:42.967815Z",
     "iopub.status.idle": "2025-07-30T06:42:42.981430Z",
     "shell.execute_reply": "2025-07-30T06:42:42.980223Z"
    },
    "papermill": {
     "duration": 0.029571,
     "end_time": "2025-07-30T06:42:42.983100",
     "exception": false,
     "start_time": "2025-07-30T06:42:42.953529",
     "status": "completed"
    },
    "tags": []
   },
   "outputs": [
    {
     "name": "stdout",
     "output_type": "stream",
     "text": [
      "\n",
      "Method 1: Filled using a loop for each column's mode:\n",
      "      id  Time_spent_Alone Stage_fear  Social_event_attendance  Going_outside  \\\n",
      "0  18524               3.0         No                      7.0            4.0   \n",
      "1  18525               2.0        Yes                      0.0            0.0   \n",
      "2  18526               3.0         No                      5.0            6.0   \n",
      "3  18527               3.0         No                      4.0            4.0   \n",
      "4  18528               9.0        Yes                      1.0            2.0   \n",
      "\n",
      "  Drained_after_socializing  Friends_circle_size  Post_frequency  \n",
      "0                        No                  6.0             5.0  \n",
      "1                       Yes                  5.0             1.0  \n",
      "2                        No                 15.0             9.0  \n",
      "3                        No                  5.0             6.0  \n",
      "4                       Yes                  1.0             1.0  \n"
     ]
    }
   ],
   "source": [
    "for col in numerical_cols:\n",
    "    if col in test_df_fill.columns: # Ensure the column exists\n",
    "        # Calculate the mode for the current column. .mode()[0] handles ties by taking the first mode.\n",
    "        median_val = test_df_fill[col].median()\n",
    "        test_df_fill[col] = test_df_fill[col].fillna(median_val)\n",
    "print(\"\\nMethod 1: Filled using a loop for each column's mode:\")\n",
    "print(test_df_fill.head())"
   ]
  },
  {
   "cell_type": "code",
   "execution_count": 26,
   "id": "bcc6065c",
   "metadata": {
    "execution": {
     "iopub.execute_input": "2025-07-30T06:42:43.011375Z",
     "iopub.status.busy": "2025-07-30T06:42:43.011059Z",
     "iopub.status.idle": "2025-07-30T06:42:43.020461Z",
     "shell.execute_reply": "2025-07-30T06:42:43.019635Z"
    },
    "papermill": {
     "duration": 0.02557,
     "end_time": "2025-07-30T06:42:43.021983",
     "exception": false,
     "start_time": "2025-07-30T06:42:42.996413",
     "status": "completed"
    },
    "tags": []
   },
   "outputs": [
    {
     "data": {
      "text/plain": [
       "id                         0\n",
       "Time_spent_Alone           0\n",
       "Social_event_attendance    0\n",
       "Going_outside              0\n",
       "Friends_circle_size        0\n",
       "Post_frequency             0\n",
       "dtype: int64"
      ]
     },
     "execution_count": 26,
     "metadata": {},
     "output_type": "execute_result"
    }
   ],
   "source": [
    "train_df_fill[numerical_cols].isna().sum()"
   ]
  },
  {
   "cell_type": "code",
   "execution_count": 27,
   "id": "0f5395ae",
   "metadata": {
    "execution": {
     "iopub.execute_input": "2025-07-30T06:42:43.050150Z",
     "iopub.status.busy": "2025-07-30T06:42:43.049393Z",
     "iopub.status.idle": "2025-07-30T06:42:43.058171Z",
     "shell.execute_reply": "2025-07-30T06:42:43.057255Z"
    },
    "papermill": {
     "duration": 0.024392,
     "end_time": "2025-07-30T06:42:43.059693",
     "exception": false,
     "start_time": "2025-07-30T06:42:43.035301",
     "status": "completed"
    },
    "tags": []
   },
   "outputs": [
    {
     "data": {
      "text/plain": [
       "id                         0\n",
       "Time_spent_Alone           0\n",
       "Social_event_attendance    0\n",
       "Going_outside              0\n",
       "Friends_circle_size        0\n",
       "Post_frequency             0\n",
       "dtype: int64"
      ]
     },
     "execution_count": 27,
     "metadata": {},
     "output_type": "execute_result"
    }
   ],
   "source": [
    "test_df_fill[numerical_cols].isna().sum()"
   ]
  },
  {
   "cell_type": "code",
   "execution_count": 28,
   "id": "1261ca16",
   "metadata": {
    "execution": {
     "iopub.execute_input": "2025-07-30T06:42:43.088947Z",
     "iopub.status.busy": "2025-07-30T06:42:43.088612Z",
     "iopub.status.idle": "2025-07-30T06:42:43.526432Z",
     "shell.execute_reply": "2025-07-30T06:42:43.525363Z"
    },
    "papermill": {
     "duration": 0.454657,
     "end_time": "2025-07-30T06:42:43.528109",
     "exception": false,
     "start_time": "2025-07-30T06:42:43.073452",
     "status": "completed"
    },
    "tags": []
   },
   "outputs": [
    {
     "data": {
      "text/plain": [
       "<seaborn.axisgrid.FacetGrid at 0x79b24b9de390>"
      ]
     },
     "execution_count": 28,
     "metadata": {},
     "output_type": "execute_result"
    },
    {
     "data": {
      "image/png": "[encoded data removed]",
      "text/plain": [
       "<Figure size 500x500 with 1 Axes>"
      ]
     },
     "metadata": {},
     "output_type": "display_data"
    }
   ],
   "source": [
    "sns.displot(train_df_fill['Time_spent_Alone'],kde = True)"
   ]
  },
  {
   "cell_type": "code",
   "execution_count": 29,
   "id": "dd6f90fd",
   "metadata": {
    "execution": {
     "iopub.execute_input": "2025-07-30T06:42:43.558380Z",
     "iopub.status.busy": "2025-07-30T06:42:43.558037Z",
     "iopub.status.idle": "2025-07-30T06:42:43.574162Z",
     "shell.execute_reply": "2025-07-30T06:42:43.573205Z"
    },
    "papermill": {
     "duration": 0.0328,
     "end_time": "2025-07-30T06:42:43.575558",
     "exception": false,
     "start_time": "2025-07-30T06:42:43.542758",
     "status": "completed"
    },
    "tags": []
   },
   "outputs": [
    {
     "data": {
      "text/html": [
       "<div>\n",
       "<style scoped>\n",
       "    .dataframe tbody tr th:only-of-type {\n",
       "        vertical-align: middle;\n",
       "    }\n",
       "\n",
       "    .dataframe tbody tr th {\n",
       "        vertical-align: top;\n",
       "    }\n",
       "\n",
       "    .dataframe thead th {\n",
       "        text-align: right;\n",
       "    }\n",
       "</style>\n",
       "<table border=\"1\" class=\"dataframe\">\n",
       "  <thead>\n",
       "    <tr style=\"text-align: right;\">\n",
       "      <th></th>\n",
       "      <th>id</th>\n",
       "      <th>Time_spent_Alone</th>\n",
       "      <th>Stage_fear</th>\n",
       "      <th>Social_event_attendance</th>\n",
       "      <th>Going_outside</th>\n",
       "      <th>Drained_after_socializing</th>\n",
       "      <th>Friends_circle_size</th>\n",
       "      <th>Post_frequency</th>\n",
       "      <th>Personality</th>\n",
       "    </tr>\n",
       "  </thead>\n",
       "  <tbody>\n",
       "    <tr>\n",
       "      <th>0</th>\n",
       "      <td>0</td>\n",
       "      <td>0.0</td>\n",
       "      <td>No</td>\n",
       "      <td>6.0</td>\n",
       "      <td>4.0</td>\n",
       "      <td>No</td>\n",
       "      <td>15.0</td>\n",
       "      <td>5.0</td>\n",
       "      <td>Extrovert</td>\n",
       "    </tr>\n",
       "    <tr>\n",
       "      <th>1</th>\n",
       "      <td>1</td>\n",
       "      <td>1.0</td>\n",
       "      <td>No</td>\n",
       "      <td>7.0</td>\n",
       "      <td>3.0</td>\n",
       "      <td>No</td>\n",
       "      <td>10.0</td>\n",
       "      <td>8.0</td>\n",
       "      <td>Extrovert</td>\n",
       "    </tr>\n",
       "    <tr>\n",
       "      <th>2</th>\n",
       "      <td>2</td>\n",
       "      <td>6.0</td>\n",
       "      <td>Yes</td>\n",
       "      <td>1.0</td>\n",
       "      <td>0.0</td>\n",
       "      <td>No</td>\n",
       "      <td>3.0</td>\n",
       "      <td>0.0</td>\n",
       "      <td>Introvert</td>\n",
       "    </tr>\n",
       "    <tr>\n",
       "      <th>3</th>\n",
       "      <td>3</td>\n",
       "      <td>3.0</td>\n",
       "      <td>No</td>\n",
       "      <td>7.0</td>\n",
       "      <td>3.0</td>\n",
       "      <td>No</td>\n",
       "      <td>11.0</td>\n",
       "      <td>5.0</td>\n",
       "      <td>Extrovert</td>\n",
       "    </tr>\n",
       "    <tr>\n",
       "      <th>4</th>\n",
       "      <td>4</td>\n",
       "      <td>1.0</td>\n",
       "      <td>No</td>\n",
       "      <td>4.0</td>\n",
       "      <td>4.0</td>\n",
       "      <td>No</td>\n",
       "      <td>13.0</td>\n",
       "      <td>5.0</td>\n",
       "      <td>Extrovert</td>\n",
       "    </tr>\n",
       "    <tr>\n",
       "      <th>5</th>\n",
       "      <td>5</td>\n",
       "      <td>2.0</td>\n",
       "      <td>No</td>\n",
       "      <td>8.0</td>\n",
       "      <td>5.0</td>\n",
       "      <td>No</td>\n",
       "      <td>8.0</td>\n",
       "      <td>3.0</td>\n",
       "      <td>Extrovert</td>\n",
       "    </tr>\n",
       "    <tr>\n",
       "      <th>6</th>\n",
       "      <td>6</td>\n",
       "      <td>1.0</td>\n",
       "      <td>No</td>\n",
       "      <td>8.0</td>\n",
       "      <td>4.0</td>\n",
       "      <td>No</td>\n",
       "      <td>8.0</td>\n",
       "      <td>4.0</td>\n",
       "      <td>Extrovert</td>\n",
       "    </tr>\n",
       "    <tr>\n",
       "      <th>7</th>\n",
       "      <td>7</td>\n",
       "      <td>2.0</td>\n",
       "      <td>No</td>\n",
       "      <td>8.0</td>\n",
       "      <td>3.0</td>\n",
       "      <td>No</td>\n",
       "      <td>4.0</td>\n",
       "      <td>5.0</td>\n",
       "      <td>Extrovert</td>\n",
       "    </tr>\n",
       "    <tr>\n",
       "      <th>8</th>\n",
       "      <td>8</td>\n",
       "      <td>4.0</td>\n",
       "      <td>Yes</td>\n",
       "      <td>2.0</td>\n",
       "      <td>1.0</td>\n",
       "      <td>No</td>\n",
       "      <td>0.0</td>\n",
       "      <td>2.0</td>\n",
       "      <td>Introvert</td>\n",
       "    </tr>\n",
       "    <tr>\n",
       "      <th>9</th>\n",
       "      <td>9</td>\n",
       "      <td>1.0</td>\n",
       "      <td>No</td>\n",
       "      <td>8.0</td>\n",
       "      <td>6.0</td>\n",
       "      <td>No</td>\n",
       "      <td>14.0</td>\n",
       "      <td>9.0</td>\n",
       "      <td>Extrovert</td>\n",
       "    </tr>\n",
       "  </tbody>\n",
       "</table>\n",
       "</div>"
      ],
      "text/plain": [
       "   id  Time_spent_Alone Stage_fear  Social_event_attendance  Going_outside  \\\n",
       "0   0               0.0         No                      6.0            4.0   \n",
       "1   1               1.0         No                      7.0            3.0   \n",
       "2   2               6.0        Yes                      1.0            0.0   \n",
       "3   3               3.0         No                      7.0            3.0   \n",
       "4   4               1.0         No                      4.0            4.0   \n",
       "5   5               2.0         No                      8.0            5.0   \n",
       "6   6               1.0         No                      8.0            4.0   \n",
       "7   7               2.0         No                      8.0            3.0   \n",
       "8   8               4.0        Yes                      2.0            1.0   \n",
       "9   9               1.0         No                      8.0            6.0   \n",
       "\n",
       "  Drained_after_socializing  Friends_circle_size  Post_frequency Personality  \n",
       "0                        No                 15.0             5.0   Extrovert  \n",
       "1                        No                 10.0             8.0   Extrovert  \n",
       "2                        No                  3.0             0.0   Introvert  \n",
       "3                        No                 11.0             5.0   Extrovert  \n",
       "4                        No                 13.0             5.0   Extrovert  \n",
       "5                        No                  8.0             3.0   Extrovert  \n",
       "6                        No                  8.0             4.0   Extrovert  \n",
       "7                        No                  4.0             5.0   Extrovert  \n",
       "8                        No                  0.0             2.0   Introvert  \n",
       "9                        No                 14.0             9.0   Extrovert  "
      ]
     },
     "execution_count": 29,
     "metadata": {},
     "output_type": "execute_result"
    }
   ],
   "source": [
    "train_df_fill.head(10)"
   ]
  },
  {
   "cell_type": "code",
   "execution_count": 30,
   "id": "d4e8d18a",
   "metadata": {
    "execution": {
     "iopub.execute_input": "2025-07-30T06:42:43.606443Z",
     "iopub.status.busy": "2025-07-30T06:42:43.606080Z",
     "iopub.status.idle": "2025-07-30T06:42:43.620793Z",
     "shell.execute_reply": "2025-07-30T06:42:43.619579Z"
    },
    "papermill": {
     "duration": 0.032294,
     "end_time": "2025-07-30T06:42:43.622513",
     "exception": false,
     "start_time": "2025-07-30T06:42:43.590219",
     "status": "completed"
    },
    "tags": []
   },
   "outputs": [
    {
     "data": {
      "text/html": [
       "<div>\n",
       "<style scoped>\n",
       "    .dataframe tbody tr th:only-of-type {\n",
       "        vertical-align: middle;\n",
       "    }\n",
       "\n",
       "    .dataframe tbody tr th {\n",
       "        vertical-align: top;\n",
       "    }\n",
       "\n",
       "    .dataframe thead th {\n",
       "        text-align: right;\n",
       "    }\n",
       "</style>\n",
       "<table border=\"1\" class=\"dataframe\">\n",
       "  <thead>\n",
       "    <tr style=\"text-align: right;\">\n",
       "      <th></th>\n",
       "      <th>id</th>\n",
       "      <th>Time_spent_Alone</th>\n",
       "      <th>Stage_fear</th>\n",
       "      <th>Social_event_attendance</th>\n",
       "      <th>Going_outside</th>\n",
       "      <th>Drained_after_socializing</th>\n",
       "      <th>Friends_circle_size</th>\n",
       "      <th>Post_frequency</th>\n",
       "    </tr>\n",
       "  </thead>\n",
       "  <tbody>\n",
       "    <tr>\n",
       "      <th>0</th>\n",
       "      <td>18524</td>\n",
       "      <td>3.0</td>\n",
       "      <td>No</td>\n",
       "      <td>7.0</td>\n",
       "      <td>4.0</td>\n",
       "      <td>No</td>\n",
       "      <td>6.0</td>\n",
       "      <td>5.0</td>\n",
       "    </tr>\n",
       "    <tr>\n",
       "      <th>1</th>\n",
       "      <td>18525</td>\n",
       "      <td>2.0</td>\n",
       "      <td>Yes</td>\n",
       "      <td>0.0</td>\n",
       "      <td>0.0</td>\n",
       "      <td>Yes</td>\n",
       "      <td>5.0</td>\n",
       "      <td>1.0</td>\n",
       "    </tr>\n",
       "    <tr>\n",
       "      <th>2</th>\n",
       "      <td>18526</td>\n",
       "      <td>3.0</td>\n",
       "      <td>No</td>\n",
       "      <td>5.0</td>\n",
       "      <td>6.0</td>\n",
       "      <td>No</td>\n",
       "      <td>15.0</td>\n",
       "      <td>9.0</td>\n",
       "    </tr>\n",
       "    <tr>\n",
       "      <th>3</th>\n",
       "      <td>18527</td>\n",
       "      <td>3.0</td>\n",
       "      <td>No</td>\n",
       "      <td>4.0</td>\n",
       "      <td>4.0</td>\n",
       "      <td>No</td>\n",
       "      <td>5.0</td>\n",
       "      <td>6.0</td>\n",
       "    </tr>\n",
       "    <tr>\n",
       "      <th>4</th>\n",
       "      <td>18528</td>\n",
       "      <td>9.0</td>\n",
       "      <td>Yes</td>\n",
       "      <td>1.0</td>\n",
       "      <td>2.0</td>\n",
       "      <td>Yes</td>\n",
       "      <td>1.0</td>\n",
       "      <td>1.0</td>\n",
       "    </tr>\n",
       "  </tbody>\n",
       "</table>\n",
       "</div>"
      ],
      "text/plain": [
       "      id  Time_spent_Alone Stage_fear  Social_event_attendance  Going_outside  \\\n",
       "0  18524               3.0         No                      7.0            4.0   \n",
       "1  18525               2.0        Yes                      0.0            0.0   \n",
       "2  18526               3.0         No                      5.0            6.0   \n",
       "3  18527               3.0         No                      4.0            4.0   \n",
       "4  18528               9.0        Yes                      1.0            2.0   \n",
       "\n",
       "  Drained_after_socializing  Friends_circle_size  Post_frequency  \n",
       "0                        No                  6.0             5.0  \n",
       "1                       Yes                  5.0             1.0  \n",
       "2                        No                 15.0             9.0  \n",
       "3                        No                  5.0             6.0  \n",
       "4                       Yes                  1.0             1.0  "
      ]
     },
     "execution_count": 30,
     "metadata": {},
     "output_type": "execute_result"
    }
   ],
   "source": [
    "test_df_fill.head()"
   ]
  },
  {
   "cell_type": "code",
   "execution_count": 31,
   "id": "0c63a2aa",
   "metadata": {
    "execution": {
     "iopub.execute_input": "2025-07-30T06:42:43.653046Z",
     "iopub.status.busy": "2025-07-30T06:42:43.652672Z",
     "iopub.status.idle": "2025-07-30T06:42:43.665218Z",
     "shell.execute_reply": "2025-07-30T06:42:43.664181Z"
    },
    "papermill": {
     "duration": 0.02985,
     "end_time": "2025-07-30T06:42:43.666976",
     "exception": false,
     "start_time": "2025-07-30T06:42:43.637126",
     "status": "completed"
    },
    "tags": []
   },
   "outputs": [
    {
     "data": {
      "text/plain": [
       "id                              0\n",
       "Time_spent_Alone             1190\n",
       "Stage_fear                   1893\n",
       "Social_event_attendance      1180\n",
       "Going_outside                1466\n",
       "Drained_after_socializing    1149\n",
       "Friends_circle_size          1054\n",
       "Post_frequency               1264\n",
       "Personality                     0\n",
       "dtype: int64"
      ]
     },
     "execution_count": 31,
     "metadata": {},
     "output_type": "execute_result"
    }
   ],
   "source": [
    "train_df.isnull().sum()"
   ]
  },
  {
   "cell_type": "code",
   "execution_count": null,
   "id": "14d68586",
   "metadata": {
    "papermill": {
     "duration": 0.014409,
     "end_time": "2025-07-30T06:42:43.696061",
     "exception": false,
     "start_time": "2025-07-30T06:42:43.681652",
     "status": "completed"
    },
    "tags": []
   },
   "outputs": [],
   "source": []
  },
  {
   "cell_type": "code",
   "execution_count": 32,
   "id": "e8856a93",
   "metadata": {
    "execution": {
     "iopub.execute_input": "2025-07-30T06:42:43.726452Z",
     "iopub.status.busy": "2025-07-30T06:42:43.726091Z",
     "iopub.status.idle": "2025-07-30T06:42:43.734915Z",
     "shell.execute_reply": "2025-07-30T06:42:43.734002Z"
    },
    "papermill": {
     "duration": 0.025558,
     "end_time": "2025-07-30T06:42:43.736328",
     "exception": false,
     "start_time": "2025-07-30T06:42:43.710770",
     "status": "completed"
    },
    "tags": []
   },
   "outputs": [
    {
     "data": {
      "text/plain": [
       "id                             0\n",
       "Time_spent_Alone             425\n",
       "Stage_fear                   598\n",
       "Social_event_attendance      397\n",
       "Going_outside                466\n",
       "Drained_after_socializing    432\n",
       "Friends_circle_size          350\n",
       "Post_frequency               408\n",
       "dtype: int64"
      ]
     },
     "execution_count": 32,
     "metadata": {},
     "output_type": "execute_result"
    }
   ],
   "source": [
    "test_df.isnull().sum()"
   ]
  },
  {
   "cell_type": "code",
   "execution_count": 33,
   "id": "4b8ac982",
   "metadata": {
    "execution": {
     "iopub.execute_input": "2025-07-30T06:42:43.767685Z",
     "iopub.status.busy": "2025-07-30T06:42:43.766774Z",
     "iopub.status.idle": "2025-07-30T06:42:43.771238Z",
     "shell.execute_reply": "2025-07-30T06:42:43.770318Z"
    },
    "papermill": {
     "duration": 0.021699,
     "end_time": "2025-07-30T06:42:43.772944",
     "exception": false,
     "start_time": "2025-07-30T06:42:43.751245",
     "status": "completed"
    },
    "tags": []
   },
   "outputs": [],
   "source": [
    "lenc = LabelEncoder()"
   ]
  },
  {
   "cell_type": "code",
   "execution_count": 34,
   "id": "efeb4cf4",
   "metadata": {
    "execution": {
     "iopub.execute_input": "2025-07-30T06:42:43.803566Z",
     "iopub.status.busy": "2025-07-30T06:42:43.803227Z",
     "iopub.status.idle": "2025-07-30T06:42:43.819837Z",
     "shell.execute_reply": "2025-07-30T06:42:43.818941Z"
    },
    "papermill": {
     "duration": 0.033673,
     "end_time": "2025-07-30T06:42:43.821325",
     "exception": false,
     "start_time": "2025-07-30T06:42:43.787652",
     "status": "completed"
    },
    "tags": []
   },
   "outputs": [],
   "source": [
    "for i in cat_columns:\n",
    "    train_df_fill[i] = lenc.fit_transform(train_df_fill[i])\n",
    "train_df_fill['Personality'] = lenc.fit_transform(train_df_fill['Personality'])"
   ]
  },
  {
   "cell_type": "code",
   "execution_count": 35,
   "id": "a4f73aa2",
   "metadata": {
    "execution": {
     "iopub.execute_input": "2025-07-30T06:42:43.851318Z",
     "iopub.status.busy": "2025-07-30T06:42:43.851031Z",
     "iopub.status.idle": "2025-07-30T06:42:43.865616Z",
     "shell.execute_reply": "2025-07-30T06:42:43.864238Z"
    },
    "papermill": {
     "duration": 0.031498,
     "end_time": "2025-07-30T06:42:43.867300",
     "exception": false,
     "start_time": "2025-07-30T06:42:43.835802",
     "status": "completed"
    },
    "tags": []
   },
   "outputs": [
    {
     "data": {
      "text/html": [
       "<div>\n",
       "<style scoped>\n",
       "    .dataframe tbody tr th:only-of-type {\n",
       "        vertical-align: middle;\n",
       "    }\n",
       "\n",
       "    .dataframe tbody tr th {\n",
       "        vertical-align: top;\n",
       "    }\n",
       "\n",
       "    .dataframe thead th {\n",
       "        text-align: right;\n",
       "    }\n",
       "</style>\n",
       "<table border=\"1\" class=\"dataframe\">\n",
       "  <thead>\n",
       "    <tr style=\"text-align: right;\">\n",
       "      <th></th>\n",
       "      <th>id</th>\n",
       "      <th>Time_spent_Alone</th>\n",
       "      <th>Stage_fear</th>\n",
       "      <th>Social_event_attendance</th>\n",
       "      <th>Going_outside</th>\n",
       "      <th>Drained_after_socializing</th>\n",
       "      <th>Friends_circle_size</th>\n",
       "      <th>Post_frequency</th>\n",
       "      <th>Personality</th>\n",
       "    </tr>\n",
       "  </thead>\n",
       "  <tbody>\n",
       "    <tr>\n",
       "      <th>0</th>\n",
       "      <td>0</td>\n",
       "      <td>0.0</td>\n",
       "      <td>0</td>\n",
       "      <td>6.0</td>\n",
       "      <td>4.0</td>\n",
       "      <td>0</td>\n",
       "      <td>15.0</td>\n",
       "      <td>5.0</td>\n",
       "      <td>0</td>\n",
       "    </tr>\n",
       "    <tr>\n",
       "      <th>1</th>\n",
       "      <td>1</td>\n",
       "      <td>1.0</td>\n",
       "      <td>0</td>\n",
       "      <td>7.0</td>\n",
       "      <td>3.0</td>\n",
       "      <td>0</td>\n",
       "      <td>10.0</td>\n",
       "      <td>8.0</td>\n",
       "      <td>0</td>\n",
       "    </tr>\n",
       "    <tr>\n",
       "      <th>2</th>\n",
       "      <td>2</td>\n",
       "      <td>6.0</td>\n",
       "      <td>1</td>\n",
       "      <td>1.0</td>\n",
       "      <td>0.0</td>\n",
       "      <td>0</td>\n",
       "      <td>3.0</td>\n",
       "      <td>0.0</td>\n",
       "      <td>1</td>\n",
       "    </tr>\n",
       "    <tr>\n",
       "      <th>3</th>\n",
       "      <td>3</td>\n",
       "      <td>3.0</td>\n",
       "      <td>0</td>\n",
       "      <td>7.0</td>\n",
       "      <td>3.0</td>\n",
       "      <td>0</td>\n",
       "      <td>11.0</td>\n",
       "      <td>5.0</td>\n",
       "      <td>0</td>\n",
       "    </tr>\n",
       "    <tr>\n",
       "      <th>4</th>\n",
       "      <td>4</td>\n",
       "      <td>1.0</td>\n",
       "      <td>0</td>\n",
       "      <td>4.0</td>\n",
       "      <td>4.0</td>\n",
       "      <td>0</td>\n",
       "      <td>13.0</td>\n",
       "      <td>5.0</td>\n",
       "      <td>0</td>\n",
       "    </tr>\n",
       "  </tbody>\n",
       "</table>\n",
       "</div>"
      ],
      "text/plain": [
       "   id  Time_spent_Alone  Stage_fear  Social_event_attendance  Going_outside  \\\n",
       "0   0               0.0           0                      6.0            4.0   \n",
       "1   1               1.0           0                      7.0            3.0   \n",
       "2   2               6.0           1                      1.0            0.0   \n",
       "3   3               3.0           0                      7.0            3.0   \n",
       "4   4               1.0           0                      4.0            4.0   \n",
       "\n",
       "   Drained_after_socializing  Friends_circle_size  Post_frequency  Personality  \n",
       "0                          0                 15.0             5.0            0  \n",
       "1                          0                 10.0             8.0            0  \n",
       "2                          0                  3.0             0.0            1  \n",
       "3                          0                 11.0             5.0            0  \n",
       "4                          0                 13.0             5.0            0  "
      ]
     },
     "execution_count": 35,
     "metadata": {},
     "output_type": "execute_result"
    }
   ],
   "source": [
    "train_df_fill.head()"
   ]
  },
  {
   "cell_type": "code",
   "execution_count": 36,
   "id": "368d9faf",
   "metadata": {
    "execution": {
     "iopub.execute_input": "2025-07-30T06:42:43.898874Z",
     "iopub.status.busy": "2025-07-30T06:42:43.897872Z",
     "iopub.status.idle": "2025-07-30T06:42:43.906051Z",
     "shell.execute_reply": "2025-07-30T06:42:43.905150Z"
    },
    "papermill": {
     "duration": 0.025599,
     "end_time": "2025-07-30T06:42:43.907832",
     "exception": false,
     "start_time": "2025-07-30T06:42:43.882233",
     "status": "completed"
    },
    "tags": []
   },
   "outputs": [],
   "source": [
    "for i in cat_columns:\n",
    "    test_df_fill[i] = lenc.fit_transform(test_df_fill[i])\n",
    "#test_df_fill['Personality'] = lenc.fit_transform(test_df_fill['Personality'])"
   ]
  },
  {
   "cell_type": "code",
   "execution_count": 37,
   "id": "ef26629f",
   "metadata": {
    "execution": {
     "iopub.execute_input": "2025-07-30T06:42:43.938375Z",
     "iopub.status.busy": "2025-07-30T06:42:43.937587Z",
     "iopub.status.idle": "2025-07-30T06:42:43.953076Z",
     "shell.execute_reply": "2025-07-30T06:42:43.952112Z"
    },
    "papermill": {
     "duration": 0.033027,
     "end_time": "2025-07-30T06:42:43.955323",
     "exception": false,
     "start_time": "2025-07-30T06:42:43.922296",
     "status": "completed"
    },
    "tags": []
   },
   "outputs": [
    {
     "data": {
      "text/html": [
       "<div>\n",
       "<style scoped>\n",
       "    .dataframe tbody tr th:only-of-type {\n",
       "        vertical-align: middle;\n",
       "    }\n",
       "\n",
       "    .dataframe tbody tr th {\n",
       "        vertical-align: top;\n",
       "    }\n",
       "\n",
       "    .dataframe thead th {\n",
       "        text-align: right;\n",
       "    }\n",
       "</style>\n",
       "<table border=\"1\" class=\"dataframe\">\n",
       "  <thead>\n",
       "    <tr style=\"text-align: right;\">\n",
       "      <th></th>\n",
       "      <th>id</th>\n",
       "      <th>Time_spent_Alone</th>\n",
       "      <th>Stage_fear</th>\n",
       "      <th>Social_event_attendance</th>\n",
       "      <th>Going_outside</th>\n",
       "      <th>Drained_after_socializing</th>\n",
       "      <th>Friends_circle_size</th>\n",
       "      <th>Post_frequency</th>\n",
       "    </tr>\n",
       "  </thead>\n",
       "  <tbody>\n",
       "    <tr>\n",
       "      <th>0</th>\n",
       "      <td>0</td>\n",
       "      <td>0.0</td>\n",
       "      <td>0</td>\n",
       "      <td>6.0</td>\n",
       "      <td>4.0</td>\n",
       "      <td>0</td>\n",
       "      <td>15.0</td>\n",
       "      <td>5.0</td>\n",
       "    </tr>\n",
       "    <tr>\n",
       "      <th>1</th>\n",
       "      <td>1</td>\n",
       "      <td>1.0</td>\n",
       "      <td>0</td>\n",
       "      <td>7.0</td>\n",
       "      <td>3.0</td>\n",
       "      <td>0</td>\n",
       "      <td>10.0</td>\n",
       "      <td>8.0</td>\n",
       "    </tr>\n",
       "    <tr>\n",
       "      <th>2</th>\n",
       "      <td>2</td>\n",
       "      <td>6.0</td>\n",
       "      <td>1</td>\n",
       "      <td>1.0</td>\n",
       "      <td>0.0</td>\n",
       "      <td>0</td>\n",
       "      <td>3.0</td>\n",
       "      <td>0.0</td>\n",
       "    </tr>\n",
       "    <tr>\n",
       "      <th>3</th>\n",
       "      <td>3</td>\n",
       "      <td>3.0</td>\n",
       "      <td>0</td>\n",
       "      <td>7.0</td>\n",
       "      <td>3.0</td>\n",
       "      <td>0</td>\n",
       "      <td>11.0</td>\n",
       "      <td>5.0</td>\n",
       "    </tr>\n",
       "    <tr>\n",
       "      <th>4</th>\n",
       "      <td>4</td>\n",
       "      <td>1.0</td>\n",
       "      <td>0</td>\n",
       "      <td>4.0</td>\n",
       "      <td>4.0</td>\n",
       "      <td>0</td>\n",
       "      <td>13.0</td>\n",
       "      <td>5.0</td>\n",
       "    </tr>\n",
       "  </tbody>\n",
       "</table>\n",
       "</div>"
      ],
      "text/plain": [
       "   id  Time_spent_Alone  Stage_fear  Social_event_attendance  Going_outside  \\\n",
       "0   0               0.0           0                      6.0            4.0   \n",
       "1   1               1.0           0                      7.0            3.0   \n",
       "2   2               6.0           1                      1.0            0.0   \n",
       "3   3               3.0           0                      7.0            3.0   \n",
       "4   4               1.0           0                      4.0            4.0   \n",
       "\n",
       "   Drained_after_socializing  Friends_circle_size  Post_frequency  \n",
       "0                          0                 15.0             5.0  \n",
       "1                          0                 10.0             8.0  \n",
       "2                          0                  3.0             0.0  \n",
       "3                          0                 11.0             5.0  \n",
       "4                          0                 13.0             5.0  "
      ]
     },
     "execution_count": 37,
     "metadata": {},
     "output_type": "execute_result"
    }
   ],
   "source": [
    "X_train_df = train_df_fill.iloc[:, :-1]\n",
    "X_train_df.head()"
   ]
  },
  {
   "cell_type": "code",
   "execution_count": 38,
   "id": "ccd41a8a",
   "metadata": {
    "execution": {
     "iopub.execute_input": "2025-07-30T06:42:43.989237Z",
     "iopub.status.busy": "2025-07-30T06:42:43.988751Z",
     "iopub.status.idle": "2025-07-30T06:42:44.035042Z",
     "shell.execute_reply": "2025-07-30T06:42:44.033813Z"
    },
    "papermill": {
     "duration": 0.064992,
     "end_time": "2025-07-30T06:42:44.036970",
     "exception": false,
     "start_time": "2025-07-30T06:42:43.971978",
     "status": "completed"
    },
    "tags": []
   },
   "outputs": [
    {
     "name": "stdout",
     "output_type": "stream",
     "text": [
      "         id  Time_spent_Alone  Stage_fear  Social_event_attendance  \\\n",
      "0 -1.731957         -1.049913           0                 0.282102   \n",
      "1 -1.731770         -0.707327           0                 0.657346   \n",
      "2 -1.731583          1.005601           1                -1.594120   \n",
      "3 -1.731396         -0.022156           0                 0.657346   \n",
      "4 -1.731209         -0.707327           0                -0.468387   \n",
      "\n",
      "   Going_outside  Drained_after_socializing  Friends_circle_size  \\\n",
      "0      -0.020620                          0             1.707463   \n",
      "1      -0.525859                          0             0.488383   \n",
      "2      -2.041578                          0            -1.218331   \n",
      "3      -0.525859                          0             0.732199   \n",
      "4      -0.020620                          0             1.219831   \n",
      "\n",
      "   Post_frequency  \n",
      "0        0.006002  \n",
      "1        1.085490  \n",
      "2       -1.793144  \n",
      "3        0.006002  \n",
      "4        0.006002  \n"
     ]
    }
   ],
   "source": [
    "from sklearn.preprocessing import StandardScaler\n",
    "X_train_df[numerical_cols] = StandardScaler().fit_transform(X_train_df[numerical_cols])\n",
    "test_df_fill[numerical_cols] = StandardScaler().fit_transform(test_df_fill[numerical_cols])\n",
    "print(X_train_df.head())"
   ]
  },
  {
   "cell_type": "code",
   "execution_count": null,
   "id": "63c0746b",
   "metadata": {
    "papermill": {
     "duration": 0.014918,
     "end_time": "2025-07-30T06:42:44.067816",
     "exception": false,
     "start_time": "2025-07-30T06:42:44.052898",
     "status": "completed"
    },
    "tags": []
   },
   "outputs": [],
   "source": []
  },
  {
   "cell_type": "code",
   "execution_count": 39,
   "id": "adc87475",
   "metadata": {
    "execution": {
     "iopub.execute_input": "2025-07-30T06:42:44.099625Z",
     "iopub.status.busy": "2025-07-30T06:42:44.099235Z",
     "iopub.status.idle": "2025-07-30T06:42:44.112907Z",
     "shell.execute_reply": "2025-07-30T06:42:44.111753Z"
    },
    "papermill": {
     "duration": 0.031511,
     "end_time": "2025-07-30T06:42:44.114540",
     "exception": false,
     "start_time": "2025-07-30T06:42:44.083029",
     "status": "completed"
    },
    "tags": []
   },
   "outputs": [
    {
     "data": {
      "text/html": [
       "<div>\n",
       "<style scoped>\n",
       "    .dataframe tbody tr th:only-of-type {\n",
       "        vertical-align: middle;\n",
       "    }\n",
       "\n",
       "    .dataframe tbody tr th {\n",
       "        vertical-align: top;\n",
       "    }\n",
       "\n",
       "    .dataframe thead th {\n",
       "        text-align: right;\n",
       "    }\n",
       "</style>\n",
       "<table border=\"1\" class=\"dataframe\">\n",
       "  <thead>\n",
       "    <tr style=\"text-align: right;\">\n",
       "      <th></th>\n",
       "      <th>Time_spent_Alone</th>\n",
       "      <th>Stage_fear</th>\n",
       "      <th>Social_event_attendance</th>\n",
       "      <th>Going_outside</th>\n",
       "      <th>Drained_after_socializing</th>\n",
       "      <th>Friends_circle_size</th>\n",
       "      <th>Post_frequency</th>\n",
       "    </tr>\n",
       "  </thead>\n",
       "  <tbody>\n",
       "    <tr>\n",
       "      <th>0</th>\n",
       "      <td>-1.049913</td>\n",
       "      <td>0</td>\n",
       "      <td>0.282102</td>\n",
       "      <td>-0.020620</td>\n",
       "      <td>0</td>\n",
       "      <td>1.707463</td>\n",
       "      <td>0.006002</td>\n",
       "    </tr>\n",
       "    <tr>\n",
       "      <th>1</th>\n",
       "      <td>-0.707327</td>\n",
       "      <td>0</td>\n",
       "      <td>0.657346</td>\n",
       "      <td>-0.525859</td>\n",
       "      <td>0</td>\n",
       "      <td>0.488383</td>\n",
       "      <td>1.085490</td>\n",
       "    </tr>\n",
       "    <tr>\n",
       "      <th>2</th>\n",
       "      <td>1.005601</td>\n",
       "      <td>1</td>\n",
       "      <td>-1.594120</td>\n",
       "      <td>-2.041578</td>\n",
       "      <td>0</td>\n",
       "      <td>-1.218331</td>\n",
       "      <td>-1.793144</td>\n",
       "    </tr>\n",
       "    <tr>\n",
       "      <th>3</th>\n",
       "      <td>-0.022156</td>\n",
       "      <td>0</td>\n",
       "      <td>0.657346</td>\n",
       "      <td>-0.525859</td>\n",
       "      <td>0</td>\n",
       "      <td>0.732199</td>\n",
       "      <td>0.006002</td>\n",
       "    </tr>\n",
       "    <tr>\n",
       "      <th>4</th>\n",
       "      <td>-0.707327</td>\n",
       "      <td>0</td>\n",
       "      <td>-0.468387</td>\n",
       "      <td>-0.020620</td>\n",
       "      <td>0</td>\n",
       "      <td>1.219831</td>\n",
       "      <td>0.006002</td>\n",
       "    </tr>\n",
       "  </tbody>\n",
       "</table>\n",
       "</div>"
      ],
      "text/plain": [
       "   Time_spent_Alone  Stage_fear  Social_event_attendance  Going_outside  \\\n",
       "0         -1.049913           0                 0.282102      -0.020620   \n",
       "1         -0.707327           0                 0.657346      -0.525859   \n",
       "2          1.005601           1                -1.594120      -2.041578   \n",
       "3         -0.022156           0                 0.657346      -0.525859   \n",
       "4         -0.707327           0                -0.468387      -0.020620   \n",
       "\n",
       "   Drained_after_socializing  Friends_circle_size  Post_frequency  \n",
       "0                          0             1.707463        0.006002  \n",
       "1                          0             0.488383        1.085490  \n",
       "2                          0            -1.218331       -1.793144  \n",
       "3                          0             0.732199        0.006002  \n",
       "4                          0             1.219831        0.006002  "
      ]
     },
     "execution_count": 39,
     "metadata": {},
     "output_type": "execute_result"
    }
   ],
   "source": [
    "X_train_df.drop('id',axis=1,inplace=True)\n",
    "X_train_df.head()"
   ]
  },
  {
   "cell_type": "code",
   "execution_count": 40,
   "id": "f7d21d34",
   "metadata": {
    "execution": {
     "iopub.execute_input": "2025-07-30T06:42:44.146016Z",
     "iopub.status.busy": "2025-07-30T06:42:44.145675Z",
     "iopub.status.idle": "2025-07-30T06:42:44.153109Z",
     "shell.execute_reply": "2025-07-30T06:42:44.152066Z"
    },
    "papermill": {
     "duration": 0.025254,
     "end_time": "2025-07-30T06:42:44.154699",
     "exception": false,
     "start_time": "2025-07-30T06:42:44.129445",
     "status": "completed"
    },
    "tags": []
   },
   "outputs": [
    {
     "data": {
      "text/plain": [
       "0    0\n",
       "1    0\n",
       "2    1\n",
       "3    0\n",
       "4    0\n",
       "Name: Personality, dtype: int64"
      ]
     },
     "execution_count": 40,
     "metadata": {},
     "output_type": "execute_result"
    }
   ],
   "source": [
    "y_train_df = train_df_fill.iloc[:,-1]\n",
    "y_train_df.head()"
   ]
  },
  {
   "cell_type": "code",
   "execution_count": 41,
   "id": "59b25ad6",
   "metadata": {
    "execution": {
     "iopub.execute_input": "2025-07-30T06:42:44.187238Z",
     "iopub.status.busy": "2025-07-30T06:42:44.186927Z",
     "iopub.status.idle": "2025-07-30T06:42:44.201415Z",
     "shell.execute_reply": "2025-07-30T06:42:44.200287Z"
    },
    "papermill": {
     "duration": 0.033008,
     "end_time": "2025-07-30T06:42:44.202982",
     "exception": false,
     "start_time": "2025-07-30T06:42:44.169974",
     "status": "completed"
    },
    "tags": []
   },
   "outputs": [
    {
     "data": {
      "text/html": [
       "<div>\n",
       "<style scoped>\n",
       "    .dataframe tbody tr th:only-of-type {\n",
       "        vertical-align: middle;\n",
       "    }\n",
       "\n",
       "    .dataframe tbody tr th {\n",
       "        vertical-align: top;\n",
       "    }\n",
       "\n",
       "    .dataframe thead th {\n",
       "        text-align: right;\n",
       "    }\n",
       "</style>\n",
       "<table border=\"1\" class=\"dataframe\">\n",
       "  <thead>\n",
       "    <tr style=\"text-align: right;\">\n",
       "      <th></th>\n",
       "      <th>Time_spent_Alone</th>\n",
       "      <th>Stage_fear</th>\n",
       "      <th>Social_event_attendance</th>\n",
       "      <th>Going_outside</th>\n",
       "      <th>Drained_after_socializing</th>\n",
       "      <th>Friends_circle_size</th>\n",
       "      <th>Post_frequency</th>\n",
       "    </tr>\n",
       "  </thead>\n",
       "  <tbody>\n",
       "    <tr>\n",
       "      <th>0</th>\n",
       "      <td>-0.013818</td>\n",
       "      <td>0</td>\n",
       "      <td>0.648471</td>\n",
       "      <td>-0.017789</td>\n",
       "      <td>0</td>\n",
       "      <td>-0.493132</td>\n",
       "      <td>-0.009761</td>\n",
       "    </tr>\n",
       "    <tr>\n",
       "      <th>1</th>\n",
       "      <td>-0.359281</td>\n",
       "      <td>1</td>\n",
       "      <td>-1.974603</td>\n",
       "      <td>-2.051989</td>\n",
       "      <td>1</td>\n",
       "      <td>-0.738724</td>\n",
       "      <td>-1.453434</td>\n",
       "    </tr>\n",
       "    <tr>\n",
       "      <th>2</th>\n",
       "      <td>-0.013818</td>\n",
       "      <td>0</td>\n",
       "      <td>-0.100979</td>\n",
       "      <td>0.999311</td>\n",
       "      <td>0</td>\n",
       "      <td>1.717194</td>\n",
       "      <td>1.433912</td>\n",
       "    </tr>\n",
       "    <tr>\n",
       "      <th>3</th>\n",
       "      <td>-0.013818</td>\n",
       "      <td>0</td>\n",
       "      <td>-0.475703</td>\n",
       "      <td>-0.017789</td>\n",
       "      <td>0</td>\n",
       "      <td>-0.738724</td>\n",
       "      <td>0.351157</td>\n",
       "    </tr>\n",
       "    <tr>\n",
       "      <th>4</th>\n",
       "      <td>2.058955</td>\n",
       "      <td>1</td>\n",
       "      <td>-1.599878</td>\n",
       "      <td>-1.034889</td>\n",
       "      <td>1</td>\n",
       "      <td>-1.721091</td>\n",
       "      <td>-1.453434</td>\n",
       "    </tr>\n",
       "  </tbody>\n",
       "</table>\n",
       "</div>"
      ],
      "text/plain": [
       "   Time_spent_Alone  Stage_fear  Social_event_attendance  Going_outside  \\\n",
       "0         -0.013818           0                 0.648471      -0.017789   \n",
       "1         -0.359281           1                -1.974603      -2.051989   \n",
       "2         -0.013818           0                -0.100979       0.999311   \n",
       "3         -0.013818           0                -0.475703      -0.017789   \n",
       "4          2.058955           1                -1.599878      -1.034889   \n",
       "\n",
       "   Drained_after_socializing  Friends_circle_size  Post_frequency  \n",
       "0                          0            -0.493132       -0.009761  \n",
       "1                          1            -0.738724       -1.453434  \n",
       "2                          0             1.717194        1.433912  \n",
       "3                          0            -0.738724        0.351157  \n",
       "4                          1            -1.721091       -1.453434  "
      ]
     },
     "execution_count": 41,
     "metadata": {},
     "output_type": "execute_result"
    }
   ],
   "source": [
    "X_test = test_df_fill.copy()\n",
    "X_test.drop('id',axis=1,inplace=True)\n",
    "X_test.head()"
   ]
  },
  {
   "cell_type": "code",
   "execution_count": null,
   "id": "3bc05043",
   "metadata": {
    "papermill": {
     "duration": 0.015362,
     "end_time": "2025-07-30T06:42:44.234073",
     "exception": false,
     "start_time": "2025-07-30T06:42:44.218711",
     "status": "completed"
    },
    "tags": []
   },
   "outputs": [],
   "source": []
  },
  {
   "cell_type": "code",
   "execution_count": 42,
   "id": "1b0d8e9b",
   "metadata": {
    "execution": {
     "iopub.execute_input": "2025-07-30T06:42:44.266115Z",
     "iopub.status.busy": "2025-07-30T06:42:44.265758Z",
     "iopub.status.idle": "2025-07-30T06:42:44.275385Z",
     "shell.execute_reply": "2025-07-30T06:42:44.274535Z"
    },
    "papermill": {
     "duration": 0.027591,
     "end_time": "2025-07-30T06:42:44.277145",
     "exception": false,
     "start_time": "2025-07-30T06:42:44.249554",
     "status": "completed"
    },
    "tags": []
   },
   "outputs": [],
   "source": [
    "from sklearn.model_selection import train_test_split\n",
    "X_train, X_valid, y_train, y_valid = train_test_split(\n",
    "    X_train_df, y_train_df, test_size=0.3, random_state=42\n",
    ")"
   ]
  },
  {
   "cell_type": "code",
   "execution_count": 43,
   "id": "b25e520c",
   "metadata": {
    "execution": {
     "iopub.execute_input": "2025-07-30T06:42:44.311217Z",
     "iopub.status.busy": "2025-07-30T06:42:44.310882Z",
     "iopub.status.idle": "2025-07-30T06:42:44.316897Z",
     "shell.execute_reply": "2025-07-30T06:42:44.315549Z"
    },
    "papermill": {
     "duration": 0.024147,
     "end_time": "2025-07-30T06:42:44.318372",
     "exception": false,
     "start_time": "2025-07-30T06:42:44.294225",
     "status": "completed"
    },
    "tags": []
   },
   "outputs": [
    {
     "name": "stdout",
     "output_type": "stream",
     "text": [
      "(12966, 7)\n",
      "(5558, 7)\n",
      "(12966,)\n",
      "(5558,)\n"
     ]
    }
   ],
   "source": [
    "print(X_train.shape)\n",
    "print(X_valid.shape)\n",
    "print(y_train.shape)\n",
    "print(y_valid.shape)"
   ]
  },
  {
   "cell_type": "code",
   "execution_count": 44,
   "id": "2e3bd003",
   "metadata": {
    "execution": {
     "iopub.execute_input": "2025-07-30T06:42:44.351183Z",
     "iopub.status.busy": "2025-07-30T06:42:44.350342Z",
     "iopub.status.idle": "2025-07-30T06:42:44.354921Z",
     "shell.execute_reply": "2025-07-30T06:42:44.353894Z"
    },
    "papermill": {
     "duration": 0.022519,
     "end_time": "2025-07-30T06:42:44.356285",
     "exception": false,
     "start_time": "2025-07-30T06:42:44.333766",
     "status": "completed"
    },
    "tags": []
   },
   "outputs": [],
   "source": [
    "from sklearn.linear_model import LogisticRegression\n"
   ]
  },
  {
   "cell_type": "code",
   "execution_count": 45,
   "id": "551c1086",
   "metadata": {
    "execution": {
     "iopub.execute_input": "2025-07-30T06:42:44.388081Z",
     "iopub.status.busy": "2025-07-30T06:42:44.387766Z",
     "iopub.status.idle": "2025-07-30T06:42:44.391917Z",
     "shell.execute_reply": "2025-07-30T06:42:44.391087Z"
    },
    "papermill": {
     "duration": 0.021587,
     "end_time": "2025-07-30T06:42:44.393246",
     "exception": false,
     "start_time": "2025-07-30T06:42:44.371659",
     "status": "completed"
    },
    "tags": []
   },
   "outputs": [],
   "source": [
    "lr = LogisticRegression(solver='liblinear', max_iter=200)"
   ]
  },
  {
   "cell_type": "code",
   "execution_count": 46,
   "id": "107a67de",
   "metadata": {
    "execution": {
     "iopub.execute_input": "2025-07-30T06:42:44.425473Z",
     "iopub.status.busy": "2025-07-30T06:42:44.424810Z",
     "iopub.status.idle": "2025-07-30T06:42:44.457034Z",
     "shell.execute_reply": "2025-07-30T06:42:44.456080Z"
    },
    "papermill": {
     "duration": 0.050134,
     "end_time": "2025-07-30T06:42:44.458877",
     "exception": false,
     "start_time": "2025-07-30T06:42:44.408743",
     "status": "completed"
    },
    "tags": []
   },
   "outputs": [
    {
     "data": {
      "text/html": [
       "<style>#sk-container-id-1 {color: black;background-color: white;}#sk-container-id-1 pre{padding: 0;}#sk-container-id-1 div.sk-toggleable {background-color: white;}#sk-container-id-1 label.sk-toggleable__label {cursor: pointer;display: block;width: 100%;margin-bottom: 0;padding: 0.3em;box-sizing: border-box;text-align: center;}#sk-container-id-1 label.sk-toggleable__label-arrow:before {content: \"▸\";float: left;margin-right: 0.25em;color: #696969;}#sk-container-id-1 label.sk-toggleable__label-arrow:hover:before {color: black;}#sk-container-id-1 div.sk-estimator:hover label.sk-toggleable__label-arrow:before {color: black;}#sk-container-id-1 div.sk-toggleable__content {max-height: 0;max-width: 0;overflow: hidden;text-align: left;background-color: #f0f8ff;}#sk-container-id-1 div.sk-toggleable__content pre {margin: 0.2em;color: black;border-radius: 0.25em;background-color: #f0f8ff;}#sk-container-id-1 input.sk-toggleable__control:checked~div.sk-toggleable__content {max-height: 200px;max-width: 100%;overflow: auto;}#sk-container-id-1 input.sk-toggleable__control:checked~label.sk-toggleable__label-arrow:before {content: \"▾\";}#sk-container-id-1 div.sk-estimator input.sk-toggleable__control:checked~label.sk-toggleable__label {background-color: #d4ebff;}#sk-container-id-1 div.sk-label input.sk-toggleable__control:checked~label.sk-toggleable__label {background-color: #d4ebff;}#sk-container-id-1 input.sk-hidden--visually {border: 0;clip: rect(1px 1px 1px 1px);clip: rect(1px, 1px, 1px, 1px);height: 1px;margin: -1px;overflow: hidden;padding: 0;position: absolute;width: 1px;}#sk-container-id-1 div.sk-estimator {font-family: monospace;background-color: #f0f8ff;border: 1px dotted black;border-radius: 0.25em;box-sizing: border-box;margin-bottom: 0.5em;}#sk-container-id-1 div.sk-estimator:hover {background-color: #d4ebff;}#sk-container-id-1 div.sk-parallel-item::after {content: \"\";width: 100%;border-bottom: 1px solid gray;flex-grow: 1;}#sk-container-id-1 div.sk-label:hover label.sk-toggleable__label {background-color: #d4ebff;}#sk-container-id-1 div.sk-serial::before {content: \"\";position: absolute;border-left: 1px solid gray;box-sizing: border-box;top: 0;bottom: 0;left: 50%;z-index: 0;}#sk-container-id-1 div.sk-serial {display: flex;flex-direction: column;align-items: center;background-color: white;padding-right: 0.2em;padding-left: 0.2em;position: relative;}#sk-container-id-1 div.sk-item {position: relative;z-index: 1;}#sk-container-id-1 div.sk-parallel {display: flex;align-items: stretch;justify-content: center;background-color: white;position: relative;}#sk-container-id-1 div.sk-item::before, #sk-container-id-1 div.sk-parallel-item::before {content: \"\";position: absolute;border-left: 1px solid gray;box-sizing: border-box;top: 0;bottom: 0;left: 50%;z-index: -1;}#sk-container-id-1 div.sk-parallel-item {display: flex;flex-direction: column;z-index: 1;position: relative;background-color: white;}#sk-container-id-1 div.sk-parallel-item:first-child::after {align-self: flex-end;width: 50%;}#sk-container-id-1 div.sk-parallel-item:last-child::after {align-self: flex-start;width: 50%;}#sk-container-id-1 div.sk-parallel-item:only-child::after {width: 0;}#sk-container-id-1 div.sk-dashed-wrapped {border: 1px dashed gray;margin: 0 0.4em 0.5em 0.4em;box-sizing: border-box;padding-bottom: 0.4em;background-color: white;}#sk-container-id-1 div.sk-label label {font-family: monospace;font-weight: bold;display: inline-block;line-height: 1.2em;}#sk-container-id-1 div.sk-label-container {text-align: center;}#sk-container-id-1 div.sk-container {/* jupyter's `normalize.less` sets `[hidden] { display: none; }` but bootstrap.min.css set `[hidden] { display: none !important; }` so we also need the `!important` here to be able to override the default hidden behavior on the sphinx rendered scikit-learn.org. See: https://github.com/scikit-learn/scikit-learn/issues/21755 */display: inline-block !important;position: relative;}#sk-container-id-1 div.sk-text-repr-fallback {display: none;}</style><div id=\"sk-container-id-1\" class=\"sk-top-container\"><div class=\"sk-text-repr-fallback\"><pre>LogisticRegression(max_iter=200, solver=&#x27;liblinear&#x27;)</pre><b>In a Jupyter environment, please rerun this cell to show the HTML representation or trust the notebook. <br />On GitHub, the HTML representation is unable to render, please try loading this page with nbviewer.org.</b></div><div class=\"sk-container\" hidden><div class=\"sk-item\"><div class=\"sk-estimator sk-toggleable\"><input class=\"sk-toggleable__control sk-hidden--visually\" id=\"sk-estimator-id-1\" type=\"checkbox\" checked><label for=\"sk-estimator-id-1\" class=\"sk-toggleable__label sk-toggleable__label-arrow\">LogisticRegression</label><div class=\"sk-toggleable__content\"><pre>LogisticRegression(max_iter=200, solver=&#x27;liblinear&#x27;)</pre></div></div></div></div></div>"
      ],
      "text/plain": [
       "LogisticRegression(max_iter=200, solver='liblinear')"
      ]
     },
     "execution_count": 46,
     "metadata": {},
     "output_type": "execute_result"
    }
   ],
   "source": [
    "lr.fit(X_train,y_train)"
   ]
  },
  {
   "cell_type": "code",
   "execution_count": 47,
   "id": "a593b448",
   "metadata": {
    "execution": {
     "iopub.execute_input": "2025-07-30T06:42:44.493992Z",
     "iopub.status.busy": "2025-07-30T06:42:44.493258Z",
     "iopub.status.idle": "2025-07-30T06:42:44.505892Z",
     "shell.execute_reply": "2025-07-30T06:42:44.504860Z"
    },
    "papermill": {
     "duration": 0.031918,
     "end_time": "2025-07-30T06:42:44.507671",
     "exception": false,
     "start_time": "2025-07-30T06:42:44.475753",
     "status": "completed"
    },
    "tags": []
   },
   "outputs": [],
   "source": [
    "y_pred = lr.predict(X_valid)"
   ]
  },
  {
   "cell_type": "code",
   "execution_count": 48,
   "id": "aeae0df1",
   "metadata": {
    "execution": {
     "iopub.execute_input": "2025-07-30T06:42:44.545168Z",
     "iopub.status.busy": "2025-07-30T06:42:44.544864Z",
     "iopub.status.idle": "2025-07-30T06:42:44.551706Z",
     "shell.execute_reply": "2025-07-30T06:42:44.550594Z"
    },
    "papermill": {
     "duration": 0.026072,
     "end_time": "2025-07-30T06:42:44.553297",
     "exception": false,
     "start_time": "2025-07-30T06:42:44.527225",
     "status": "completed"
    },
    "tags": []
   },
   "outputs": [],
   "source": [
    "from sklearn.metrics import accuracy_score\n",
    "\n",
    "accuracy = accuracy_score(y_valid,y_pred)"
   ]
  },
  {
   "cell_type": "code",
   "execution_count": 49,
   "id": "003bce3c",
   "metadata": {
    "execution": {
     "iopub.execute_input": "2025-07-30T06:42:44.588377Z",
     "iopub.status.busy": "2025-07-30T06:42:44.588094Z",
     "iopub.status.idle": "2025-07-30T06:42:44.593447Z",
     "shell.execute_reply": "2025-07-30T06:42:44.592427Z"
    },
    "papermill": {
     "duration": 0.025097,
     "end_time": "2025-07-30T06:42:44.595272",
     "exception": false,
     "start_time": "2025-07-30T06:42:44.570175",
     "status": "completed"
    },
    "tags": []
   },
   "outputs": [
    {
     "name": "stdout",
     "output_type": "stream",
     "text": [
      "Model Accuracy:  0.967\n"
     ]
    }
   ],
   "source": [
    "print(f\"Model Accuracy: {accuracy: .3f}\")"
   ]
  },
  {
   "cell_type": "code",
   "execution_count": 50,
   "id": "3dcc85e6",
   "metadata": {
    "execution": {
     "iopub.execute_input": "2025-07-30T06:42:44.631249Z",
     "iopub.status.busy": "2025-07-30T06:42:44.630890Z",
     "iopub.status.idle": "2025-07-30T06:42:44.696161Z",
     "shell.execute_reply": "2025-07-30T06:42:44.695132Z"
    },
    "papermill": {
     "duration": 0.085393,
     "end_time": "2025-07-30T06:42:44.697850",
     "exception": false,
     "start_time": "2025-07-30T06:42:44.612457",
     "status": "completed"
    },
    "tags": []
   },
   "outputs": [
    {
     "data": {
      "text/html": [
       "<style>#sk-container-id-2 {color: black;background-color: white;}#sk-container-id-2 pre{padding: 0;}#sk-container-id-2 div.sk-toggleable {background-color: white;}#sk-container-id-2 label.sk-toggleable__label {cursor: pointer;display: block;width: 100%;margin-bottom: 0;padding: 0.3em;box-sizing: border-box;text-align: center;}#sk-container-id-2 label.sk-toggleable__label-arrow:before {content: \"▸\";float: left;margin-right: 0.25em;color: #696969;}#sk-container-id-2 label.sk-toggleable__label-arrow:hover:before {color: black;}#sk-container-id-2 div.sk-estimator:hover label.sk-toggleable__label-arrow:before {color: black;}#sk-container-id-2 div.sk-toggleable__content {max-height: 0;max-width: 0;overflow: hidden;text-align: left;background-color: #f0f8ff;}#sk-container-id-2 div.sk-toggleable__content pre {margin: 0.2em;color: black;border-radius: 0.25em;background-color: #f0f8ff;}#sk-container-id-2 input.sk-toggleable__control:checked~div.sk-toggleable__content {max-height: 200px;max-width: 100%;overflow: auto;}#sk-container-id-2 input.sk-toggleable__control:checked~label.sk-toggleable__label-arrow:before {content: \"▾\";}#sk-container-id-2 div.sk-estimator input.sk-toggleable__control:checked~label.sk-toggleable__label {background-color: #d4ebff;}#sk-container-id-2 div.sk-label input.sk-toggleable__control:checked~label.sk-toggleable__label {background-color: #d4ebff;}#sk-container-id-2 input.sk-hidden--visually {border: 0;clip: rect(1px 1px 1px 1px);clip: rect(1px, 1px, 1px, 1px);height: 1px;margin: -1px;overflow: hidden;padding: 0;position: absolute;width: 1px;}#sk-container-id-2 div.sk-estimator {font-family: monospace;background-color: #f0f8ff;border: 1px dotted black;border-radius: 0.25em;box-sizing: border-box;margin-bottom: 0.5em;}#sk-container-id-2 div.sk-estimator:hover {background-color: #d4ebff;}#sk-container-id-2 div.sk-parallel-item::after {content: \"\";width: 100%;border-bottom: 1px solid gray;flex-grow: 1;}#sk-container-id-2 div.sk-label:hover label.sk-toggleable__label {background-color: #d4ebff;}#sk-container-id-2 div.sk-serial::before {content: \"\";position: absolute;border-left: 1px solid gray;box-sizing: border-box;top: 0;bottom: 0;left: 50%;z-index: 0;}#sk-container-id-2 div.sk-serial {display: flex;flex-direction: column;align-items: center;background-color: white;padding-right: 0.2em;padding-left: 0.2em;position: relative;}#sk-container-id-2 div.sk-item {position: relative;z-index: 1;}#sk-container-id-2 div.sk-parallel {display: flex;align-items: stretch;justify-content: center;background-color: white;position: relative;}#sk-container-id-2 div.sk-item::before, #sk-container-id-2 div.sk-parallel-item::before {content: \"\";position: absolute;border-left: 1px solid gray;box-sizing: border-box;top: 0;bottom: 0;left: 50%;z-index: -1;}#sk-container-id-2 div.sk-parallel-item {display: flex;flex-direction: column;z-index: 1;position: relative;background-color: white;}#sk-container-id-2 div.sk-parallel-item:first-child::after {align-self: flex-end;width: 50%;}#sk-container-id-2 div.sk-parallel-item:last-child::after {align-self: flex-start;width: 50%;}#sk-container-id-2 div.sk-parallel-item:only-child::after {width: 0;}#sk-container-id-2 div.sk-dashed-wrapped {border: 1px dashed gray;margin: 0 0.4em 0.5em 0.4em;box-sizing: border-box;padding-bottom: 0.4em;background-color: white;}#sk-container-id-2 div.sk-label label {font-family: monospace;font-weight: bold;display: inline-block;line-height: 1.2em;}#sk-container-id-2 div.sk-label-container {text-align: center;}#sk-container-id-2 div.sk-container {/* jupyter's `normalize.less` sets `[hidden] { display: none; }` but bootstrap.min.css set `[hidden] { display: none !important; }` so we also need the `!important` here to be able to override the default hidden behavior on the sphinx rendered scikit-learn.org. See: https://github.com/scikit-learn/scikit-learn/issues/21755 */display: inline-block !important;position: relative;}#sk-container-id-2 div.sk-text-repr-fallback {display: none;}</style><div id=\"sk-container-id-2\" class=\"sk-top-container\"><div class=\"sk-text-repr-fallback\"><pre>DecisionTreeClassifier(criterion=&#x27;entropy&#x27;, max_depth=3, random_state=0,\n",
       "                       splitter=&#x27;random&#x27;)</pre><b>In a Jupyter environment, please rerun this cell to show the HTML representation or trust the notebook. <br />On GitHub, the HTML representation is unable to render, please try loading this page with nbviewer.org.</b></div><div class=\"sk-container\" hidden><div class=\"sk-item\"><div class=\"sk-estimator sk-toggleable\"><input class=\"sk-toggleable__control sk-hidden--visually\" id=\"sk-estimator-id-2\" type=\"checkbox\" checked><label for=\"sk-estimator-id-2\" class=\"sk-toggleable__label sk-toggleable__label-arrow\">DecisionTreeClassifier</label><div class=\"sk-toggleable__content\"><pre>DecisionTreeClassifier(criterion=&#x27;entropy&#x27;, max_depth=3, random_state=0,\n",
       "                       splitter=&#x27;random&#x27;)</pre></div></div></div></div></div>"
      ],
      "text/plain": [
       "DecisionTreeClassifier(criterion='entropy', max_depth=3, random_state=0,\n",
       "                       splitter='random')"
      ]
     },
     "execution_count": 50,
     "metadata": {},
     "output_type": "execute_result"
    }
   ],
   "source": [
    "from sklearn.tree import DecisionTreeClassifier\n",
    "clf = DecisionTreeClassifier(random_state=0,criterion='entropy',splitter='random',max_depth=3,min_samples_split= 2)\n",
    "clf.fit(X_train,y_train)"
   ]
  },
  {
   "cell_type": "code",
   "execution_count": 51,
   "id": "b53d27c1",
   "metadata": {
    "execution": {
     "iopub.execute_input": "2025-07-30T06:42:44.732163Z",
     "iopub.status.busy": "2025-07-30T06:42:44.731756Z",
     "iopub.status.idle": "2025-07-30T06:42:44.740779Z",
     "shell.execute_reply": "2025-07-30T06:42:44.739766Z"
    },
    "papermill": {
     "duration": 0.027898,
     "end_time": "2025-07-30T06:42:44.742297",
     "exception": false,
     "start_time": "2025-07-30T06:42:44.714399",
     "status": "completed"
    },
    "tags": []
   },
   "outputs": [
    {
     "name": "stdout",
     "output_type": "stream",
     "text": [
      "Model Accuracy: 0.9665\n"
     ]
    }
   ],
   "source": [
    "y_pred_Dt = clf.predict(X_valid)\n",
    "accuracy_dt = accuracy_score(y_pred_Dt,y_valid)\n",
    "print(f\"Model Accuracy: {accuracy_dt:.4f}\")"
   ]
  },
  {
   "cell_type": "code",
   "execution_count": 52,
   "id": "33312ca5",
   "metadata": {
    "execution": {
     "iopub.execute_input": "2025-07-30T06:42:44.777231Z",
     "iopub.status.busy": "2025-07-30T06:42:44.776877Z",
     "iopub.status.idle": "2025-07-30T06:42:44.870626Z",
     "shell.execute_reply": "2025-07-30T06:42:44.869321Z"
    },
    "papermill": {
     "duration": 0.112949,
     "end_time": "2025-07-30T06:42:44.872262",
     "exception": false,
     "start_time": "2025-07-30T06:42:44.759313",
     "status": "completed"
    },
    "tags": []
   },
   "outputs": [
    {
     "name": "stdout",
     "output_type": "stream",
     "text": [
      "0.9685337483461358\n"
     ]
    }
   ],
   "source": [
    "from sklearn.model_selection import cross_val_score\n",
    "accuracy_cv1 = cross_val_score(estimator=clf,X=X_train,y=y_train,cv=10,n_jobs=1)\n",
    "print(accuracy_cv1.mean())"
   ]
  },
  {
   "cell_type": "code",
   "execution_count": 53,
   "id": "2b49bdd4",
   "metadata": {
    "execution": {
     "iopub.execute_input": "2025-07-30T06:42:44.908634Z",
     "iopub.status.busy": "2025-07-30T06:42:44.908265Z",
     "iopub.status.idle": "2025-07-30T06:42:50.389663Z",
     "shell.execute_reply": "2025-07-30T06:42:50.388808Z"
    },
    "papermill": {
     "duration": 5.502032,
     "end_time": "2025-07-30T06:42:50.391181",
     "exception": false,
     "start_time": "2025-07-30T06:42:44.889149",
     "status": "completed"
    },
    "tags": []
   },
   "outputs": [
    {
     "data": {
      "image/png": "[encoded data removed]",
      "text/plain": [
       "<Figure size 640x480 with 1 Axes>"
      ]
     },
     "metadata": {},
     "output_type": "display_data"
    }
   ],
   "source": [
    "from sklearn.model_selection import learning_curve\n",
    "# Create CV training and test scores for various training set sizes\n",
    "train_sizes, train_scores, test_scores = learning_curve(clf, \n",
    "                                                        X_train, \n",
    "                                                        y_train,\n",
    "                                                        # Number of folds in cross-validation\n",
    "                                                        cv=10,\n",
    "                                                        # Evaluation metric\n",
    "                                                        scoring='accuracy',\n",
    "                                                        # Use all computer cores\n",
    "                                                        n_jobs=-1, \n",
    "                                                        # 50 different sizes of the training set\n",
    "                                                        train_sizes=np.linspace(0.01, 1.0, 50))\n",
    "\n",
    "# Create means and standard deviations of training set scores\n",
    "train_mean = np.mean(train_scores, axis=1)\n",
    "train_std = np.std(train_scores, axis=1)\n",
    "\n",
    "# Create means and standard deviations of test set scores\n",
    "test_mean = np.mean(test_scores, axis=1)\n",
    "test_std = np.std(test_scores, axis=1)\n",
    "\n",
    "# Draw lines\n",
    "plt.plot(train_sizes, train_mean, '--', color=\"#111111\",  label=\"Training score\")\n",
    "plt.plot(train_sizes, test_mean, color=\"#111111\", label=\"Cross-validation score\")\n",
    "\n",
    "# Draw bands\n",
    "plt.fill_between(train_sizes, train_mean - train_std, train_mean + train_std, color=\"#DDDDDD\")\n",
    "plt.fill_between(train_sizes, test_mean - test_std, test_mean + test_std, color=\"#DDDDDD\")\n",
    "\n",
    "# Create plot\n",
    "plt.title(\"Learning Curve\")\n",
    "plt.xlabel(\"Training Set Size\"), plt.ylabel(\"Accuracy Score\"), plt.legend(loc=\"best\")\n",
    "plt.tight_layout()\n",
    "plt.show()"
   ]
  },
  {
   "cell_type": "code",
   "execution_count": 54,
   "id": "091020e7",
   "metadata": {
    "execution": {
     "iopub.execute_input": "2025-07-30T06:42:50.427549Z",
     "iopub.status.busy": "2025-07-30T06:42:50.427179Z",
     "iopub.status.idle": "2025-07-30T06:42:50.432813Z",
     "shell.execute_reply": "2025-07-30T06:42:50.431917Z"
    },
    "papermill": {
     "duration": 0.025502,
     "end_time": "2025-07-30T06:42:50.434244",
     "exception": false,
     "start_time": "2025-07-30T06:42:50.408742",
     "status": "completed"
    },
    "tags": []
   },
   "outputs": [
    {
     "data": {
      "text/plain": [
       "(18524, 9)"
      ]
     },
     "execution_count": 54,
     "metadata": {},
     "output_type": "execute_result"
    }
   ],
   "source": [
    "train_df.shape"
   ]
  },
  {
   "cell_type": "code",
   "execution_count": 55,
   "id": "3a72faa2",
   "metadata": {
    "execution": {
     "iopub.execute_input": "2025-07-30T06:42:50.470759Z",
     "iopub.status.busy": "2025-07-30T06:42:50.469739Z",
     "iopub.status.idle": "2025-07-30T06:42:50.480009Z",
     "shell.execute_reply": "2025-07-30T06:42:50.479005Z"
    },
    "papermill": {
     "duration": 0.030659,
     "end_time": "2025-07-30T06:42:50.482176",
     "exception": false,
     "start_time": "2025-07-30T06:42:50.451517",
     "status": "completed"
    },
    "tags": []
   },
   "outputs": [
    {
     "data": {
      "text/plain": [
       "Personality\n",
       "Extrovert    13699\n",
       "Introvert     4825\n",
       "Name: count, dtype: int64"
      ]
     },
     "execution_count": 55,
     "metadata": {},
     "output_type": "execute_result"
    }
   ],
   "source": [
    "train_df['Personality'].value_counts()"
   ]
  },
  {
   "cell_type": "code",
   "execution_count": 56,
   "id": "d780c686",
   "metadata": {
    "execution": {
     "iopub.execute_input": "2025-07-30T06:42:50.519605Z",
     "iopub.status.busy": "2025-07-30T06:42:50.519253Z",
     "iopub.status.idle": "2025-07-30T06:42:50.524965Z",
     "shell.execute_reply": "2025-07-30T06:42:50.523843Z"
    },
    "papermill": {
     "duration": 0.02611,
     "end_time": "2025-07-30T06:42:50.526667",
     "exception": false,
     "start_time": "2025-07-30T06:42:50.500557",
     "status": "completed"
    },
    "tags": []
   },
   "outputs": [],
   "source": [
    "import xgboost as xgb\n",
    "xgb_model = xgb.XGBClassifier(\n",
    "    objective='binary:logistic',  # for binary classification\n",
    "    n_estimators=200,             # Number of boosting rounds\n",
    "    learning_rate=0.1,\n",
    "    max_depth=3,\n",
    "    eval_metric='logloss',        # Evaluation metric for early stopping\n",
    "    use_label_encoder=False,      # Suppress a deprecation warning\n",
    "    seed=42                 # for reproducibility\n",
    ")\n"
   ]
  },
  {
   "cell_type": "code",
   "execution_count": 57,
   "id": "dff32a97",
   "metadata": {
    "execution": {
     "iopub.execute_input": "2025-07-30T06:42:50.563074Z",
     "iopub.status.busy": "2025-07-30T06:42:50.562729Z",
     "iopub.status.idle": "2025-07-30T06:42:50.752294Z",
     "shell.execute_reply": "2025-07-30T06:42:50.751376Z"
    },
    "papermill": {
     "duration": 0.209713,
     "end_time": "2025-07-30T06:42:50.754048",
     "exception": false,
     "start_time": "2025-07-30T06:42:50.544335",
     "status": "completed"
    },
    "tags": []
   },
   "outputs": [
    {
     "data": {
      "text/html": [
       "<style>#sk-container-id-3 {color: black;background-color: white;}#sk-container-id-3 pre{padding: 0;}#sk-container-id-3 div.sk-toggleable {background-color: white;}#sk-container-id-3 label.sk-toggleable__label {cursor: pointer;display: block;width: 100%;margin-bottom: 0;padding: 0.3em;box-sizing: border-box;text-align: center;}#sk-container-id-3 label.sk-toggleable__label-arrow:before {content: \"▸\";float: left;margin-right: 0.25em;color: #696969;}#sk-container-id-3 label.sk-toggleable__label-arrow:hover:before {color: black;}#sk-container-id-3 div.sk-estimator:hover label.sk-toggleable__label-arrow:before {color: black;}#sk-container-id-3 div.sk-toggleable__content {max-height: 0;max-width: 0;overflow: hidden;text-align: left;background-color: #f0f8ff;}#sk-container-id-3 div.sk-toggleable__content pre {margin: 0.2em;color: black;border-radius: 0.25em;background-color: #f0f8ff;}#sk-container-id-3 input.sk-toggleable__control:checked~div.sk-toggleable__content {max-height: 200px;max-width: 100%;overflow: auto;}#sk-container-id-3 input.sk-toggleable__control:checked~label.sk-toggleable__label-arrow:before {content: \"▾\";}#sk-container-id-3 div.sk-estimator input.sk-toggleable__control:checked~label.sk-toggleable__label {background-color: #d4ebff;}#sk-container-id-3 div.sk-label input.sk-toggleable__control:checked~label.sk-toggleable__label {background-color: #d4ebff;}#sk-container-id-3 input.sk-hidden--visually {border: 0;clip: rect(1px 1px 1px 1px);clip: rect(1px, 1px, 1px, 1px);height: 1px;margin: -1px;overflow: hidden;padding: 0;position: absolute;width: 1px;}#sk-container-id-3 div.sk-estimator {font-family: monospace;background-color: #f0f8ff;border: 1px dotted black;border-radius: 0.25em;box-sizing: border-box;margin-bottom: 0.5em;}#sk-container-id-3 div.sk-estimator:hover {background-color: #d4ebff;}#sk-container-id-3 div.sk-parallel-item::after {content: \"\";width: 100%;border-bottom: 1px solid gray;flex-grow: 1;}#sk-container-id-3 div.sk-label:hover label.sk-toggleable__label {background-color: #d4ebff;}#sk-container-id-3 div.sk-serial::before {content: \"\";position: absolute;border-left: 1px solid gray;box-sizing: border-box;top: 0;bottom: 0;left: 50%;z-index: 0;}#sk-container-id-3 div.sk-serial {display: flex;flex-direction: column;align-items: center;background-color: white;padding-right: 0.2em;padding-left: 0.2em;position: relative;}#sk-container-id-3 div.sk-item {position: relative;z-index: 1;}#sk-container-id-3 div.sk-parallel {display: flex;align-items: stretch;justify-content: center;background-color: white;position: relative;}#sk-container-id-3 div.sk-item::before, #sk-container-id-3 div.sk-parallel-item::before {content: \"\";position: absolute;border-left: 1px solid gray;box-sizing: border-box;top: 0;bottom: 0;left: 50%;z-index: -1;}#sk-container-id-3 div.sk-parallel-item {display: flex;flex-direction: column;z-index: 1;position: relative;background-color: white;}#sk-container-id-3 div.sk-parallel-item:first-child::after {align-self: flex-end;width: 50%;}#sk-container-id-3 div.sk-parallel-item:last-child::after {align-self: flex-start;width: 50%;}#sk-container-id-3 div.sk-parallel-item:only-child::after {width: 0;}#sk-container-id-3 div.sk-dashed-wrapped {border: 1px dashed gray;margin: 0 0.4em 0.5em 0.4em;box-sizing: border-box;padding-bottom: 0.4em;background-color: white;}#sk-container-id-3 div.sk-label label {font-family: monospace;font-weight: bold;display: inline-block;line-height: 1.2em;}#sk-container-id-3 div.sk-label-container {text-align: center;}#sk-container-id-3 div.sk-container {/* jupyter's `normalize.less` sets `[hidden] { display: none; }` but bootstrap.min.css set `[hidden] { display: none !important; }` so we also need the `!important` here to be able to override the default hidden behavior on the sphinx rendered scikit-learn.org. See: https://github.com/scikit-learn/scikit-learn/issues/21755 */display: inline-block !important;position: relative;}#sk-container-id-3 div.sk-text-repr-fallback {display: none;}</style><div id=\"sk-container-id-3\" class=\"sk-top-container\"><div class=\"sk-text-repr-fallback\"><pre>XGBClassifier(base_score=None, booster=None, callbacks=None,\n",
       "              colsample_bylevel=None, colsample_bynode=None,\n",
       "              colsample_bytree=None, device=None, early_stopping_rounds=None,\n",
       "              enable_categorical=False, eval_metric=&#x27;logloss&#x27;,\n",
       "              feature_types=None, gamma=None, grow_policy=None,\n",
       "              importance_type=None, interaction_constraints=None,\n",
       "              learning_rate=0.1, max_bin=None, max_cat_threshold=None,\n",
       "              max_cat_to_onehot=None, max_delta_step=None, max_depth=3,\n",
       "              max_leaves=None, min_child_weight=None, missing=nan,\n",
       "              monotone_constraints=None, multi_strategy=None, n_estimators=200,\n",
       "              n_jobs=None, num_parallel_tree=None, random_state=None, ...)</pre><b>In a Jupyter environment, please rerun this cell to show the HTML representation or trust the notebook. <br />On GitHub, the HTML representation is unable to render, please try loading this page with nbviewer.org.</b></div><div class=\"sk-container\" hidden><div class=\"sk-item\"><div class=\"sk-estimator sk-toggleable\"><input class=\"sk-toggleable__control sk-hidden--visually\" id=\"sk-estimator-id-3\" type=\"checkbox\" checked><label for=\"sk-estimator-id-3\" class=\"sk-toggleable__label sk-toggleable__label-arrow\">XGBClassifier</label><div class=\"sk-toggleable__content\"><pre>XGBClassifier(base_score=None, booster=None, callbacks=None,\n",
       "              colsample_bylevel=None, colsample_bynode=None,\n",
       "              colsample_bytree=None, device=None, early_stopping_rounds=None,\n",
       "              enable_categorical=False, eval_metric=&#x27;logloss&#x27;,\n",
       "              feature_types=None, gamma=None, grow_policy=None,\n",
       "              importance_type=None, interaction_constraints=None,\n",
       "              learning_rate=0.1, max_bin=None, max_cat_threshold=None,\n",
       "              max_cat_to_onehot=None, max_delta_step=None, max_depth=3,\n",
       "              max_leaves=None, min_child_weight=None, missing=nan,\n",
       "              monotone_constraints=None, multi_strategy=None, n_estimators=200,\n",
       "              n_jobs=None, num_parallel_tree=None, random_state=None, ...)</pre></div></div></div></div></div>"
      ],
      "text/plain": [
       "XGBClassifier(base_score=None, booster=None, callbacks=None,\n",
       "              colsample_bylevel=None, colsample_bynode=None,\n",
       "              colsample_bytree=None, device=None, early_stopping_rounds=None,\n",
       "              enable_categorical=False, eval_metric='logloss',\n",
       "              feature_types=None, gamma=None, grow_policy=None,\n",
       "              importance_type=None, interaction_constraints=None,\n",
       "              learning_rate=0.1, max_bin=None, max_cat_threshold=None,\n",
       "              max_cat_to_onehot=None, max_delta_step=None, max_depth=3,\n",
       "              max_leaves=None, min_child_weight=None, missing=nan,\n",
       "              monotone_constraints=None, multi_strategy=None, n_estimators=200,\n",
       "              n_jobs=None, num_parallel_tree=None, random_state=None, ...)"
      ]
     },
     "execution_count": 57,
     "metadata": {},
     "output_type": "execute_result"
    }
   ],
   "source": [
    "xgb_model.fit(X_train,y_train,\n",
    "              eval_set=[(X_valid, y_valid)],  # Provide a validation set\n",
    "                early_stopping_rounds=10,\n",
    "              verbose=False \n",
    "             )"
   ]
  },
  {
   "cell_type": "code",
   "execution_count": 58,
   "id": "a8fc4ce6",
   "metadata": {
    "execution": {
     "iopub.execute_input": "2025-07-30T06:42:50.792444Z",
     "iopub.status.busy": "2025-07-30T06:42:50.792108Z",
     "iopub.status.idle": "2025-07-30T06:42:50.805556Z",
     "shell.execute_reply": "2025-07-30T06:42:50.804703Z"
    },
    "papermill": {
     "duration": 0.033737,
     "end_time": "2025-07-30T06:42:50.807208",
     "exception": false,
     "start_time": "2025-07-30T06:42:50.773471",
     "status": "completed"
    },
    "tags": []
   },
   "outputs": [
    {
     "name": "stdout",
     "output_type": "stream",
     "text": [
      "Model Accuracy: 0.9674\n"
     ]
    }
   ],
   "source": [
    "y_pred_xgb = xgb_model.predict(X_valid)\n",
    "accuracy_xgb = accuracy_score(y_valid, y_pred_xgb)\n",
    "\n",
    "print(f\"Model Accuracy: {accuracy_xgb:.4f}\")"
   ]
  },
  {
   "cell_type": "code",
   "execution_count": 59,
   "id": "0c976ceb",
   "metadata": {
    "execution": {
     "iopub.execute_input": "2025-07-30T06:42:50.846680Z",
     "iopub.status.busy": "2025-07-30T06:42:50.846297Z",
     "iopub.status.idle": "2025-07-30T06:42:51.012309Z",
     "shell.execute_reply": "2025-07-30T06:42:51.011304Z"
    },
    "papermill": {
     "duration": 0.186143,
     "end_time": "2025-07-30T06:42:51.013948",
     "exception": false,
     "start_time": "2025-07-30T06:42:50.827805",
     "status": "completed"
    },
    "tags": []
   },
   "outputs": [
    {
     "name": "stdout",
     "output_type": "stream",
     "text": [
      "\n",
      "Feature Importances:\n"
     ]
    },
    {
     "data": {
      "image/png": "[encoded data removed]",
      "text/plain": [
       "<Figure size 640x480 with 1 Axes>"
      ]
     },
     "metadata": {},
     "output_type": "display_data"
    }
   ],
   "source": [
    "print(\"\\nFeature Importances:\")\n",
    "xgb.plot_importance(xgb_model, max_num_features=5) \n",
    "plt.title(\"XGBoost Feature Importance\")\n",
    "plt.show()"
   ]
  },
  {
   "cell_type": "code",
   "execution_count": 60,
   "id": "4092b81a",
   "metadata": {
    "execution": {
     "iopub.execute_input": "2025-07-30T06:42:51.053961Z",
     "iopub.status.busy": "2025-07-30T06:42:51.053169Z",
     "iopub.status.idle": "2025-07-30T06:43:19.798335Z",
     "shell.execute_reply": "2025-07-30T06:43:19.797493Z"
    },
    "papermill": {
     "duration": 28.76744,
     "end_time": "2025-07-30T06:43:19.800527",
     "exception": false,
     "start_time": "2025-07-30T06:42:51.033087",
     "status": "completed"
    },
    "tags": []
   },
   "outputs": [
    {
     "name": "stdout",
     "output_type": "stream",
     "text": [
      "Fitting 5 folds for each of 81 candidates, totalling 405 fits\n",
      "Best Parameters found:  {'gamma': 0, 'learning_rate': 0.05, 'max_depth': 3, 'n_estimators': 100}\n",
      "Best Cross-validation score: 0.9695\n",
      "Valid set accuracy of the best model: 0.9673\n"
     ]
    }
   ],
   "source": [
    "from sklearn.model_selection import GridSearchCV\n",
    "param_grid = {\n",
    "    'max_depth': [3, 4, 5],\n",
    "    'learning_rate': [0.1, 0.05, 0.01],\n",
    "    'n_estimators': [100, 200, 300],\n",
    "    'gamma': [0, 0.1, 0.2]\n",
    "}\n",
    "\n",
    "\n",
    "\n",
    "# 4. Set up GridSearchCV\n",
    "# cv=5 means 5-fold cross-validation.\n",
    "# n_jobs=-1 uses all available CPU cores.\n",
    "# verbose=1 shows progress.\n",
    "grid_search = GridSearchCV(\n",
    "    estimator=xgb_model,\n",
    "    param_grid=param_grid,\n",
    "    scoring='accuracy',\n",
    "    cv=5,\n",
    "    n_jobs=-1,\n",
    "    verbose=1\n",
    ")\n",
    "\n",
    "# 5. Run the grid search\n",
    "grid_search.fit(X_train, y_train)\n",
    "\n",
    "# 6. Print the best results\n",
    "print(\"Best Parameters found: \", grid_search.best_params_)\n",
    "print(\"Best Cross-validation score: {:.4f}\".format(grid_search.best_score_))\n",
    "\n",
    "# You can now use the best estimator for predictions\n",
    "best_model = grid_search.best_estimator_\n",
    "accuracy_GridCV = best_model.score(X_valid, y_valid)\n",
    "print(f\"Valid set accuracy of the best model: {accuracy_GridCV:.4f}\")"
   ]
  },
  {
   "cell_type": "code",
   "execution_count": 61,
   "id": "90c23165",
   "metadata": {
    "execution": {
     "iopub.execute_input": "2025-07-30T06:43:19.841738Z",
     "iopub.status.busy": "2025-07-30T06:43:19.840839Z",
     "iopub.status.idle": "2025-07-30T06:43:21.817583Z",
     "shell.execute_reply": "2025-07-30T06:43:21.816471Z"
    },
    "papermill": {
     "duration": 1.998084,
     "end_time": "2025-07-30T06:43:21.819337",
     "exception": false,
     "start_time": "2025-07-30T06:43:19.821253",
     "status": "completed"
    },
    "tags": []
   },
   "outputs": [
    {
     "name": "stdout",
     "output_type": "stream",
     "text": [
      "Fitting 10 folds for each of 15 candidates, totalling 150 fits\n",
      "\n",
      "Best Parameters found:  {'C': 0.1, 'penalty': 'l1', 'solver': 'liblinear'}\n",
      "Best Cross-validation score: 0.9692\n",
      "Valid set accuracy of the best model: 0.9674\n"
     ]
    }
   ],
   "source": [
    "param_grid_lr = [\n",
    "    {\n",
    "        'penalty': ['l1'],\n",
    "        'solver': ['liblinear', 'saga'], # Solvers compatible with L1\n",
    "        'C': [0.1, 1.0, 10.0]\n",
    "    },\n",
    "    {\n",
    "        'penalty': ['l2'],\n",
    "        'solver': ['lbfgs', 'liblinear', 'saga'], # Solvers compatible with L2\n",
    "        'C': [0.1, 1.0, 10.0]\n",
    "    }\n",
    "]\n",
    "\n",
    "# 4. Set up and run GridSearchCV\n",
    "grid_search_lr = GridSearchCV(\n",
    "    estimator=lr,\n",
    "    param_grid=param_grid_lr,\n",
    "    cv=10,\n",
    "    scoring='accuracy',\n",
    "    verbose=1,\n",
    "    n_jobs=-1 # Use all available cores\n",
    ")\n",
    "\n",
    "grid_search_lr.fit(X_train, y_train)\n",
    "\n",
    "# 5. Print the best results\n",
    "print(\"\\nBest Parameters found: \", grid_search_lr.best_params_)\n",
    "print(\"Best Cross-validation score: {:.4f}\".format(grid_search_lr.best_score_))\n",
    "\n",
    "#Using the best model from Logistics regression\n",
    "best_model_lr = grid_search_lr.best_estimator_\n",
    "\n",
    "accuracy_GridCV_lr = best_model_lr.score(X_valid, y_valid)\n",
    "print(f\"Valid set accuracy of the best model: {accuracy_GridCV_lr:.4f}\")"
   ]
  },
  {
   "cell_type": "code",
   "execution_count": 62,
   "id": "ceeb6dd0",
   "metadata": {
    "execution": {
     "iopub.execute_input": "2025-07-30T06:43:21.859107Z",
     "iopub.status.busy": "2025-07-30T06:43:21.858753Z",
     "iopub.status.idle": "2025-07-30T06:43:21.870327Z",
     "shell.execute_reply": "2025-07-30T06:43:21.869661Z"
    },
    "papermill": {
     "duration": 0.032966,
     "end_time": "2025-07-30T06:43:21.872137",
     "exception": false,
     "start_time": "2025-07-30T06:43:21.839171",
     "status": "completed"
    },
    "tags": []
   },
   "outputs": [],
   "source": [
    "y_pred_final = best_model_lr.predict(X_test)\n",
    "y_pred_final1 = best_model.predict(X_test)"
   ]
  },
  {
   "cell_type": "code",
   "execution_count": 63,
   "id": "e9ddbe17",
   "metadata": {
    "execution": {
     "iopub.execute_input": "2025-07-30T06:43:21.914991Z",
     "iopub.status.busy": "2025-07-30T06:43:21.914108Z",
     "iopub.status.idle": "2025-07-30T06:43:21.934411Z",
     "shell.execute_reply": "2025-07-30T06:43:21.933214Z"
    },
    "papermill": {
     "duration": 0.042033,
     "end_time": "2025-07-30T06:43:21.936111",
     "exception": false,
     "start_time": "2025-07-30T06:43:21.894078",
     "status": "completed"
    },
    "tags": []
   },
   "outputs": [
    {
     "name": "stdout",
     "output_type": "stream",
     "text": [
      "Submission file 'kaggle_submission.csv' is ready.\n"
     ]
    }
   ],
   "source": [
    " #If 'id' column is in the test set\n",
    "submission_df = pd.DataFrame({\n",
    "    'id': test_df['id'],  # Include the 'id' column\n",
    "    'Personality': y_pred_final1  # Predicted prices from your model\n",
    "})\n",
    "label_mapping = {0: 'Extrovert', 1: 'Introvert'}\n",
    "submission_df['Personality'] = submission_df['Personality'].replace(label_mapping)\n",
    "\n",
    "# Save the submission DataFrame to a CSV file\n",
    "submission_df.to_csv('kaggle_submission.csv', index=False)\n",
    "\n",
    "# Print message to indicate the submission file is ready\n",
    "print(\"Submission file 'kaggle_submission.csv' is ready.\")"
   ]
  }
 ],
 "metadata": {
  "kaggle": {
   "accelerator": "none",
   "dataSources": [
    {
     "databundleVersionId": 12738969,
     "sourceId": 91718,
     "sourceType": "competition"
    }
   ],
   "dockerImageVersionId": 31089,
   "isGpuEnabled": false,
   "isInternetEnabled": true,
   "language": "python",
   "sourceType": "notebook"
  },
  "kernelspec": {
   "display_name": "Python 3",
   "language": "python",
   "name": "python3"
  },
  "language_info": {
   "codemirror_mode": {
    "name": "ipython",
    "version": 3
   },
   "file_extension": ".py",
   "mimetype": "text/x-python",
   "name": "python",
   "nbconvert_exporter": "python",
   "pygments_lexer": "ipython3",
   "version": "3.11.13"
  },
  "papermill": {
   "default_parameters": {},
   "duration": 55.266703,
   "end_time": "2025-07-30T06:43:24.575955",
   "environment_variables": {},
   "exception": null,
   "input_path": "__notebook__.ipynb",
   "output_path": "__notebook__.ipynb",
   "parameters": {},
   "start_time": "2025-07-30T06:42:29.309252",
   "version": "2.6.0"
  }
 },
 "nbformat": 4,
 "nbformat_minor": 5
}
