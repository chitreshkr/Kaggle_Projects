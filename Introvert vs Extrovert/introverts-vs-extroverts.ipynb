{
 "cells": [
  {
   "cell_type": "code",
   "execution_count": 1,
   "id": "e7351c57",
   "metadata": {
    "_cell_guid": "b1076dfc-b9ad-4769-8c92-a6c4dae69d19",
    "_uuid": "8f2839f25d086af736a60e9eeb907d3b93b6e0e5",
    "execution": {
     "iopub.execute_input": "2025-07-29T07:05:33.911231Z",
     "iopub.status.busy": "2025-07-29T07:05:33.910793Z",
     "iopub.status.idle": "2025-07-29T07:05:35.842807Z",
     "shell.execute_reply": "2025-07-29T07:05:35.841720Z"
    },
    "papermill": {
     "duration": 1.941725,
     "end_time": "2025-07-29T07:05:35.844560",
     "exception": false,
     "start_time": "2025-07-29T07:05:33.902835",
     "status": "completed"
    },
    "tags": []
   },
   "outputs": [
    {
     "name": "stdout",
     "output_type": "stream",
     "text": [
      "/kaggle/input/playground-series-s5e7/sample_submission.csv\n",
      "/kaggle/input/playground-series-s5e7/train.csv\n",
      "/kaggle/input/playground-series-s5e7/test.csv\n"
     ]
    }
   ],
   "source": [
    "# This Python 3 environment comes with many helpful analytics libraries installed\n",
    "# It is defined by the kaggle/python Docker image: https://github.com/kaggle/docker-python\n",
    "# For example, here's several helpful packages to load\n",
    "\n",
    "import numpy as np # linear algebra\n",
    "import pandas as pd # data processing, CSV file I/O (e.g. pd.read_csv)\n",
    "\n",
    "# Input data files are available in the read-only \"../input/\" directory\n",
    "# For example, running this (by clicking run or pressing Shift+Enter) will list all files under the input directory\n",
    "\n",
    "import os\n",
    "for dirname, _, filenames in os.walk('/kaggle/input'):\n",
    "    for filename in filenames:\n",
    "        print(os.path.join(dirname, filename))\n",
    "\n",
    "# You can write up to 20GB to the current directory (/kaggle/working/) that gets preserved as output when you create a version using \"Save & Run All\" \n",
    "# You can also write temporary files to /kaggle/temp/, but they won't be saved outside of the current session"
   ]
  },
  {
   "cell_type": "code",
   "execution_count": 2,
   "id": "c4906824",
   "metadata": {
    "execution": {
     "iopub.execute_input": "2025-07-29T07:05:35.858118Z",
     "iopub.status.busy": "2025-07-29T07:05:35.857658Z",
     "iopub.status.idle": "2025-07-29T07:05:45.045331Z",
     "shell.execute_reply": "2025-07-29T07:05:45.044443Z"
    },
    "papermill": {
     "duration": 9.196232,
     "end_time": "2025-07-29T07:05:45.047122",
     "exception": false,
     "start_time": "2025-07-29T07:05:35.850890",
     "status": "completed"
    },
    "tags": []
   },
   "outputs": [],
   "source": [
    "import numpy as np\n",
    "import pandas as pd\n",
    "import matplotlib.pyplot as plt\n",
    "%matplotlib inline\n",
    "import seaborn as sns\n",
    "from sklearn.preprocessing import LabelEncoder\n",
    "from lightgbm import LGBMClassifier, log_evaluation, early_stopping\n",
    "from sklearn.feature_selection import mutual_info_classif\n",
    "from sklearn.linear_model import LogisticRegression\n",
    "from sklearn.model_selection import StratifiedKFold\n",
    "from sklearn.preprocessing import LabelEncoder\n",
    "from sklearn.base import clone\n",
    "from xgboost import XGBClassifier\n",
    "\n",
    "import warnings\n",
    "warnings.filterwarnings(\"ignore\")"
   ]
  },
  {
   "cell_type": "code",
   "execution_count": 3,
   "id": "fd234ed7",
   "metadata": {
    "execution": {
     "iopub.execute_input": "2025-07-29T07:05:45.060997Z",
     "iopub.status.busy": "2025-07-29T07:05:45.059848Z",
     "iopub.status.idle": "2025-07-29T07:05:45.108447Z",
     "shell.execute_reply": "2025-07-29T07:05:45.107277Z"
    },
    "papermill": {
     "duration": 0.057179,
     "end_time": "2025-07-29T07:05:45.110292",
     "exception": false,
     "start_time": "2025-07-29T07:05:45.053113",
     "status": "completed"
    },
    "tags": []
   },
   "outputs": [],
   "source": [
    "train_df = pd.read_csv('/kaggle/input/playground-series-s5e7/train.csv')"
   ]
  },
  {
   "cell_type": "code",
   "execution_count": 4,
   "id": "15cdc5a5",
   "metadata": {
    "execution": {
     "iopub.execute_input": "2025-07-29T07:05:45.123639Z",
     "iopub.status.busy": "2025-07-29T07:05:45.123281Z",
     "iopub.status.idle": "2025-07-29T07:05:45.139619Z",
     "shell.execute_reply": "2025-07-29T07:05:45.138310Z"
    },
    "papermill": {
     "duration": 0.025097,
     "end_time": "2025-07-29T07:05:45.141412",
     "exception": false,
     "start_time": "2025-07-29T07:05:45.116315",
     "status": "completed"
    },
    "tags": []
   },
   "outputs": [],
   "source": [
    "test_df = pd.read_csv('/kaggle/input/playground-series-s5e7/test.csv')"
   ]
  },
  {
   "cell_type": "code",
   "execution_count": 5,
   "id": "5f8c769f",
   "metadata": {
    "execution": {
     "iopub.execute_input": "2025-07-29T07:05:45.154355Z",
     "iopub.status.busy": "2025-07-29T07:05:45.154023Z",
     "iopub.status.idle": "2025-07-29T07:05:45.162564Z",
     "shell.execute_reply": "2025-07-29T07:05:45.161610Z"
    },
    "papermill": {
     "duration": 0.017008,
     "end_time": "2025-07-29T07:05:45.164294",
     "exception": false,
     "start_time": "2025-07-29T07:05:45.147286",
     "status": "completed"
    },
    "tags": []
   },
   "outputs": [
    {
     "data": {
      "text/plain": [
       "Index(['id', 'Time_spent_Alone', 'Stage_fear', 'Social_event_attendance',\n",
       "       'Going_outside', 'Drained_after_socializing', 'Friends_circle_size',\n",
       "       'Post_frequency', 'Personality'],\n",
       "      dtype='object')"
      ]
     },
     "execution_count": 5,
     "metadata": {},
     "output_type": "execute_result"
    }
   ],
   "source": [
    "train_df.columns"
   ]
  },
  {
   "cell_type": "code",
   "execution_count": 6,
   "id": "38aaf530",
   "metadata": {
    "execution": {
     "iopub.execute_input": "2025-07-29T07:05:45.177568Z",
     "iopub.status.busy": "2025-07-29T07:05:45.177181Z",
     "iopub.status.idle": "2025-07-29T07:05:45.183191Z",
     "shell.execute_reply": "2025-07-29T07:05:45.182314Z"
    },
    "papermill": {
     "duration": 0.0143,
     "end_time": "2025-07-29T07:05:45.184612",
     "exception": false,
     "start_time": "2025-07-29T07:05:45.170312",
     "status": "completed"
    },
    "tags": []
   },
   "outputs": [
    {
     "data": {
      "text/plain": [
       "(18524, 9)"
      ]
     },
     "execution_count": 6,
     "metadata": {},
     "output_type": "execute_result"
    }
   ],
   "source": [
    "train_df.shape"
   ]
  },
  {
   "cell_type": "code",
   "execution_count": 7,
   "id": "8539e39a",
   "metadata": {
    "execution": {
     "iopub.execute_input": "2025-07-29T07:05:45.198591Z",
     "iopub.status.busy": "2025-07-29T07:05:45.198220Z",
     "iopub.status.idle": "2025-07-29T07:05:45.204288Z",
     "shell.execute_reply": "2025-07-29T07:05:45.203373Z"
    },
    "papermill": {
     "duration": 0.014397,
     "end_time": "2025-07-29T07:05:45.205828",
     "exception": false,
     "start_time": "2025-07-29T07:05:45.191431",
     "status": "completed"
    },
    "tags": []
   },
   "outputs": [
    {
     "data": {
      "text/plain": [
       "(6175, 8)"
      ]
     },
     "execution_count": 7,
     "metadata": {},
     "output_type": "execute_result"
    }
   ],
   "source": [
    "test_df.shape"
   ]
  },
  {
   "cell_type": "code",
   "execution_count": 8,
   "id": "3a3f1039",
   "metadata": {
    "execution": {
     "iopub.execute_input": "2025-07-29T07:05:45.219548Z",
     "iopub.status.busy": "2025-07-29T07:05:45.219176Z",
     "iopub.status.idle": "2025-07-29T07:05:45.252338Z",
     "shell.execute_reply": "2025-07-29T07:05:45.251411Z"
    },
    "papermill": {
     "duration": 0.041806,
     "end_time": "2025-07-29T07:05:45.253972",
     "exception": false,
     "start_time": "2025-07-29T07:05:45.212166",
     "status": "completed"
    },
    "tags": []
   },
   "outputs": [
    {
     "data": {
      "text/html": [
       "<div>\n",
       "<style scoped>\n",
       "    .dataframe tbody tr th:only-of-type {\n",
       "        vertical-align: middle;\n",
       "    }\n",
       "\n",
       "    .dataframe tbody tr th {\n",
       "        vertical-align: top;\n",
       "    }\n",
       "\n",
       "    .dataframe thead th {\n",
       "        text-align: right;\n",
       "    }\n",
       "</style>\n",
       "<table border=\"1\" class=\"dataframe\">\n",
       "  <thead>\n",
       "    <tr style=\"text-align: right;\">\n",
       "      <th></th>\n",
       "      <th>id</th>\n",
       "      <th>Time_spent_Alone</th>\n",
       "      <th>Stage_fear</th>\n",
       "      <th>Social_event_attendance</th>\n",
       "      <th>Going_outside</th>\n",
       "      <th>Drained_after_socializing</th>\n",
       "      <th>Friends_circle_size</th>\n",
       "      <th>Post_frequency</th>\n",
       "      <th>Personality</th>\n",
       "    </tr>\n",
       "  </thead>\n",
       "  <tbody>\n",
       "    <tr>\n",
       "      <th>0</th>\n",
       "      <td>0</td>\n",
       "      <td>0.0</td>\n",
       "      <td>No</td>\n",
       "      <td>6.0</td>\n",
       "      <td>4.0</td>\n",
       "      <td>No</td>\n",
       "      <td>15.0</td>\n",
       "      <td>5.0</td>\n",
       "      <td>Extrovert</td>\n",
       "    </tr>\n",
       "    <tr>\n",
       "      <th>1</th>\n",
       "      <td>1</td>\n",
       "      <td>1.0</td>\n",
       "      <td>No</td>\n",
       "      <td>7.0</td>\n",
       "      <td>3.0</td>\n",
       "      <td>No</td>\n",
       "      <td>10.0</td>\n",
       "      <td>8.0</td>\n",
       "      <td>Extrovert</td>\n",
       "    </tr>\n",
       "    <tr>\n",
       "      <th>2</th>\n",
       "      <td>2</td>\n",
       "      <td>6.0</td>\n",
       "      <td>Yes</td>\n",
       "      <td>1.0</td>\n",
       "      <td>0.0</td>\n",
       "      <td>NaN</td>\n",
       "      <td>3.0</td>\n",
       "      <td>0.0</td>\n",
       "      <td>Introvert</td>\n",
       "    </tr>\n",
       "    <tr>\n",
       "      <th>3</th>\n",
       "      <td>3</td>\n",
       "      <td>3.0</td>\n",
       "      <td>No</td>\n",
       "      <td>7.0</td>\n",
       "      <td>3.0</td>\n",
       "      <td>No</td>\n",
       "      <td>11.0</td>\n",
       "      <td>5.0</td>\n",
       "      <td>Extrovert</td>\n",
       "    </tr>\n",
       "    <tr>\n",
       "      <th>4</th>\n",
       "      <td>4</td>\n",
       "      <td>1.0</td>\n",
       "      <td>No</td>\n",
       "      <td>4.0</td>\n",
       "      <td>4.0</td>\n",
       "      <td>No</td>\n",
       "      <td>13.0</td>\n",
       "      <td>NaN</td>\n",
       "      <td>Extrovert</td>\n",
       "    </tr>\n",
       "    <tr>\n",
       "      <th>5</th>\n",
       "      <td>5</td>\n",
       "      <td>2.0</td>\n",
       "      <td>No</td>\n",
       "      <td>8.0</td>\n",
       "      <td>5.0</td>\n",
       "      <td>No</td>\n",
       "      <td>NaN</td>\n",
       "      <td>3.0</td>\n",
       "      <td>Extrovert</td>\n",
       "    </tr>\n",
       "    <tr>\n",
       "      <th>6</th>\n",
       "      <td>6</td>\n",
       "      <td>1.0</td>\n",
       "      <td>No</td>\n",
       "      <td>8.0</td>\n",
       "      <td>NaN</td>\n",
       "      <td>No</td>\n",
       "      <td>NaN</td>\n",
       "      <td>4.0</td>\n",
       "      <td>Extrovert</td>\n",
       "    </tr>\n",
       "    <tr>\n",
       "      <th>7</th>\n",
       "      <td>7</td>\n",
       "      <td>2.0</td>\n",
       "      <td>No</td>\n",
       "      <td>8.0</td>\n",
       "      <td>3.0</td>\n",
       "      <td>No</td>\n",
       "      <td>4.0</td>\n",
       "      <td>5.0</td>\n",
       "      <td>Extrovert</td>\n",
       "    </tr>\n",
       "    <tr>\n",
       "      <th>8</th>\n",
       "      <td>8</td>\n",
       "      <td>4.0</td>\n",
       "      <td>Yes</td>\n",
       "      <td>2.0</td>\n",
       "      <td>1.0</td>\n",
       "      <td>NaN</td>\n",
       "      <td>0.0</td>\n",
       "      <td>2.0</td>\n",
       "      <td>Introvert</td>\n",
       "    </tr>\n",
       "    <tr>\n",
       "      <th>9</th>\n",
       "      <td>9</td>\n",
       "      <td>1.0</td>\n",
       "      <td>No</td>\n",
       "      <td>8.0</td>\n",
       "      <td>6.0</td>\n",
       "      <td>No</td>\n",
       "      <td>14.0</td>\n",
       "      <td>9.0</td>\n",
       "      <td>Extrovert</td>\n",
       "    </tr>\n",
       "  </tbody>\n",
       "</table>\n",
       "</div>"
      ],
      "text/plain": [
       "   id  Time_spent_Alone Stage_fear  Social_event_attendance  Going_outside  \\\n",
       "0   0               0.0         No                      6.0            4.0   \n",
       "1   1               1.0         No                      7.0            3.0   \n",
       "2   2               6.0        Yes                      1.0            0.0   \n",
       "3   3               3.0         No                      7.0            3.0   \n",
       "4   4               1.0         No                      4.0            4.0   \n",
       "5   5               2.0         No                      8.0            5.0   \n",
       "6   6               1.0         No                      8.0            NaN   \n",
       "7   7               2.0         No                      8.0            3.0   \n",
       "8   8               4.0        Yes                      2.0            1.0   \n",
       "9   9               1.0         No                      8.0            6.0   \n",
       "\n",
       "  Drained_after_socializing  Friends_circle_size  Post_frequency Personality  \n",
       "0                        No                 15.0             5.0   Extrovert  \n",
       "1                        No                 10.0             8.0   Extrovert  \n",
       "2                       NaN                  3.0             0.0   Introvert  \n",
       "3                        No                 11.0             5.0   Extrovert  \n",
       "4                        No                 13.0             NaN   Extrovert  \n",
       "5                        No                  NaN             3.0   Extrovert  \n",
       "6                        No                  NaN             4.0   Extrovert  \n",
       "7                        No                  4.0             5.0   Extrovert  \n",
       "8                       NaN                  0.0             2.0   Introvert  \n",
       "9                        No                 14.0             9.0   Extrovert  "
      ]
     },
     "execution_count": 8,
     "metadata": {},
     "output_type": "execute_result"
    }
   ],
   "source": [
    "train_df.head(10)"
   ]
  },
  {
   "cell_type": "code",
   "execution_count": 9,
   "id": "b9983dd3",
   "metadata": {
    "execution": {
     "iopub.execute_input": "2025-07-29T07:05:45.268757Z",
     "iopub.status.busy": "2025-07-29T07:05:45.267759Z",
     "iopub.status.idle": "2025-07-29T07:05:45.982512Z",
     "shell.execute_reply": "2025-07-29T07:05:45.981419Z"
    },
    "papermill": {
     "duration": 0.723461,
     "end_time": "2025-07-29T07:05:45.984107",
     "exception": false,
     "start_time": "2025-07-29T07:05:45.260646",
     "status": "completed"
    },
    "tags": []
   },
   "outputs": [
    {
     "data": {
      "text/plain": [
       "<seaborn.axisgrid.FacetGrid at 0x7f1f1a923b50>"
      ]
     },
     "execution_count": 9,
     "metadata": {},
     "output_type": "execute_result"
    },
    {
     "data": {
      "image/png": "[encoded data removed]",
      "text/plain": [
       "<Figure size 500x500 with 1 Axes>"
      ]
     },
     "metadata": {},
     "output_type": "display_data"
    }
   ],
   "source": [
    "sns.displot(train_df['Time_spent_Alone'],kde = True)"
   ]
  },
  {
   "cell_type": "code",
   "execution_count": 10,
   "id": "2781cd8f",
   "metadata": {
    "execution": {
     "iopub.execute_input": "2025-07-29T07:05:45.999036Z",
     "iopub.status.busy": "2025-07-29T07:05:45.998677Z",
     "iopub.status.idle": "2025-07-29T07:05:46.496959Z",
     "shell.execute_reply": "2025-07-29T07:05:46.495962Z"
    },
    "papermill": {
     "duration": 0.507711,
     "end_time": "2025-07-29T07:05:46.498719",
     "exception": false,
     "start_time": "2025-07-29T07:05:45.991008",
     "status": "completed"
    },
    "tags": []
   },
   "outputs": [
    {
     "data": {
      "text/plain": [
       "Text(0.5, 1.0, 'Social_event_attendance vs Personlaity')"
      ]
     },
     "execution_count": 10,
     "metadata": {},
     "output_type": "execute_result"
    },
    {
     "data": {
      "image/png": "[encoded data removed]",
      "text/plain": [
       "<Figure size 300x200 with 1 Axes>"
      ]
     },
     "metadata": {},
     "output_type": "display_data"
    }
   ],
   "source": [
    "#sns.pairplot(train_df)\n",
    "#plt.show()\n",
    "plt.figure(figsize=(3,2))\n",
    "sns.barplot(x=train_df['Social_event_attendance'], y=train_df['Personality'])\n",
    "plt.xticks(rotation= 45)\n",
    "plt.xlabel('Social_event_attendance')\n",
    "plt.ylabel('Personality')\n",
    "plt.title('Social_event_attendance vs Personlaity')"
   ]
  },
  {
   "cell_type": "code",
   "execution_count": 11,
   "id": "2eda6c3d",
   "metadata": {
    "execution": {
     "iopub.execute_input": "2025-07-29T07:05:46.515631Z",
     "iopub.status.busy": "2025-07-29T07:05:46.515317Z",
     "iopub.status.idle": "2025-07-29T07:05:47.019109Z",
     "shell.execute_reply": "2025-07-29T07:05:47.018010Z"
    },
    "papermill": {
     "duration": 0.514356,
     "end_time": "2025-07-29T07:05:47.020777",
     "exception": false,
     "start_time": "2025-07-29T07:05:46.506421",
     "status": "completed"
    },
    "tags": []
   },
   "outputs": [
    {
     "data": {
      "text/plain": [
       "Text(0.5, 1.0, 'Time_spent_Alone vs Personlaity')"
      ]
     },
     "execution_count": 11,
     "metadata": {},
     "output_type": "execute_result"
    },
    {
     "data": {
      "image/png": "[encoded data removed]",
      "text/plain": [
       "<Figure size 300x200 with 1 Axes>"
      ]
     },
     "metadata": {},
     "output_type": "display_data"
    }
   ],
   "source": [
    "plt.figure(figsize=(3,2))\n",
    "sns.barplot(x=train_df['Time_spent_Alone'], y=train_df['Personality'])\n",
    "plt.xticks(rotation= 45)\n",
    "plt.xlabel('Time_spent_Alone')\n",
    "plt.ylabel('Personality')\n",
    "plt.title('Time_spent_Alone vs Personlaity')"
   ]
  },
  {
   "cell_type": "code",
   "execution_count": 12,
   "id": "5908d853",
   "metadata": {
    "execution": {
     "iopub.execute_input": "2025-07-29T07:05:47.038594Z",
     "iopub.status.busy": "2025-07-29T07:05:47.038241Z",
     "iopub.status.idle": "2025-07-29T07:05:47.541307Z",
     "shell.execute_reply": "2025-07-29T07:05:47.540267Z"
    },
    "papermill": {
     "duration": 0.513675,
     "end_time": "2025-07-29T07:05:47.542899",
     "exception": false,
     "start_time": "2025-07-29T07:05:47.029224",
     "status": "completed"
    },
    "tags": []
   },
   "outputs": [
    {
     "data": {
      "text/plain": [
       "Text(0.5, 1.0, 'Going_outside vs Personlaity')"
      ]
     },
     "execution_count": 12,
     "metadata": {},
     "output_type": "execute_result"
    },
    {
     "data": {
      "image/png": "[encoded data removed]",
      "text/plain": [
       "<Figure size 300x200 with 1 Axes>"
      ]
     },
     "metadata": {},
     "output_type": "display_data"
    }
   ],
   "source": [
    "plt.figure(figsize=(3,2))\n",
    "sns.barplot(x=train_df['Going_outside'], y=train_df['Personality'])\n",
    "plt.xticks(rotation= 45)\n",
    "plt.xlabel('Going_outside')\n",
    "plt.ylabel('Personality')\n",
    "plt.title('Going_outside vs Personlaity')"
   ]
  },
  {
   "cell_type": "code",
   "execution_count": 13,
   "id": "bcd448b0",
   "metadata": {
    "execution": {
     "iopub.execute_input": "2025-07-29T07:05:47.560327Z",
     "iopub.status.busy": "2025-07-29T07:05:47.559997Z",
     "iopub.status.idle": "2025-07-29T07:05:48.046635Z",
     "shell.execute_reply": "2025-07-29T07:05:48.045634Z"
    },
    "papermill": {
     "duration": 0.497155,
     "end_time": "2025-07-29T07:05:48.048208",
     "exception": false,
     "start_time": "2025-07-29T07:05:47.551053",
     "status": "completed"
    },
    "tags": []
   },
   "outputs": [
    {
     "data": {
      "text/plain": [
       "Text(0.5, 1.0, 'Friends_circle_size vs Personlaity')"
      ]
     },
     "execution_count": 13,
     "metadata": {},
     "output_type": "execute_result"
    },
    {
     "data": {
      "image/png": "[encoded data removed]",
      "text/plain": [
       "<Figure size 300x200 with 1 Axes>"
      ]
     },
     "metadata": {},
     "output_type": "display_data"
    }
   ],
   "source": [
    "plt.figure(figsize=(3,2))\n",
    "sns.barplot(x=train_df['Friends_circle_size'], y=train_df['Personality'])\n",
    "plt.xticks(rotation= 45)\n",
    "plt.xlabel('Friends_circle_size')\n",
    "plt.ylabel('Personality')\n",
    "plt.title('Friends_circle_size vs Personlaity')"
   ]
  },
  {
   "cell_type": "code",
   "execution_count": 14,
   "id": "043804a4",
   "metadata": {
    "execution": {
     "iopub.execute_input": "2025-07-29T07:05:48.066753Z",
     "iopub.status.busy": "2025-07-29T07:05:48.066376Z",
     "iopub.status.idle": "2025-07-29T07:05:48.073702Z",
     "shell.execute_reply": "2025-07-29T07:05:48.072698Z"
    },
    "papermill": {
     "duration": 0.018469,
     "end_time": "2025-07-29T07:05:48.075297",
     "exception": false,
     "start_time": "2025-07-29T07:05:48.056828",
     "status": "completed"
    },
    "tags": []
   },
   "outputs": [
    {
     "data": {
      "text/plain": [
       "0    Extrovert\n",
       "1    Extrovert\n",
       "2    Introvert\n",
       "3    Extrovert\n",
       "4    Extrovert\n",
       "Name: Personality, dtype: object"
      ]
     },
     "execution_count": 14,
     "metadata": {},
     "output_type": "execute_result"
    }
   ],
   "source": [
    "y = train_df.iloc[:, -1]\n",
    "y.head()"
   ]
  },
  {
   "cell_type": "code",
   "execution_count": 15,
   "id": "259efa1f",
   "metadata": {
    "execution": {
     "iopub.execute_input": "2025-07-29T07:05:48.096048Z",
     "iopub.status.busy": "2025-07-29T07:05:48.095691Z",
     "iopub.status.idle": "2025-07-29T07:05:48.110435Z",
     "shell.execute_reply": "2025-07-29T07:05:48.109529Z"
    },
    "papermill": {
     "duration": 0.026,
     "end_time": "2025-07-29T07:05:48.112219",
     "exception": false,
     "start_time": "2025-07-29T07:05:48.086219",
     "status": "completed"
    },
    "tags": []
   },
   "outputs": [
    {
     "data": {
      "text/html": [
       "<div>\n",
       "<style scoped>\n",
       "    .dataframe tbody tr th:only-of-type {\n",
       "        vertical-align: middle;\n",
       "    }\n",
       "\n",
       "    .dataframe tbody tr th {\n",
       "        vertical-align: top;\n",
       "    }\n",
       "\n",
       "    .dataframe thead th {\n",
       "        text-align: right;\n",
       "    }\n",
       "</style>\n",
       "<table border=\"1\" class=\"dataframe\">\n",
       "  <thead>\n",
       "    <tr style=\"text-align: right;\">\n",
       "      <th></th>\n",
       "      <th>id</th>\n",
       "      <th>Time_spent_Alone</th>\n",
       "      <th>Stage_fear</th>\n",
       "      <th>Social_event_attendance</th>\n",
       "      <th>Going_outside</th>\n",
       "      <th>Drained_after_socializing</th>\n",
       "      <th>Friends_circle_size</th>\n",
       "      <th>Post_frequency</th>\n",
       "    </tr>\n",
       "  </thead>\n",
       "  <tbody>\n",
       "    <tr>\n",
       "      <th>0</th>\n",
       "      <td>0</td>\n",
       "      <td>0.0</td>\n",
       "      <td>No</td>\n",
       "      <td>6.0</td>\n",
       "      <td>4.0</td>\n",
       "      <td>No</td>\n",
       "      <td>15.0</td>\n",
       "      <td>5.0</td>\n",
       "    </tr>\n",
       "    <tr>\n",
       "      <th>1</th>\n",
       "      <td>1</td>\n",
       "      <td>1.0</td>\n",
       "      <td>No</td>\n",
       "      <td>7.0</td>\n",
       "      <td>3.0</td>\n",
       "      <td>No</td>\n",
       "      <td>10.0</td>\n",
       "      <td>8.0</td>\n",
       "    </tr>\n",
       "    <tr>\n",
       "      <th>2</th>\n",
       "      <td>2</td>\n",
       "      <td>6.0</td>\n",
       "      <td>Yes</td>\n",
       "      <td>1.0</td>\n",
       "      <td>0.0</td>\n",
       "      <td>NaN</td>\n",
       "      <td>3.0</td>\n",
       "      <td>0.0</td>\n",
       "    </tr>\n",
       "    <tr>\n",
       "      <th>3</th>\n",
       "      <td>3</td>\n",
       "      <td>3.0</td>\n",
       "      <td>No</td>\n",
       "      <td>7.0</td>\n",
       "      <td>3.0</td>\n",
       "      <td>No</td>\n",
       "      <td>11.0</td>\n",
       "      <td>5.0</td>\n",
       "    </tr>\n",
       "    <tr>\n",
       "      <th>4</th>\n",
       "      <td>4</td>\n",
       "      <td>1.0</td>\n",
       "      <td>No</td>\n",
       "      <td>4.0</td>\n",
       "      <td>4.0</td>\n",
       "      <td>No</td>\n",
       "      <td>13.0</td>\n",
       "      <td>NaN</td>\n",
       "    </tr>\n",
       "  </tbody>\n",
       "</table>\n",
       "</div>"
      ],
      "text/plain": [
       "   id  Time_spent_Alone Stage_fear  Social_event_attendance  Going_outside  \\\n",
       "0   0               0.0         No                      6.0            4.0   \n",
       "1   1               1.0         No                      7.0            3.0   \n",
       "2   2               6.0        Yes                      1.0            0.0   \n",
       "3   3               3.0         No                      7.0            3.0   \n",
       "4   4               1.0         No                      4.0            4.0   \n",
       "\n",
       "  Drained_after_socializing  Friends_circle_size  Post_frequency  \n",
       "0                        No                 15.0             5.0  \n",
       "1                        No                 10.0             8.0  \n",
       "2                       NaN                  3.0             0.0  \n",
       "3                        No                 11.0             5.0  \n",
       "4                        No                 13.0             NaN  "
      ]
     },
     "execution_count": 15,
     "metadata": {},
     "output_type": "execute_result"
    }
   ],
   "source": [
    "X = train_df.iloc[:, :-1]\n",
    "X.head()"
   ]
  },
  {
   "cell_type": "code",
   "execution_count": 16,
   "id": "dd3fbf01",
   "metadata": {
    "execution": {
     "iopub.execute_input": "2025-07-29T07:05:48.131651Z",
     "iopub.status.busy": "2025-07-29T07:05:48.131287Z",
     "iopub.status.idle": "2025-07-29T07:05:48.135741Z",
     "shell.execute_reply": "2025-07-29T07:05:48.134787Z"
    },
    "papermill": {
     "duration": 0.015811,
     "end_time": "2025-07-29T07:05:48.137311",
     "exception": false,
     "start_time": "2025-07-29T07:05:48.121500",
     "status": "completed"
    },
    "tags": []
   },
   "outputs": [],
   "source": [
    "cat_columns = ['Stage_fear', 'Drained_after_socializing']"
   ]
  },
  {
   "cell_type": "code",
   "execution_count": 17,
   "id": "5affd92e",
   "metadata": {
    "execution": {
     "iopub.execute_input": "2025-07-29T07:05:48.156376Z",
     "iopub.status.busy": "2025-07-29T07:05:48.156049Z",
     "iopub.status.idle": "2025-07-29T07:05:48.166363Z",
     "shell.execute_reply": "2025-07-29T07:05:48.165536Z"
    },
    "papermill": {
     "duration": 0.021745,
     "end_time": "2025-07-29T07:05:48.167810",
     "exception": false,
     "start_time": "2025-07-29T07:05:48.146065",
     "status": "completed"
    },
    "tags": []
   },
   "outputs": [
    {
     "data": {
      "text/plain": [
       "Stage_fear                   1893\n",
       "Drained_after_socializing    1149\n",
       "dtype: int64"
      ]
     },
     "execution_count": 17,
     "metadata": {},
     "output_type": "execute_result"
    }
   ],
   "source": [
    "train_df[cat_columns].isnull().sum()"
   ]
  },
  {
   "cell_type": "code",
   "execution_count": 18,
   "id": "60ac6101",
   "metadata": {
    "execution": {
     "iopub.execute_input": "2025-07-29T07:05:48.186631Z",
     "iopub.status.busy": "2025-07-29T07:05:48.186298Z",
     "iopub.status.idle": "2025-07-29T07:05:48.192991Z",
     "shell.execute_reply": "2025-07-29T07:05:48.192117Z"
    },
    "papermill": {
     "duration": 0.017883,
     "end_time": "2025-07-29T07:05:48.194493",
     "exception": false,
     "start_time": "2025-07-29T07:05:48.176610",
     "status": "completed"
    },
    "tags": []
   },
   "outputs": [
    {
     "data": {
      "text/plain": [
       "array(['No', 'Yes', nan], dtype=object)"
      ]
     },
     "execution_count": 18,
     "metadata": {},
     "output_type": "execute_result"
    }
   ],
   "source": [
    "train_df['Stage_fear'].unique()"
   ]
  },
  {
   "cell_type": "code",
   "execution_count": 19,
   "id": "285209c1",
   "metadata": {
    "execution": {
     "iopub.execute_input": "2025-07-29T07:05:48.213606Z",
     "iopub.status.busy": "2025-07-29T07:05:48.213271Z",
     "iopub.status.idle": "2025-07-29T07:05:48.233749Z",
     "shell.execute_reply": "2025-07-29T07:05:48.232620Z"
    },
    "papermill": {
     "duration": 0.032429,
     "end_time": "2025-07-29T07:05:48.235754",
     "exception": false,
     "start_time": "2025-07-29T07:05:48.203325",
     "status": "completed"
    },
    "tags": []
   },
   "outputs": [
    {
     "name": "stdout",
     "output_type": "stream",
     "text": [
      "\n",
      "Method 1: Filled using a loop for each column's mode:\n",
      "          id  Time_spent_Alone Stage_fear  Social_event_attendance  \\\n",
      "0          0               0.0         No                      6.0   \n",
      "1          1               1.0         No                      7.0   \n",
      "2          2               6.0        Yes                      1.0   \n",
      "3          3               3.0         No                      7.0   \n",
      "4          4               1.0         No                      4.0   \n",
      "...      ...               ...        ...                      ...   \n",
      "18519  18519               3.0         No                      7.0   \n",
      "18520  18520               1.0         No                      6.0   \n",
      "18521  18521               7.0        Yes                      1.0   \n",
      "18522  18522               NaN        Yes                      1.0   \n",
      "18523  18523               1.0         No                      8.0   \n",
      "\n",
      "       Going_outside Drained_after_socializing  Friends_circle_size  \\\n",
      "0                4.0                        No                 15.0   \n",
      "1                3.0                        No                 10.0   \n",
      "2                0.0                        No                  3.0   \n",
      "3                3.0                        No                 11.0   \n",
      "4                4.0                        No                 13.0   \n",
      "...              ...                       ...                  ...   \n",
      "18519            3.0                        No                  9.0   \n",
      "18520            7.0                        No                  6.0   \n",
      "18521            1.0                       Yes                  1.0   \n",
      "18522            0.0                       Yes                  5.0   \n",
      "18523            6.0                        No                  4.0   \n",
      "\n",
      "       Post_frequency Personality  \n",
      "0                 5.0   Extrovert  \n",
      "1                 8.0   Extrovert  \n",
      "2                 0.0   Introvert  \n",
      "3                 5.0   Extrovert  \n",
      "4                 NaN   Extrovert  \n",
      "...               ...         ...  \n",
      "18519             7.0   Extrovert  \n",
      "18520             5.0   Extrovert  \n",
      "18521             NaN   Introvert  \n",
      "18522             2.0   Introvert  \n",
      "18523             7.0   Extrovert  \n",
      "\n",
      "[18524 rows x 9 columns]\n"
     ]
    }
   ],
   "source": [
    "train_df_fill = train_df.copy()\n",
    "for col in cat_columns:\n",
    "    if col in train_df_fill.columns: \n",
    "        mode_val = train_df_fill[col].mode()[0]\n",
    "        train_df_fill[col] = train_df_fill[col].fillna(mode_val)\n",
    "print(\"\\nMethod 1: Filled using a loop for each column's mode:\")\n",
    "print(train_df_fill)"
   ]
  },
  {
   "cell_type": "code",
   "execution_count": 20,
   "id": "77e6fd42",
   "metadata": {
    "execution": {
     "iopub.execute_input": "2025-07-29T07:05:48.254453Z",
     "iopub.status.busy": "2025-07-29T07:05:48.254143Z",
     "iopub.status.idle": "2025-07-29T07:05:48.264679Z",
     "shell.execute_reply": "2025-07-29T07:05:48.263791Z"
    },
    "papermill": {
     "duration": 0.021651,
     "end_time": "2025-07-29T07:05:48.266199",
     "exception": false,
     "start_time": "2025-07-29T07:05:48.244548",
     "status": "completed"
    },
    "tags": []
   },
   "outputs": [
    {
     "data": {
      "text/plain": [
       "Stage_fear                   0\n",
       "Drained_after_socializing    0\n",
       "dtype: int64"
      ]
     },
     "execution_count": 20,
     "metadata": {},
     "output_type": "execute_result"
    }
   ],
   "source": [
    "train_df_fill[cat_columns].isna().sum()"
   ]
  },
  {
   "cell_type": "code",
   "execution_count": 21,
   "id": "67e12c2c",
   "metadata": {
    "execution": {
     "iopub.execute_input": "2025-07-29T07:05:48.285235Z",
     "iopub.status.busy": "2025-07-29T07:05:48.284852Z",
     "iopub.status.idle": "2025-07-29T07:05:48.291280Z",
     "shell.execute_reply": "2025-07-29T07:05:48.290414Z"
    },
    "papermill": {
     "duration": 0.017707,
     "end_time": "2025-07-29T07:05:48.292755",
     "exception": false,
     "start_time": "2025-07-29T07:05:48.275048",
     "status": "completed"
    },
    "tags": []
   },
   "outputs": [
    {
     "data": {
      "text/plain": [
       "['id',\n",
       " 'Time_spent_Alone',\n",
       " 'Social_event_attendance',\n",
       " 'Going_outside',\n",
       " 'Friends_circle_size',\n",
       " 'Post_frequency']"
      ]
     },
     "execution_count": 21,
     "metadata": {},
     "output_type": "execute_result"
    }
   ],
   "source": [
    "numerical_cols = [col for col in X.columns if col not in cat_columns]\n",
    "numerical_cols"
   ]
  },
  {
   "cell_type": "code",
   "execution_count": 22,
   "id": "8bacf220",
   "metadata": {
    "execution": {
     "iopub.execute_input": "2025-07-29T07:05:48.312568Z",
     "iopub.status.busy": "2025-07-29T07:05:48.311762Z",
     "iopub.status.idle": "2025-07-29T07:05:48.328120Z",
     "shell.execute_reply": "2025-07-29T07:05:48.326967Z"
    },
    "papermill": {
     "duration": 0.027768,
     "end_time": "2025-07-29T07:05:48.329693",
     "exception": false,
     "start_time": "2025-07-29T07:05:48.301925",
     "status": "completed"
    },
    "tags": []
   },
   "outputs": [
    {
     "name": "stdout",
     "output_type": "stream",
     "text": [
      "\n",
      "Method 1: Filled using a loop for each column's mode:\n",
      "          id  Time_spent_Alone Stage_fear  Social_event_attendance  \\\n",
      "0          0               0.0         No                      6.0   \n",
      "1          1               1.0         No                      7.0   \n",
      "2          2               6.0        Yes                      1.0   \n",
      "3          3               3.0         No                      7.0   \n",
      "4          4               1.0         No                      4.0   \n",
      "...      ...               ...        ...                      ...   \n",
      "18519  18519               3.0         No                      7.0   \n",
      "18520  18520               1.0         No                      6.0   \n",
      "18521  18521               7.0        Yes                      1.0   \n",
      "18522  18522               2.0        Yes                      1.0   \n",
      "18523  18523               1.0         No                      8.0   \n",
      "\n",
      "       Going_outside Drained_after_socializing  Friends_circle_size  \\\n",
      "0                4.0                        No                 15.0   \n",
      "1                3.0                        No                 10.0   \n",
      "2                0.0                        No                  3.0   \n",
      "3                3.0                        No                 11.0   \n",
      "4                4.0                        No                 13.0   \n",
      "...              ...                       ...                  ...   \n",
      "18519            3.0                        No                  9.0   \n",
      "18520            7.0                        No                  6.0   \n",
      "18521            1.0                       Yes                  1.0   \n",
      "18522            0.0                       Yes                  5.0   \n",
      "18523            6.0                        No                  4.0   \n",
      "\n",
      "       Post_frequency Personality  \n",
      "0                 5.0   Extrovert  \n",
      "1                 8.0   Extrovert  \n",
      "2                 0.0   Introvert  \n",
      "3                 5.0   Extrovert  \n",
      "4                 5.0   Extrovert  \n",
      "...               ...         ...  \n",
      "18519             7.0   Extrovert  \n",
      "18520             5.0   Extrovert  \n",
      "18521             5.0   Introvert  \n",
      "18522             2.0   Introvert  \n",
      "18523             7.0   Extrovert  \n",
      "\n",
      "[18524 rows x 9 columns]\n"
     ]
    }
   ],
   "source": [
    "for col in numerical_cols:\n",
    "    if col in train_df_fill.columns: # Ensure the column exists\n",
    "        # Calculate the mode for the current column. .mode()[0] handles ties by taking the first mode.\n",
    "        median_val = train_df_fill[col].median()\n",
    "        train_df_fill[col] = train_df_fill[col].fillna(median_val)\n",
    "print(\"\\nMethod 1: Filled using a loop for each column's mode:\")\n",
    "print(train_df_fill)"
   ]
  },
  {
   "cell_type": "code",
   "execution_count": 23,
   "id": "dedc3ef0",
   "metadata": {
    "execution": {
     "iopub.execute_input": "2025-07-29T07:05:48.349301Z",
     "iopub.status.busy": "2025-07-29T07:05:48.348958Z",
     "iopub.status.idle": "2025-07-29T07:05:48.358501Z",
     "shell.execute_reply": "2025-07-29T07:05:48.357425Z"
    },
    "papermill": {
     "duration": 0.021013,
     "end_time": "2025-07-29T07:05:48.359909",
     "exception": false,
     "start_time": "2025-07-29T07:05:48.338896",
     "status": "completed"
    },
    "tags": []
   },
   "outputs": [
    {
     "data": {
      "text/plain": [
       "id                         0\n",
       "Time_spent_Alone           0\n",
       "Social_event_attendance    0\n",
       "Going_outside              0\n",
       "Friends_circle_size        0\n",
       "Post_frequency             0\n",
       "dtype: int64"
      ]
     },
     "execution_count": 23,
     "metadata": {},
     "output_type": "execute_result"
    }
   ],
   "source": [
    "train_df_fill[numerical_cols].isna().sum()"
   ]
  },
  {
   "cell_type": "code",
   "execution_count": 24,
   "id": "e1b5f249",
   "metadata": {
    "execution": {
     "iopub.execute_input": "2025-07-29T07:05:48.379588Z",
     "iopub.status.busy": "2025-07-29T07:05:48.379242Z",
     "iopub.status.idle": "2025-07-29T07:05:48.396539Z",
     "shell.execute_reply": "2025-07-29T07:05:48.395386Z"
    },
    "papermill": {
     "duration": 0.029182,
     "end_time": "2025-07-29T07:05:48.398221",
     "exception": false,
     "start_time": "2025-07-29T07:05:48.369039",
     "status": "completed"
    },
    "tags": []
   },
   "outputs": [
    {
     "data": {
      "text/html": [
       "<div>\n",
       "<style scoped>\n",
       "    .dataframe tbody tr th:only-of-type {\n",
       "        vertical-align: middle;\n",
       "    }\n",
       "\n",
       "    .dataframe tbody tr th {\n",
       "        vertical-align: top;\n",
       "    }\n",
       "\n",
       "    .dataframe thead th {\n",
       "        text-align: right;\n",
       "    }\n",
       "</style>\n",
       "<table border=\"1\" class=\"dataframe\">\n",
       "  <thead>\n",
       "    <tr style=\"text-align: right;\">\n",
       "      <th></th>\n",
       "      <th>id</th>\n",
       "      <th>Time_spent_Alone</th>\n",
       "      <th>Stage_fear</th>\n",
       "      <th>Social_event_attendance</th>\n",
       "      <th>Going_outside</th>\n",
       "      <th>Drained_after_socializing</th>\n",
       "      <th>Friends_circle_size</th>\n",
       "      <th>Post_frequency</th>\n",
       "      <th>Personality</th>\n",
       "    </tr>\n",
       "  </thead>\n",
       "  <tbody>\n",
       "    <tr>\n",
       "      <th>0</th>\n",
       "      <td>0</td>\n",
       "      <td>0.0</td>\n",
       "      <td>No</td>\n",
       "      <td>6.0</td>\n",
       "      <td>4.0</td>\n",
       "      <td>No</td>\n",
       "      <td>15.0</td>\n",
       "      <td>5.0</td>\n",
       "      <td>Extrovert</td>\n",
       "    </tr>\n",
       "    <tr>\n",
       "      <th>1</th>\n",
       "      <td>1</td>\n",
       "      <td>1.0</td>\n",
       "      <td>No</td>\n",
       "      <td>7.0</td>\n",
       "      <td>3.0</td>\n",
       "      <td>No</td>\n",
       "      <td>10.0</td>\n",
       "      <td>8.0</td>\n",
       "      <td>Extrovert</td>\n",
       "    </tr>\n",
       "    <tr>\n",
       "      <th>2</th>\n",
       "      <td>2</td>\n",
       "      <td>6.0</td>\n",
       "      <td>Yes</td>\n",
       "      <td>1.0</td>\n",
       "      <td>0.0</td>\n",
       "      <td>No</td>\n",
       "      <td>3.0</td>\n",
       "      <td>0.0</td>\n",
       "      <td>Introvert</td>\n",
       "    </tr>\n",
       "    <tr>\n",
       "      <th>3</th>\n",
       "      <td>3</td>\n",
       "      <td>3.0</td>\n",
       "      <td>No</td>\n",
       "      <td>7.0</td>\n",
       "      <td>3.0</td>\n",
       "      <td>No</td>\n",
       "      <td>11.0</td>\n",
       "      <td>5.0</td>\n",
       "      <td>Extrovert</td>\n",
       "    </tr>\n",
       "    <tr>\n",
       "      <th>4</th>\n",
       "      <td>4</td>\n",
       "      <td>1.0</td>\n",
       "      <td>No</td>\n",
       "      <td>4.0</td>\n",
       "      <td>4.0</td>\n",
       "      <td>No</td>\n",
       "      <td>13.0</td>\n",
       "      <td>5.0</td>\n",
       "      <td>Extrovert</td>\n",
       "    </tr>\n",
       "    <tr>\n",
       "      <th>5</th>\n",
       "      <td>5</td>\n",
       "      <td>2.0</td>\n",
       "      <td>No</td>\n",
       "      <td>8.0</td>\n",
       "      <td>5.0</td>\n",
       "      <td>No</td>\n",
       "      <td>8.0</td>\n",
       "      <td>3.0</td>\n",
       "      <td>Extrovert</td>\n",
       "    </tr>\n",
       "    <tr>\n",
       "      <th>6</th>\n",
       "      <td>6</td>\n",
       "      <td>1.0</td>\n",
       "      <td>No</td>\n",
       "      <td>8.0</td>\n",
       "      <td>4.0</td>\n",
       "      <td>No</td>\n",
       "      <td>8.0</td>\n",
       "      <td>4.0</td>\n",
       "      <td>Extrovert</td>\n",
       "    </tr>\n",
       "    <tr>\n",
       "      <th>7</th>\n",
       "      <td>7</td>\n",
       "      <td>2.0</td>\n",
       "      <td>No</td>\n",
       "      <td>8.0</td>\n",
       "      <td>3.0</td>\n",
       "      <td>No</td>\n",
       "      <td>4.0</td>\n",
       "      <td>5.0</td>\n",
       "      <td>Extrovert</td>\n",
       "    </tr>\n",
       "    <tr>\n",
       "      <th>8</th>\n",
       "      <td>8</td>\n",
       "      <td>4.0</td>\n",
       "      <td>Yes</td>\n",
       "      <td>2.0</td>\n",
       "      <td>1.0</td>\n",
       "      <td>No</td>\n",
       "      <td>0.0</td>\n",
       "      <td>2.0</td>\n",
       "      <td>Introvert</td>\n",
       "    </tr>\n",
       "    <tr>\n",
       "      <th>9</th>\n",
       "      <td>9</td>\n",
       "      <td>1.0</td>\n",
       "      <td>No</td>\n",
       "      <td>8.0</td>\n",
       "      <td>6.0</td>\n",
       "      <td>No</td>\n",
       "      <td>14.0</td>\n",
       "      <td>9.0</td>\n",
       "      <td>Extrovert</td>\n",
       "    </tr>\n",
       "  </tbody>\n",
       "</table>\n",
       "</div>"
      ],
      "text/plain": [
       "   id  Time_spent_Alone Stage_fear  Social_event_attendance  Going_outside  \\\n",
       "0   0               0.0         No                      6.0            4.0   \n",
       "1   1               1.0         No                      7.0            3.0   \n",
       "2   2               6.0        Yes                      1.0            0.0   \n",
       "3   3               3.0         No                      7.0            3.0   \n",
       "4   4               1.0         No                      4.0            4.0   \n",
       "5   5               2.0         No                      8.0            5.0   \n",
       "6   6               1.0         No                      8.0            4.0   \n",
       "7   7               2.0         No                      8.0            3.0   \n",
       "8   8               4.0        Yes                      2.0            1.0   \n",
       "9   9               1.0         No                      8.0            6.0   \n",
       "\n",
       "  Drained_after_socializing  Friends_circle_size  Post_frequency Personality  \n",
       "0                        No                 15.0             5.0   Extrovert  \n",
       "1                        No                 10.0             8.0   Extrovert  \n",
       "2                        No                  3.0             0.0   Introvert  \n",
       "3                        No                 11.0             5.0   Extrovert  \n",
       "4                        No                 13.0             5.0   Extrovert  \n",
       "5                        No                  8.0             3.0   Extrovert  \n",
       "6                        No                  8.0             4.0   Extrovert  \n",
       "7                        No                  4.0             5.0   Extrovert  \n",
       "8                        No                  0.0             2.0   Introvert  \n",
       "9                        No                 14.0             9.0   Extrovert  "
      ]
     },
     "execution_count": 24,
     "metadata": {},
     "output_type": "execute_result"
    }
   ],
   "source": [
    "train_df_fill.head(10)"
   ]
  },
  {
   "cell_type": "code",
   "execution_count": 25,
   "id": "1cb46226",
   "metadata": {
    "execution": {
     "iopub.execute_input": "2025-07-29T07:05:48.488036Z",
     "iopub.status.busy": "2025-07-29T07:05:48.487682Z",
     "iopub.status.idle": "2025-07-29T07:05:48.501830Z",
     "shell.execute_reply": "2025-07-29T07:05:48.500912Z"
    },
    "papermill": {
     "duration": 0.095312,
     "end_time": "2025-07-29T07:05:48.503496",
     "exception": false,
     "start_time": "2025-07-29T07:05:48.408184",
     "status": "completed"
    },
    "tags": []
   },
   "outputs": [
    {
     "data": {
      "text/html": [
       "<div>\n",
       "<style scoped>\n",
       "    .dataframe tbody tr th:only-of-type {\n",
       "        vertical-align: middle;\n",
       "    }\n",
       "\n",
       "    .dataframe tbody tr th {\n",
       "        vertical-align: top;\n",
       "    }\n",
       "\n",
       "    .dataframe thead th {\n",
       "        text-align: right;\n",
       "    }\n",
       "</style>\n",
       "<table border=\"1\" class=\"dataframe\">\n",
       "  <thead>\n",
       "    <tr style=\"text-align: right;\">\n",
       "      <th></th>\n",
       "      <th>id</th>\n",
       "      <th>Time_spent_Alone</th>\n",
       "      <th>Stage_fear</th>\n",
       "      <th>Social_event_attendance</th>\n",
       "      <th>Going_outside</th>\n",
       "      <th>Drained_after_socializing</th>\n",
       "      <th>Friends_circle_size</th>\n",
       "      <th>Post_frequency</th>\n",
       "    </tr>\n",
       "  </thead>\n",
       "  <tbody>\n",
       "    <tr>\n",
       "      <th>0</th>\n",
       "      <td>18524</td>\n",
       "      <td>3.0</td>\n",
       "      <td>No</td>\n",
       "      <td>7.0</td>\n",
       "      <td>4.0</td>\n",
       "      <td>No</td>\n",
       "      <td>6.0</td>\n",
       "      <td>NaN</td>\n",
       "    </tr>\n",
       "    <tr>\n",
       "      <th>1</th>\n",
       "      <td>18525</td>\n",
       "      <td>NaN</td>\n",
       "      <td>Yes</td>\n",
       "      <td>0.0</td>\n",
       "      <td>0.0</td>\n",
       "      <td>Yes</td>\n",
       "      <td>5.0</td>\n",
       "      <td>1.0</td>\n",
       "    </tr>\n",
       "    <tr>\n",
       "      <th>2</th>\n",
       "      <td>18526</td>\n",
       "      <td>3.0</td>\n",
       "      <td>No</td>\n",
       "      <td>5.0</td>\n",
       "      <td>6.0</td>\n",
       "      <td>No</td>\n",
       "      <td>15.0</td>\n",
       "      <td>9.0</td>\n",
       "    </tr>\n",
       "    <tr>\n",
       "      <th>3</th>\n",
       "      <td>18527</td>\n",
       "      <td>3.0</td>\n",
       "      <td>No</td>\n",
       "      <td>4.0</td>\n",
       "      <td>4.0</td>\n",
       "      <td>No</td>\n",
       "      <td>5.0</td>\n",
       "      <td>6.0</td>\n",
       "    </tr>\n",
       "    <tr>\n",
       "      <th>4</th>\n",
       "      <td>18528</td>\n",
       "      <td>9.0</td>\n",
       "      <td>Yes</td>\n",
       "      <td>1.0</td>\n",
       "      <td>2.0</td>\n",
       "      <td>Yes</td>\n",
       "      <td>1.0</td>\n",
       "      <td>1.0</td>\n",
       "    </tr>\n",
       "  </tbody>\n",
       "</table>\n",
       "</div>"
      ],
      "text/plain": [
       "      id  Time_spent_Alone Stage_fear  Social_event_attendance  Going_outside  \\\n",
       "0  18524               3.0         No                      7.0            4.0   \n",
       "1  18525               NaN        Yes                      0.0            0.0   \n",
       "2  18526               3.0         No                      5.0            6.0   \n",
       "3  18527               3.0         No                      4.0            4.0   \n",
       "4  18528               9.0        Yes                      1.0            2.0   \n",
       "\n",
       "  Drained_after_socializing  Friends_circle_size  Post_frequency  \n",
       "0                        No                  6.0             NaN  \n",
       "1                       Yes                  5.0             1.0  \n",
       "2                        No                 15.0             9.0  \n",
       "3                        No                  5.0             6.0  \n",
       "4                       Yes                  1.0             1.0  "
      ]
     },
     "execution_count": 25,
     "metadata": {},
     "output_type": "execute_result"
    }
   ],
   "source": [
    "test_df.head()"
   ]
  },
  {
   "cell_type": "code",
   "execution_count": 26,
   "id": "69528c56",
   "metadata": {
    "execution": {
     "iopub.execute_input": "2025-07-29T07:05:48.524345Z",
     "iopub.status.busy": "2025-07-29T07:05:48.524029Z",
     "iopub.status.idle": "2025-07-29T07:05:48.534983Z",
     "shell.execute_reply": "2025-07-29T07:05:48.533907Z"
    },
    "papermill": {
     "duration": 0.023102,
     "end_time": "2025-07-29T07:05:48.536624",
     "exception": false,
     "start_time": "2025-07-29T07:05:48.513522",
     "status": "completed"
    },
    "tags": []
   },
   "outputs": [
    {
     "data": {
      "text/plain": [
       "id                              0\n",
       "Time_spent_Alone             1190\n",
       "Stage_fear                   1893\n",
       "Social_event_attendance      1180\n",
       "Going_outside                1466\n",
       "Drained_after_socializing    1149\n",
       "Friends_circle_size          1054\n",
       "Post_frequency               1264\n",
       "Personality                     0\n",
       "dtype: int64"
      ]
     },
     "execution_count": 26,
     "metadata": {},
     "output_type": "execute_result"
    }
   ],
   "source": [
    "train_df.isnull().sum()"
   ]
  },
  {
   "cell_type": "code",
   "execution_count": 27,
   "id": "18d1f504",
   "metadata": {
    "execution": {
     "iopub.execute_input": "2025-07-29T07:05:48.557710Z",
     "iopub.status.busy": "2025-07-29T07:05:48.557384Z",
     "iopub.status.idle": "2025-07-29T07:05:48.566399Z",
     "shell.execute_reply": "2025-07-29T07:05:48.565413Z"
    },
    "papermill": {
     "duration": 0.021426,
     "end_time": "2025-07-29T07:05:48.568093",
     "exception": false,
     "start_time": "2025-07-29T07:05:48.546667",
     "status": "completed"
    },
    "tags": []
   },
   "outputs": [
    {
     "data": {
      "text/plain": [
       "id                             0\n",
       "Time_spent_Alone             425\n",
       "Stage_fear                   598\n",
       "Social_event_attendance      397\n",
       "Going_outside                466\n",
       "Drained_after_socializing    432\n",
       "Friends_circle_size          350\n",
       "Post_frequency               408\n",
       "dtype: int64"
      ]
     },
     "execution_count": 27,
     "metadata": {},
     "output_type": "execute_result"
    }
   ],
   "source": [
    "test_df.isnull().sum()"
   ]
  },
  {
   "cell_type": "code",
   "execution_count": 28,
   "id": "07c620f8",
   "metadata": {
    "execution": {
     "iopub.execute_input": "2025-07-29T07:05:48.589716Z",
     "iopub.status.busy": "2025-07-29T07:05:48.589423Z",
     "iopub.status.idle": "2025-07-29T07:05:48.593620Z",
     "shell.execute_reply": "2025-07-29T07:05:48.592631Z"
    },
    "papermill": {
     "duration": 0.016672,
     "end_time": "2025-07-29T07:05:48.595291",
     "exception": false,
     "start_time": "2025-07-29T07:05:48.578619",
     "status": "completed"
    },
    "tags": []
   },
   "outputs": [],
   "source": [
    "#lenc = LabelEncoder()"
   ]
  },
  {
   "cell_type": "code",
   "execution_count": 29,
   "id": "183e5e57",
   "metadata": {
    "execution": {
     "iopub.execute_input": "2025-07-29T07:05:48.616405Z",
     "iopub.status.busy": "2025-07-29T07:05:48.616101Z",
     "iopub.status.idle": "2025-07-29T07:05:48.620306Z",
     "shell.execute_reply": "2025-07-29T07:05:48.619363Z"
    },
    "papermill": {
     "duration": 0.016564,
     "end_time": "2025-07-29T07:05:48.621797",
     "exception": false,
     "start_time": "2025-07-29T07:05:48.605233",
     "status": "completed"
    },
    "tags": []
   },
   "outputs": [],
   "source": [
    "#train_df['Stage_fear'] = lenc.fit_transform(train_df['Stage_fear'])\n",
    "#test_df['Stage_fear'] = lenc.fit_transform(test_df['Stage_fear'])\n",
    "#train_df['Drained_after_socializing'] = lenc.fit_transform(train_df['Drained_after_socializing'])\n",
    "#train_df['Personality'] = lenc.fit_transform(train_df['Personality'])\n",
    "#test_df['Drained_after_socializing'] = lenc.fit_transform(test_df['Drained_after_socializing'])"
   ]
  },
  {
   "cell_type": "code",
   "execution_count": 30,
   "id": "f9c27a8b",
   "metadata": {
    "execution": {
     "iopub.execute_input": "2025-07-29T07:05:48.642773Z",
     "iopub.status.busy": "2025-07-29T07:05:48.642474Z",
     "iopub.status.idle": "2025-07-29T07:05:48.647751Z",
     "shell.execute_reply": "2025-07-29T07:05:48.646936Z"
    },
    "papermill": {
     "duration": 0.017513,
     "end_time": "2025-07-29T07:05:48.649252",
     "exception": false,
     "start_time": "2025-07-29T07:05:48.631739",
     "status": "completed"
    },
    "tags": []
   },
   "outputs": [
    {
     "data": {
      "text/plain": [
       "(18524, 9)"
      ]
     },
     "execution_count": 30,
     "metadata": {},
     "output_type": "execute_result"
    }
   ],
   "source": [
    "train_df.shape"
   ]
  },
  {
   "cell_type": "code",
   "execution_count": 31,
   "id": "423f9dc8",
   "metadata": {
    "execution": {
     "iopub.execute_input": "2025-07-29T07:05:48.670799Z",
     "iopub.status.busy": "2025-07-29T07:05:48.670471Z",
     "iopub.status.idle": "2025-07-29T07:05:48.680768Z",
     "shell.execute_reply": "2025-07-29T07:05:48.679845Z"
    },
    "papermill": {
     "duration": 0.022947,
     "end_time": "2025-07-29T07:05:48.682333",
     "exception": false,
     "start_time": "2025-07-29T07:05:48.659386",
     "status": "completed"
    },
    "tags": []
   },
   "outputs": [
    {
     "data": {
      "text/plain": [
       "Personality\n",
       "Extrovert    13699\n",
       "Introvert     4825\n",
       "Name: count, dtype: int64"
      ]
     },
     "execution_count": 31,
     "metadata": {},
     "output_type": "execute_result"
    }
   ],
   "source": [
    "train_df['Personality'].value_counts()"
   ]
  },
  {
   "cell_type": "code",
   "execution_count": null,
   "id": "ada92e2f",
   "metadata": {
    "papermill": {
     "duration": 0.009668,
     "end_time": "2025-07-29T07:05:48.702110",
     "exception": false,
     "start_time": "2025-07-29T07:05:48.692442",
     "status": "completed"
    },
    "tags": []
   },
   "outputs": [],
   "source": []
  },
  {
   "cell_type": "code",
   "execution_count": null,
   "id": "eb4f379b",
   "metadata": {
    "papermill": {
     "duration": 0.009662,
     "end_time": "2025-07-29T07:05:48.721785",
     "exception": false,
     "start_time": "2025-07-29T07:05:48.712123",
     "status": "completed"
    },
    "tags": []
   },
   "outputs": [],
   "source": []
  },
  {
   "cell_type": "code",
   "execution_count": null,
   "id": "32d99b8f",
   "metadata": {
    "papermill": {
     "duration": 0.009742,
     "end_time": "2025-07-29T07:05:48.741379",
     "exception": false,
     "start_time": "2025-07-29T07:05:48.731637",
     "status": "completed"
    },
    "tags": []
   },
   "outputs": [],
   "source": []
  },
  {
   "cell_type": "code",
   "execution_count": null,
   "id": "c39443d8",
   "metadata": {
    "papermill": {
     "duration": 0.009674,
     "end_time": "2025-07-29T07:05:48.760984",
     "exception": false,
     "start_time": "2025-07-29T07:05:48.751310",
     "status": "completed"
    },
    "tags": []
   },
   "outputs": [],
   "source": []
  },
  {
   "cell_type": "code",
   "execution_count": null,
   "id": "a29ab337",
   "metadata": {
    "papermill": {
     "duration": 0.009622,
     "end_time": "2025-07-29T07:05:48.780462",
     "exception": false,
     "start_time": "2025-07-29T07:05:48.770840",
     "status": "completed"
    },
    "tags": []
   },
   "outputs": [],
   "source": []
  },
  {
   "cell_type": "code",
   "execution_count": null,
   "id": "71ce417d",
   "metadata": {
    "papermill": {
     "duration": 0.009981,
     "end_time": "2025-07-29T07:05:48.800395",
     "exception": false,
     "start_time": "2025-07-29T07:05:48.790414",
     "status": "completed"
    },
    "tags": []
   },
   "outputs": [],
   "source": []
  }
 ],
 "metadata": {
  "kaggle": {
   "accelerator": "none",
   "dataSources": [
    {
     "databundleVersionId": 12738969,
     "sourceId": 91718,
     "sourceType": "competition"
    }
   ],
   "dockerImageVersionId": 31089,
   "isGpuEnabled": false,
   "isInternetEnabled": true,
   "language": "python",
   "sourceType": "notebook"
  },
  "kernelspec": {
   "display_name": "Python 3",
   "language": "python",
   "name": "python3"
  },
  "language_info": {
   "codemirror_mode": {
    "name": "ipython",
    "version": 3
   },
   "file_extension": ".py",
   "mimetype": "text/x-python",
   "name": "python",
   "nbconvert_exporter": "python",
   "pygments_lexer": "ipython3",
   "version": "3.11.13"
  },
  "papermill": {
   "default_parameters": {},
   "duration": 22.019332,
   "end_time": "2025-07-29T07:05:49.933933",
   "environment_variables": {},
   "exception": null,
   "input_path": "__notebook__.ipynb",
   "output_path": "__notebook__.ipynb",
   "parameters": {},
   "start_time": "2025-07-29T07:05:27.914601",
   "version": "2.6.0"
  }
 },
 "nbformat": 4,
 "nbformat_minor": 5
}
