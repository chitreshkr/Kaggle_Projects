{
 "cells": [
  {
   "cell_type": "code",
   "execution_count": 1,
   "id": "e6feb9b9",
   "metadata": {
    "_cell_guid": "b1076dfc-b9ad-4769-8c92-a6c4dae69d19",
    "_uuid": "8f2839f25d086af736a60e9eeb907d3b93b6e0e5",
    "execution": {
     "iopub.execute_input": "2025-07-30T05:18:30.257423Z",
     "iopub.status.busy": "2025-07-30T05:18:30.257159Z",
     "iopub.status.idle": "2025-07-30T05:18:31.712871Z",
     "shell.execute_reply": "2025-07-30T05:18:31.711951Z"
    },
    "papermill": {
     "duration": 1.466256,
     "end_time": "2025-07-30T05:18:31.714259",
     "exception": false,
     "start_time": "2025-07-30T05:18:30.248003",
     "status": "completed"
    },
    "tags": []
   },
   "outputs": [
    {
     "name": "stdout",
     "output_type": "stream",
     "text": [
      "/kaggle/input/playground-series-s5e7/sample_submission.csv\n",
      "/kaggle/input/playground-series-s5e7/train.csv\n",
      "/kaggle/input/playground-series-s5e7/test.csv\n"
     ]
    }
   ],
   "source": [
    "# This Python 3 environment comes with many helpful analytics libraries installed\n",
    "# It is defined by the kaggle/python Docker image: https://github.com/kaggle/docker-python\n",
    "# For example, here's several helpful packages to load\n",
    "\n",
    "import numpy as np # linear algebra\n",
    "import pandas as pd # data processing, CSV file I/O (e.g. pd.read_csv)\n",
    "\n",
    "# Input data files are available in the read-only \"../input/\" directory\n",
    "# For example, running this (by clicking run or pressing Shift+Enter) will list all files under the input directory\n",
    "\n",
    "import os\n",
    "for dirname, _, filenames in os.walk('/kaggle/input'):\n",
    "    for filename in filenames:\n",
    "        print(os.path.join(dirname, filename))\n",
    "\n",
    "# You can write up to 20GB to the current directory (/kaggle/working/) that gets preserved as output when you create a version using \"Save & Run All\" \n",
    "# You can also write temporary files to /kaggle/temp/, but they won't be saved outside of the current session"
   ]
  },
  {
   "cell_type": "code",
   "execution_count": 2,
   "id": "a2f66909",
   "metadata": {
    "execution": {
     "iopub.execute_input": "2025-07-30T05:18:31.731035Z",
     "iopub.status.busy": "2025-07-30T05:18:31.730367Z",
     "iopub.status.idle": "2025-07-30T05:18:38.125454Z",
     "shell.execute_reply": "2025-07-30T05:18:38.124770Z"
    },
    "papermill": {
     "duration": 6.405025,
     "end_time": "2025-07-30T05:18:38.127130",
     "exception": false,
     "start_time": "2025-07-30T05:18:31.722105",
     "status": "completed"
    },
    "tags": []
   },
   "outputs": [],
   "source": [
    "import numpy as np\n",
    "import pandas as pd\n",
    "import matplotlib.pyplot as plt\n",
    "%matplotlib inline\n",
    "import seaborn as sns\n",
    "from sklearn.preprocessing import LabelEncoder\n",
    "from lightgbm import LGBMClassifier, log_evaluation, early_stopping\n",
    "from sklearn.feature_selection import mutual_info_classif\n",
    "from sklearn.linear_model import LogisticRegression\n",
    "from sklearn.model_selection import StratifiedKFold\n",
    "from sklearn.preprocessing import LabelEncoder\n",
    "from sklearn.base import clone\n",
    "from xgboost import XGBClassifier\n",
    "\n",
    "import warnings\n",
    "warnings.filterwarnings(\"ignore\")"
   ]
  },
  {
   "cell_type": "code",
   "execution_count": 3,
   "id": "11f0c53f",
   "metadata": {
    "execution": {
     "iopub.execute_input": "2025-07-30T05:18:38.146285Z",
     "iopub.status.busy": "2025-07-30T05:18:38.145314Z",
     "iopub.status.idle": "2025-07-30T05:18:38.187817Z",
     "shell.execute_reply": "2025-07-30T05:18:38.187031Z"
    },
    "papermill": {
     "duration": 0.053513,
     "end_time": "2025-07-30T05:18:38.189251",
     "exception": false,
     "start_time": "2025-07-30T05:18:38.135738",
     "status": "completed"
    },
    "tags": []
   },
   "outputs": [],
   "source": [
    "train_df = pd.read_csv('/kaggle/input/playground-series-s5e7/train.csv')"
   ]
  },
  {
   "cell_type": "code",
   "execution_count": 4,
   "id": "a3d3e60f",
   "metadata": {
    "execution": {
     "iopub.execute_input": "2025-07-30T05:18:38.205898Z",
     "iopub.status.busy": "2025-07-30T05:18:38.205317Z",
     "iopub.status.idle": "2025-07-30T05:18:38.219667Z",
     "shell.execute_reply": "2025-07-30T05:18:38.218945Z"
    },
    "papermill": {
     "duration": 0.024256,
     "end_time": "2025-07-30T05:18:38.221067",
     "exception": false,
     "start_time": "2025-07-30T05:18:38.196811",
     "status": "completed"
    },
    "tags": []
   },
   "outputs": [],
   "source": [
    "test_df = pd.read_csv('/kaggle/input/playground-series-s5e7/test.csv')"
   ]
  },
  {
   "cell_type": "code",
   "execution_count": 5,
   "id": "6bb0c697",
   "metadata": {
    "execution": {
     "iopub.execute_input": "2025-07-30T05:18:38.238664Z",
     "iopub.status.busy": "2025-07-30T05:18:38.238114Z",
     "iopub.status.idle": "2025-07-30T05:18:38.244397Z",
     "shell.execute_reply": "2025-07-30T05:18:38.243838Z"
    },
    "papermill": {
     "duration": 0.015696,
     "end_time": "2025-07-30T05:18:38.245451",
     "exception": false,
     "start_time": "2025-07-30T05:18:38.229755",
     "status": "completed"
    },
    "tags": []
   },
   "outputs": [
    {
     "data": {
      "text/plain": [
       "Index(['id', 'Time_spent_Alone', 'Stage_fear', 'Social_event_attendance',\n",
       "       'Going_outside', 'Drained_after_socializing', 'Friends_circle_size',\n",
       "       'Post_frequency', 'Personality'],\n",
       "      dtype='object')"
      ]
     },
     "execution_count": 5,
     "metadata": {},
     "output_type": "execute_result"
    }
   ],
   "source": [
    "train_df.columns"
   ]
  },
  {
   "cell_type": "code",
   "execution_count": 6,
   "id": "1d1ad8ce",
   "metadata": {
    "execution": {
     "iopub.execute_input": "2025-07-30T05:18:38.260737Z",
     "iopub.status.busy": "2025-07-30T05:18:38.260493Z",
     "iopub.status.idle": "2025-07-30T05:18:38.265069Z",
     "shell.execute_reply": "2025-07-30T05:18:38.264487Z"
    },
    "papermill": {
     "duration": 0.013356,
     "end_time": "2025-07-30T05:18:38.266093",
     "exception": false,
     "start_time": "2025-07-30T05:18:38.252737",
     "status": "completed"
    },
    "tags": []
   },
   "outputs": [
    {
     "data": {
      "text/plain": [
       "(18524, 9)"
      ]
     },
     "execution_count": 6,
     "metadata": {},
     "output_type": "execute_result"
    }
   ],
   "source": [
    "train_df.shape"
   ]
  },
  {
   "cell_type": "code",
   "execution_count": 7,
   "id": "1a94ce49",
   "metadata": {
    "execution": {
     "iopub.execute_input": "2025-07-30T05:18:38.281349Z",
     "iopub.status.busy": "2025-07-30T05:18:38.281150Z",
     "iopub.status.idle": "2025-07-30T05:18:38.285432Z",
     "shell.execute_reply": "2025-07-30T05:18:38.284872Z"
    },
    "papermill": {
     "duration": 0.013177,
     "end_time": "2025-07-30T05:18:38.286525",
     "exception": false,
     "start_time": "2025-07-30T05:18:38.273348",
     "status": "completed"
    },
    "tags": []
   },
   "outputs": [
    {
     "data": {
      "text/plain": [
       "(6175, 8)"
      ]
     },
     "execution_count": 7,
     "metadata": {},
     "output_type": "execute_result"
    }
   ],
   "source": [
    "test_df.shape"
   ]
  },
  {
   "cell_type": "code",
   "execution_count": 8,
   "id": "39377f5f",
   "metadata": {
    "execution": {
     "iopub.execute_input": "2025-07-30T05:18:38.301874Z",
     "iopub.status.busy": "2025-07-30T05:18:38.301635Z",
     "iopub.status.idle": "2025-07-30T05:18:38.326014Z",
     "shell.execute_reply": "2025-07-30T05:18:38.325310Z"
    },
    "papermill": {
     "duration": 0.033462,
     "end_time": "2025-07-30T05:18:38.327215",
     "exception": false,
     "start_time": "2025-07-30T05:18:38.293753",
     "status": "completed"
    },
    "tags": []
   },
   "outputs": [
    {
     "data": {
      "text/html": [
       "<div>\n",
       "<style scoped>\n",
       "    .dataframe tbody tr th:only-of-type {\n",
       "        vertical-align: middle;\n",
       "    }\n",
       "\n",
       "    .dataframe tbody tr th {\n",
       "        vertical-align: top;\n",
       "    }\n",
       "\n",
       "    .dataframe thead th {\n",
       "        text-align: right;\n",
       "    }\n",
       "</style>\n",
       "<table border=\"1\" class=\"dataframe\">\n",
       "  <thead>\n",
       "    <tr style=\"text-align: right;\">\n",
       "      <th></th>\n",
       "      <th>id</th>\n",
       "      <th>Time_spent_Alone</th>\n",
       "      <th>Stage_fear</th>\n",
       "      <th>Social_event_attendance</th>\n",
       "      <th>Going_outside</th>\n",
       "      <th>Drained_after_socializing</th>\n",
       "      <th>Friends_circle_size</th>\n",
       "      <th>Post_frequency</th>\n",
       "      <th>Personality</th>\n",
       "    </tr>\n",
       "  </thead>\n",
       "  <tbody>\n",
       "    <tr>\n",
       "      <th>0</th>\n",
       "      <td>0</td>\n",
       "      <td>0.0</td>\n",
       "      <td>No</td>\n",
       "      <td>6.0</td>\n",
       "      <td>4.0</td>\n",
       "      <td>No</td>\n",
       "      <td>15.0</td>\n",
       "      <td>5.0</td>\n",
       "      <td>Extrovert</td>\n",
       "    </tr>\n",
       "    <tr>\n",
       "      <th>1</th>\n",
       "      <td>1</td>\n",
       "      <td>1.0</td>\n",
       "      <td>No</td>\n",
       "      <td>7.0</td>\n",
       "      <td>3.0</td>\n",
       "      <td>No</td>\n",
       "      <td>10.0</td>\n",
       "      <td>8.0</td>\n",
       "      <td>Extrovert</td>\n",
       "    </tr>\n",
       "    <tr>\n",
       "      <th>2</th>\n",
       "      <td>2</td>\n",
       "      <td>6.0</td>\n",
       "      <td>Yes</td>\n",
       "      <td>1.0</td>\n",
       "      <td>0.0</td>\n",
       "      <td>NaN</td>\n",
       "      <td>3.0</td>\n",
       "      <td>0.0</td>\n",
       "      <td>Introvert</td>\n",
       "    </tr>\n",
       "    <tr>\n",
       "      <th>3</th>\n",
       "      <td>3</td>\n",
       "      <td>3.0</td>\n",
       "      <td>No</td>\n",
       "      <td>7.0</td>\n",
       "      <td>3.0</td>\n",
       "      <td>No</td>\n",
       "      <td>11.0</td>\n",
       "      <td>5.0</td>\n",
       "      <td>Extrovert</td>\n",
       "    </tr>\n",
       "    <tr>\n",
       "      <th>4</th>\n",
       "      <td>4</td>\n",
       "      <td>1.0</td>\n",
       "      <td>No</td>\n",
       "      <td>4.0</td>\n",
       "      <td>4.0</td>\n",
       "      <td>No</td>\n",
       "      <td>13.0</td>\n",
       "      <td>NaN</td>\n",
       "      <td>Extrovert</td>\n",
       "    </tr>\n",
       "    <tr>\n",
       "      <th>5</th>\n",
       "      <td>5</td>\n",
       "      <td>2.0</td>\n",
       "      <td>No</td>\n",
       "      <td>8.0</td>\n",
       "      <td>5.0</td>\n",
       "      <td>No</td>\n",
       "      <td>NaN</td>\n",
       "      <td>3.0</td>\n",
       "      <td>Extrovert</td>\n",
       "    </tr>\n",
       "    <tr>\n",
       "      <th>6</th>\n",
       "      <td>6</td>\n",
       "      <td>1.0</td>\n",
       "      <td>No</td>\n",
       "      <td>8.0</td>\n",
       "      <td>NaN</td>\n",
       "      <td>No</td>\n",
       "      <td>NaN</td>\n",
       "      <td>4.0</td>\n",
       "      <td>Extrovert</td>\n",
       "    </tr>\n",
       "    <tr>\n",
       "      <th>7</th>\n",
       "      <td>7</td>\n",
       "      <td>2.0</td>\n",
       "      <td>No</td>\n",
       "      <td>8.0</td>\n",
       "      <td>3.0</td>\n",
       "      <td>No</td>\n",
       "      <td>4.0</td>\n",
       "      <td>5.0</td>\n",
       "      <td>Extrovert</td>\n",
       "    </tr>\n",
       "    <tr>\n",
       "      <th>8</th>\n",
       "      <td>8</td>\n",
       "      <td>4.0</td>\n",
       "      <td>Yes</td>\n",
       "      <td>2.0</td>\n",
       "      <td>1.0</td>\n",
       "      <td>NaN</td>\n",
       "      <td>0.0</td>\n",
       "      <td>2.0</td>\n",
       "      <td>Introvert</td>\n",
       "    </tr>\n",
       "    <tr>\n",
       "      <th>9</th>\n",
       "      <td>9</td>\n",
       "      <td>1.0</td>\n",
       "      <td>No</td>\n",
       "      <td>8.0</td>\n",
       "      <td>6.0</td>\n",
       "      <td>No</td>\n",
       "      <td>14.0</td>\n",
       "      <td>9.0</td>\n",
       "      <td>Extrovert</td>\n",
       "    </tr>\n",
       "  </tbody>\n",
       "</table>\n",
       "</div>"
      ],
      "text/plain": [
       "   id  Time_spent_Alone Stage_fear  Social_event_attendance  Going_outside  \\\n",
       "0   0               0.0         No                      6.0            4.0   \n",
       "1   1               1.0         No                      7.0            3.0   \n",
       "2   2               6.0        Yes                      1.0            0.0   \n",
       "3   3               3.0         No                      7.0            3.0   \n",
       "4   4               1.0         No                      4.0            4.0   \n",
       "5   5               2.0         No                      8.0            5.0   \n",
       "6   6               1.0         No                      8.0            NaN   \n",
       "7   7               2.0         No                      8.0            3.0   \n",
       "8   8               4.0        Yes                      2.0            1.0   \n",
       "9   9               1.0         No                      8.0            6.0   \n",
       "\n",
       "  Drained_after_socializing  Friends_circle_size  Post_frequency Personality  \n",
       "0                        No                 15.0             5.0   Extrovert  \n",
       "1                        No                 10.0             8.0   Extrovert  \n",
       "2                       NaN                  3.0             0.0   Introvert  \n",
       "3                        No                 11.0             5.0   Extrovert  \n",
       "4                        No                 13.0             NaN   Extrovert  \n",
       "5                        No                  NaN             3.0   Extrovert  \n",
       "6                        No                  NaN             4.0   Extrovert  \n",
       "7                        No                  4.0             5.0   Extrovert  \n",
       "8                       NaN                  0.0             2.0   Introvert  \n",
       "9                        No                 14.0             9.0   Extrovert  "
      ]
     },
     "execution_count": 8,
     "metadata": {},
     "output_type": "execute_result"
    }
   ],
   "source": [
    "train_df.head(10)"
   ]
  },
  {
   "cell_type": "code",
   "execution_count": 9,
   "id": "ea7161d4",
   "metadata": {
    "execution": {
     "iopub.execute_input": "2025-07-30T05:18:38.344685Z",
     "iopub.status.busy": "2025-07-30T05:18:38.344075Z",
     "iopub.status.idle": "2025-07-30T05:18:38.940553Z",
     "shell.execute_reply": "2025-07-30T05:18:38.939787Z"
    },
    "papermill": {
     "duration": 0.605939,
     "end_time": "2025-07-30T05:18:38.941752",
     "exception": false,
     "start_time": "2025-07-30T05:18:38.335813",
     "status": "completed"
    },
    "tags": []
   },
   "outputs": [
    {
     "data": {
      "text/plain": [
       "<seaborn.axisgrid.FacetGrid at 0x7a760d7cdb50>"
      ]
     },
     "execution_count": 9,
     "metadata": {},
     "output_type": "execute_result"
    },
    {
     "data": {
      "image/png": "[encoded data removed]",
      "text/plain": [
       "<Figure size 500x500 with 1 Axes>"
      ]
     },
     "metadata": {},
     "output_type": "display_data"
    }
   ],
   "source": [
    "sns.displot(train_df['Time_spent_Alone'],kde = True)"
   ]
  },
  {
   "cell_type": "code",
   "execution_count": 10,
   "id": "74353754",
   "metadata": {
    "execution": {
     "iopub.execute_input": "2025-07-30T05:18:38.958865Z",
     "iopub.status.busy": "2025-07-30T05:18:38.958605Z",
     "iopub.status.idle": "2025-07-30T05:18:39.375904Z",
     "shell.execute_reply": "2025-07-30T05:18:39.375315Z"
    },
    "papermill": {
     "duration": 0.427053,
     "end_time": "2025-07-30T05:18:39.377129",
     "exception": false,
     "start_time": "2025-07-30T05:18:38.950076",
     "status": "completed"
    },
    "tags": []
   },
   "outputs": [
    {
     "data": {
      "text/plain": [
       "Text(0.5, 1.0, 'Social_event_attendance vs Personlaity')"
      ]
     },
     "execution_count": 10,
     "metadata": {},
     "output_type": "execute_result"
    },
    {
     "data": {
      "image/png": "[encoded data removed]",
      "text/plain": [
       "<Figure size 300x200 with 1 Axes>"
      ]
     },
     "metadata": {},
     "output_type": "display_data"
    }
   ],
   "source": [
    "#sns.pairplot(train_df)\n",
    "#plt.show()\n",
    "plt.figure(figsize=(3,2))\n",
    "sns.barplot(x=train_df['Social_event_attendance'], y=train_df['Personality'])\n",
    "plt.xticks(rotation= 45)\n",
    "plt.xlabel('Social_event_attendance')\n",
    "plt.ylabel('Personality')\n",
    "plt.title('Social_event_attendance vs Personlaity')"
   ]
  },
  {
   "cell_type": "code",
   "execution_count": 11,
   "id": "42960478",
   "metadata": {
    "execution": {
     "iopub.execute_input": "2025-07-30T05:18:39.395796Z",
     "iopub.status.busy": "2025-07-30T05:18:39.395480Z",
     "iopub.status.idle": "2025-07-30T05:18:39.802416Z",
     "shell.execute_reply": "2025-07-30T05:18:39.801693Z"
    },
    "papermill": {
     "duration": 0.417306,
     "end_time": "2025-07-30T05:18:39.803513",
     "exception": false,
     "start_time": "2025-07-30T05:18:39.386207",
     "status": "completed"
    },
    "tags": []
   },
   "outputs": [
    {
     "data": {
      "text/plain": [
       "Text(0.5, 1.0, 'Time_spent_Alone vs Personlaity')"
      ]
     },
     "execution_count": 11,
     "metadata": {},
     "output_type": "execute_result"
    },
    {
     "data": {
      "image/png": "[encoded data removed]",
      "text/plain": [
       "<Figure size 300x200 with 1 Axes>"
      ]
     },
     "metadata": {},
     "output_type": "display_data"
    }
   ],
   "source": [
    "plt.figure(figsize=(3,2))\n",
    "sns.barplot(x=train_df['Time_spent_Alone'], y=train_df['Personality'])\n",
    "plt.xticks(rotation= 45)\n",
    "plt.xlabel('Time_spent_Alone')\n",
    "plt.ylabel('Personality')\n",
    "plt.title('Time_spent_Alone vs Personlaity')"
   ]
  },
  {
   "cell_type": "code",
   "execution_count": 12,
   "id": "049ea8e8",
   "metadata": {
    "execution": {
     "iopub.execute_input": "2025-07-30T05:18:39.822269Z",
     "iopub.status.busy": "2025-07-30T05:18:39.821835Z",
     "iopub.status.idle": "2025-07-30T05:18:40.230704Z",
     "shell.execute_reply": "2025-07-30T05:18:40.229906Z"
    },
    "papermill": {
     "duration": 0.419378,
     "end_time": "2025-07-30T05:18:40.231869",
     "exception": false,
     "start_time": "2025-07-30T05:18:39.812491",
     "status": "completed"
    },
    "tags": []
   },
   "outputs": [
    {
     "data": {
      "text/plain": [
       "Text(0.5, 1.0, 'Going_outside vs Personlaity')"
      ]
     },
     "execution_count": 12,
     "metadata": {},
     "output_type": "execute_result"
    },
    {
     "data": {
      "image/png": "[encoded data removed]",
      "text/plain": [
       "<Figure size 300x200 with 1 Axes>"
      ]
     },
     "metadata": {},
     "output_type": "display_data"
    }
   ],
   "source": [
    "plt.figure(figsize=(3,2))\n",
    "sns.barplot(x=train_df['Going_outside'], y=train_df['Personality'])\n",
    "plt.xticks(rotation= 45)\n",
    "plt.xlabel('Going_outside')\n",
    "plt.ylabel('Personality')\n",
    "plt.title('Going_outside vs Personlaity')"
   ]
  },
  {
   "cell_type": "code",
   "execution_count": 13,
   "id": "a2beeea1",
   "metadata": {
    "execution": {
     "iopub.execute_input": "2025-07-30T05:18:40.251177Z",
     "iopub.status.busy": "2025-07-30T05:18:40.250677Z",
     "iopub.status.idle": "2025-07-30T05:18:40.657767Z",
     "shell.execute_reply": "2025-07-30T05:18:40.657019Z"
    },
    "papermill": {
     "duration": 0.417975,
     "end_time": "2025-07-30T05:18:40.658985",
     "exception": false,
     "start_time": "2025-07-30T05:18:40.241010",
     "status": "completed"
    },
    "tags": []
   },
   "outputs": [
    {
     "data": {
      "text/plain": [
       "Text(0.5, 1.0, 'Friends_circle_size vs Personlaity')"
      ]
     },
     "execution_count": 13,
     "metadata": {},
     "output_type": "execute_result"
    },
    {
     "data": {
      "image/png": "[encoded data removed]",
      "text/plain": [
       "<Figure size 300x200 with 1 Axes>"
      ]
     },
     "metadata": {},
     "output_type": "display_data"
    }
   ],
   "source": [
    "plt.figure(figsize=(3,2))\n",
    "sns.barplot(x=train_df['Friends_circle_size'], y=train_df['Personality'])\n",
    "plt.xticks(rotation= 45)\n",
    "plt.xlabel('Friends_circle_size')\n",
    "plt.ylabel('Personality')\n",
    "plt.title('Friends_circle_size vs Personlaity')"
   ]
  },
  {
   "cell_type": "code",
   "execution_count": 14,
   "id": "006dacdd",
   "metadata": {
    "execution": {
     "iopub.execute_input": "2025-07-30T05:18:40.679051Z",
     "iopub.status.busy": "2025-07-30T05:18:40.678787Z",
     "iopub.status.idle": "2025-07-30T05:18:40.684734Z",
     "shell.execute_reply": "2025-07-30T05:18:40.683900Z"
    },
    "papermill": {
     "duration": 0.017709,
     "end_time": "2025-07-30T05:18:40.686239",
     "exception": false,
     "start_time": "2025-07-30T05:18:40.668530",
     "status": "completed"
    },
    "tags": []
   },
   "outputs": [
    {
     "data": {
      "text/plain": [
       "0    Extrovert\n",
       "1    Extrovert\n",
       "2    Introvert\n",
       "3    Extrovert\n",
       "4    Extrovert\n",
       "Name: Personality, dtype: object"
      ]
     },
     "execution_count": 14,
     "metadata": {},
     "output_type": "execute_result"
    }
   ],
   "source": [
    "y = train_df.iloc[:, -1]\n",
    "y.head()"
   ]
  },
  {
   "cell_type": "code",
   "execution_count": 15,
   "id": "6dfb09cd",
   "metadata": {
    "execution": {
     "iopub.execute_input": "2025-07-30T05:18:40.707350Z",
     "iopub.status.busy": "2025-07-30T05:18:40.706654Z",
     "iopub.status.idle": "2025-07-30T05:18:40.717902Z",
     "shell.execute_reply": "2025-07-30T05:18:40.717344Z"
    },
    "papermill": {
     "duration": 0.023248,
     "end_time": "2025-07-30T05:18:40.718921",
     "exception": false,
     "start_time": "2025-07-30T05:18:40.695673",
     "status": "completed"
    },
    "tags": []
   },
   "outputs": [
    {
     "data": {
      "text/html": [
       "<div>\n",
       "<style scoped>\n",
       "    .dataframe tbody tr th:only-of-type {\n",
       "        vertical-align: middle;\n",
       "    }\n",
       "\n",
       "    .dataframe tbody tr th {\n",
       "        vertical-align: top;\n",
       "    }\n",
       "\n",
       "    .dataframe thead th {\n",
       "        text-align: right;\n",
       "    }\n",
       "</style>\n",
       "<table border=\"1\" class=\"dataframe\">\n",
       "  <thead>\n",
       "    <tr style=\"text-align: right;\">\n",
       "      <th></th>\n",
       "      <th>id</th>\n",
       "      <th>Time_spent_Alone</th>\n",
       "      <th>Stage_fear</th>\n",
       "      <th>Social_event_attendance</th>\n",
       "      <th>Going_outside</th>\n",
       "      <th>Drained_after_socializing</th>\n",
       "      <th>Friends_circle_size</th>\n",
       "      <th>Post_frequency</th>\n",
       "    </tr>\n",
       "  </thead>\n",
       "  <tbody>\n",
       "    <tr>\n",
       "      <th>0</th>\n",
       "      <td>0</td>\n",
       "      <td>0.0</td>\n",
       "      <td>No</td>\n",
       "      <td>6.0</td>\n",
       "      <td>4.0</td>\n",
       "      <td>No</td>\n",
       "      <td>15.0</td>\n",
       "      <td>5.0</td>\n",
       "    </tr>\n",
       "    <tr>\n",
       "      <th>1</th>\n",
       "      <td>1</td>\n",
       "      <td>1.0</td>\n",
       "      <td>No</td>\n",
       "      <td>7.0</td>\n",
       "      <td>3.0</td>\n",
       "      <td>No</td>\n",
       "      <td>10.0</td>\n",
       "      <td>8.0</td>\n",
       "    </tr>\n",
       "    <tr>\n",
       "      <th>2</th>\n",
       "      <td>2</td>\n",
       "      <td>6.0</td>\n",
       "      <td>Yes</td>\n",
       "      <td>1.0</td>\n",
       "      <td>0.0</td>\n",
       "      <td>NaN</td>\n",
       "      <td>3.0</td>\n",
       "      <td>0.0</td>\n",
       "    </tr>\n",
       "    <tr>\n",
       "      <th>3</th>\n",
       "      <td>3</td>\n",
       "      <td>3.0</td>\n",
       "      <td>No</td>\n",
       "      <td>7.0</td>\n",
       "      <td>3.0</td>\n",
       "      <td>No</td>\n",
       "      <td>11.0</td>\n",
       "      <td>5.0</td>\n",
       "    </tr>\n",
       "    <tr>\n",
       "      <th>4</th>\n",
       "      <td>4</td>\n",
       "      <td>1.0</td>\n",
       "      <td>No</td>\n",
       "      <td>4.0</td>\n",
       "      <td>4.0</td>\n",
       "      <td>No</td>\n",
       "      <td>13.0</td>\n",
       "      <td>NaN</td>\n",
       "    </tr>\n",
       "  </tbody>\n",
       "</table>\n",
       "</div>"
      ],
      "text/plain": [
       "   id  Time_spent_Alone Stage_fear  Social_event_attendance  Going_outside  \\\n",
       "0   0               0.0         No                      6.0            4.0   \n",
       "1   1               1.0         No                      7.0            3.0   \n",
       "2   2               6.0        Yes                      1.0            0.0   \n",
       "3   3               3.0         No                      7.0            3.0   \n",
       "4   4               1.0         No                      4.0            4.0   \n",
       "\n",
       "  Drained_after_socializing  Friends_circle_size  Post_frequency  \n",
       "0                        No                 15.0             5.0  \n",
       "1                        No                 10.0             8.0  \n",
       "2                       NaN                  3.0             0.0  \n",
       "3                        No                 11.0             5.0  \n",
       "4                        No                 13.0             NaN  "
      ]
     },
     "execution_count": 15,
     "metadata": {},
     "output_type": "execute_result"
    }
   ],
   "source": [
    "X = train_df.iloc[:, :-1]\n",
    "X.head()"
   ]
  },
  {
   "cell_type": "code",
   "execution_count": 16,
   "id": "f09b39e2",
   "metadata": {
    "execution": {
     "iopub.execute_input": "2025-07-30T05:18:40.791166Z",
     "iopub.status.busy": "2025-07-30T05:18:40.790469Z",
     "iopub.status.idle": "2025-07-30T05:18:40.793949Z",
     "shell.execute_reply": "2025-07-30T05:18:40.793378Z"
    },
    "papermill": {
     "duration": 0.014963,
     "end_time": "2025-07-30T05:18:40.795108",
     "exception": false,
     "start_time": "2025-07-30T05:18:40.780145",
     "status": "completed"
    },
    "tags": []
   },
   "outputs": [],
   "source": [
    "cat_columns = ['Stage_fear', 'Drained_after_socializing']"
   ]
  },
  {
   "cell_type": "code",
   "execution_count": 17,
   "id": "a2da14ee",
   "metadata": {
    "execution": {
     "iopub.execute_input": "2025-07-30T05:18:40.815269Z",
     "iopub.status.busy": "2025-07-30T05:18:40.814790Z",
     "iopub.status.idle": "2025-07-30T05:18:40.822758Z",
     "shell.execute_reply": "2025-07-30T05:18:40.822076Z"
    },
    "papermill": {
     "duration": 0.019464,
     "end_time": "2025-07-30T05:18:40.823959",
     "exception": false,
     "start_time": "2025-07-30T05:18:40.804495",
     "status": "completed"
    },
    "tags": []
   },
   "outputs": [
    {
     "data": {
      "text/plain": [
       "Stage_fear                   1893\n",
       "Drained_after_socializing    1149\n",
       "dtype: int64"
      ]
     },
     "execution_count": 17,
     "metadata": {},
     "output_type": "execute_result"
    }
   ],
   "source": [
    "train_df[cat_columns].isnull().sum()"
   ]
  },
  {
   "cell_type": "code",
   "execution_count": 18,
   "id": "8bd7cabb",
   "metadata": {
    "execution": {
     "iopub.execute_input": "2025-07-30T05:18:40.843912Z",
     "iopub.status.busy": "2025-07-30T05:18:40.843698Z",
     "iopub.status.idle": "2025-07-30T05:18:40.848519Z",
     "shell.execute_reply": "2025-07-30T05:18:40.848006Z"
    },
    "papermill": {
     "duration": 0.015861,
     "end_time": "2025-07-30T05:18:40.849612",
     "exception": false,
     "start_time": "2025-07-30T05:18:40.833751",
     "status": "completed"
    },
    "tags": []
   },
   "outputs": [
    {
     "data": {
      "text/plain": [
       "array(['No', 'Yes', nan], dtype=object)"
      ]
     },
     "execution_count": 18,
     "metadata": {},
     "output_type": "execute_result"
    }
   ],
   "source": [
    "train_df['Stage_fear'].unique()"
   ]
  },
  {
   "cell_type": "code",
   "execution_count": 19,
   "id": "6d71813c",
   "metadata": {
    "execution": {
     "iopub.execute_input": "2025-07-30T05:18:40.869254Z",
     "iopub.status.busy": "2025-07-30T05:18:40.869030Z",
     "iopub.status.idle": "2025-07-30T05:18:40.885584Z",
     "shell.execute_reply": "2025-07-30T05:18:40.884581Z"
    },
    "papermill": {
     "duration": 0.027745,
     "end_time": "2025-07-30T05:18:40.886814",
     "exception": false,
     "start_time": "2025-07-30T05:18:40.859069",
     "status": "completed"
    },
    "tags": []
   },
   "outputs": [
    {
     "name": "stdout",
     "output_type": "stream",
     "text": [
      "\n",
      "Method 1: Filled using a loop for each column's mode:\n",
      "          id  Time_spent_Alone Stage_fear  Social_event_attendance  \\\n",
      "0          0               0.0         No                      6.0   \n",
      "1          1               1.0         No                      7.0   \n",
      "2          2               6.0        Yes                      1.0   \n",
      "3          3               3.0         No                      7.0   \n",
      "4          4               1.0         No                      4.0   \n",
      "...      ...               ...        ...                      ...   \n",
      "18519  18519               3.0         No                      7.0   \n",
      "18520  18520               1.0         No                      6.0   \n",
      "18521  18521               7.0        Yes                      1.0   \n",
      "18522  18522               NaN        Yes                      1.0   \n",
      "18523  18523               1.0         No                      8.0   \n",
      "\n",
      "       Going_outside Drained_after_socializing  Friends_circle_size  \\\n",
      "0                4.0                        No                 15.0   \n",
      "1                3.0                        No                 10.0   \n",
      "2                0.0                        No                  3.0   \n",
      "3                3.0                        No                 11.0   \n",
      "4                4.0                        No                 13.0   \n",
      "...              ...                       ...                  ...   \n",
      "18519            3.0                        No                  9.0   \n",
      "18520            7.0                        No                  6.0   \n",
      "18521            1.0                       Yes                  1.0   \n",
      "18522            0.0                       Yes                  5.0   \n",
      "18523            6.0                        No                  4.0   \n",
      "\n",
      "       Post_frequency Personality  \n",
      "0                 5.0   Extrovert  \n",
      "1                 8.0   Extrovert  \n",
      "2                 0.0   Introvert  \n",
      "3                 5.0   Extrovert  \n",
      "4                 NaN   Extrovert  \n",
      "...               ...         ...  \n",
      "18519             7.0   Extrovert  \n",
      "18520             5.0   Extrovert  \n",
      "18521             NaN   Introvert  \n",
      "18522             2.0   Introvert  \n",
      "18523             7.0   Extrovert  \n",
      "\n",
      "[18524 rows x 9 columns]\n"
     ]
    }
   ],
   "source": [
    "train_df_fill = train_df.copy()\n",
    "for col in cat_columns:\n",
    "    if col in train_df_fill.columns: \n",
    "        mode_val = train_df_fill[col].mode()[0]\n",
    "        train_df_fill[col] = train_df_fill[col].fillna(mode_val)\n",
    "print(\"\\nMethod 1: Filled using a loop for each column's mode:\")\n",
    "print(train_df_fill)"
   ]
  },
  {
   "cell_type": "code",
   "execution_count": 20,
   "id": "f303cc6a",
   "metadata": {
    "execution": {
     "iopub.execute_input": "2025-07-30T05:18:40.908064Z",
     "iopub.status.busy": "2025-07-30T05:18:40.907772Z",
     "iopub.status.idle": "2025-07-30T05:18:40.919955Z",
     "shell.execute_reply": "2025-07-30T05:18:40.918991Z"
    },
    "papermill": {
     "duration": 0.02397,
     "end_time": "2025-07-30T05:18:40.921123",
     "exception": false,
     "start_time": "2025-07-30T05:18:40.897153",
     "status": "completed"
    },
    "tags": []
   },
   "outputs": [
    {
     "name": "stdout",
     "output_type": "stream",
     "text": [
      "\n",
      "Method 1: Filled using a loop for each column's mode:\n",
      "      id  Time_spent_Alone Stage_fear  Social_event_attendance  Going_outside  \\\n",
      "0  18524               3.0         No                      7.0            4.0   \n",
      "1  18525               NaN        Yes                      0.0            0.0   \n",
      "2  18526               3.0         No                      5.0            6.0   \n",
      "3  18527               3.0         No                      4.0            4.0   \n",
      "4  18528               9.0        Yes                      1.0            2.0   \n",
      "5  18529               2.0         No                      5.0            3.0   \n",
      "6  18530               3.0         No                      4.0            5.0   \n",
      "7  18531              11.0        Yes                      2.0            1.0   \n",
      "8  18532               2.0         No                      6.0            NaN   \n",
      "9  18533               8.0         No                      2.0            1.0   \n",
      "\n",
      "  Drained_after_socializing  Friends_circle_size  Post_frequency  \n",
      "0                        No                  6.0             NaN  \n",
      "1                       Yes                  5.0             1.0  \n",
      "2                        No                 15.0             9.0  \n",
      "3                        No                  5.0             6.0  \n",
      "4                       Yes                  1.0             1.0  \n",
      "5                        No                 10.0             4.0  \n",
      "6                        No                 15.0             5.0  \n",
      "7                       Yes                  4.0             1.0  \n",
      "8                        No                  9.0             6.0  \n",
      "9                       Yes                  1.0             1.0  \n"
     ]
    }
   ],
   "source": [
    "test_df_fill = test_df.copy()\n",
    "for col in cat_columns:\n",
    "    if col in test_df_fill.columns: \n",
    "        mode_val = test_df_fill[col].mode()[0]\n",
    "        test_df_fill[col] = test_df_fill[col].fillna(mode_val)\n",
    "print(\"\\nMethod 1: Filled using a loop for each column's mode:\")\n",
    "print(test_df_fill.head(10))"
   ]
  },
  {
   "cell_type": "code",
   "execution_count": 21,
   "id": "efc0f836",
   "metadata": {
    "execution": {
     "iopub.execute_input": "2025-07-30T05:18:40.942237Z",
     "iopub.status.busy": "2025-07-30T05:18:40.942002Z",
     "iopub.status.idle": "2025-07-30T05:18:40.950421Z",
     "shell.execute_reply": "2025-07-30T05:18:40.949815Z"
    },
    "papermill": {
     "duration": 0.020157,
     "end_time": "2025-07-30T05:18:40.951421",
     "exception": false,
     "start_time": "2025-07-30T05:18:40.931264",
     "status": "completed"
    },
    "tags": []
   },
   "outputs": [
    {
     "data": {
      "text/plain": [
       "Stage_fear                   0\n",
       "Drained_after_socializing    0\n",
       "dtype: int64"
      ]
     },
     "execution_count": 21,
     "metadata": {},
     "output_type": "execute_result"
    }
   ],
   "source": [
    "train_df_fill[cat_columns].isna().sum()"
   ]
  },
  {
   "cell_type": "code",
   "execution_count": 22,
   "id": "88ca40b9",
   "metadata": {
    "execution": {
     "iopub.execute_input": "2025-07-30T05:18:40.972043Z",
     "iopub.status.busy": "2025-07-30T05:18:40.971814Z",
     "iopub.status.idle": "2025-07-30T05:18:40.978715Z",
     "shell.execute_reply": "2025-07-30T05:18:40.978038Z"
    },
    "papermill": {
     "duration": 0.018672,
     "end_time": "2025-07-30T05:18:40.979908",
     "exception": false,
     "start_time": "2025-07-30T05:18:40.961236",
     "status": "completed"
    },
    "tags": []
   },
   "outputs": [
    {
     "data": {
      "text/plain": [
       "Stage_fear                   0\n",
       "Drained_after_socializing    0\n",
       "dtype: int64"
      ]
     },
     "execution_count": 22,
     "metadata": {},
     "output_type": "execute_result"
    }
   ],
   "source": [
    "test_df_fill[cat_columns].isna().sum()"
   ]
  },
  {
   "cell_type": "code",
   "execution_count": 23,
   "id": "45465b84",
   "metadata": {
    "execution": {
     "iopub.execute_input": "2025-07-30T05:18:41.001570Z",
     "iopub.status.busy": "2025-07-30T05:18:41.000818Z",
     "iopub.status.idle": "2025-07-30T05:18:41.005835Z",
     "shell.execute_reply": "2025-07-30T05:18:41.005239Z"
    },
    "papermill": {
     "duration": 0.017638,
     "end_time": "2025-07-30T05:18:41.007089",
     "exception": false,
     "start_time": "2025-07-30T05:18:40.989451",
     "status": "completed"
    },
    "tags": []
   },
   "outputs": [
    {
     "data": {
      "text/plain": [
       "['id',\n",
       " 'Time_spent_Alone',\n",
       " 'Social_event_attendance',\n",
       " 'Going_outside',\n",
       " 'Friends_circle_size',\n",
       " 'Post_frequency']"
      ]
     },
     "execution_count": 23,
     "metadata": {},
     "output_type": "execute_result"
    }
   ],
   "source": [
    "numerical_cols = [col for col in X.columns if col not in cat_columns]\n",
    "numerical_cols"
   ]
  },
  {
   "cell_type": "code",
   "execution_count": 24,
   "id": "3a66f6de",
   "metadata": {
    "execution": {
     "iopub.execute_input": "2025-07-30T05:18:41.028283Z",
     "iopub.status.busy": "2025-07-30T05:18:41.027649Z",
     "iopub.status.idle": "2025-07-30T05:18:41.042143Z",
     "shell.execute_reply": "2025-07-30T05:18:41.041171Z"
    },
    "papermill": {
     "duration": 0.025871,
     "end_time": "2025-07-30T05:18:41.043291",
     "exception": false,
     "start_time": "2025-07-30T05:18:41.017420",
     "status": "completed"
    },
    "tags": []
   },
   "outputs": [
    {
     "name": "stdout",
     "output_type": "stream",
     "text": [
      "\n",
      "Method 1: Filled using a loop for each column's mode:\n",
      "          id  Time_spent_Alone Stage_fear  Social_event_attendance  \\\n",
      "0          0               0.0         No                      6.0   \n",
      "1          1               1.0         No                      7.0   \n",
      "2          2               6.0        Yes                      1.0   \n",
      "3          3               3.0         No                      7.0   \n",
      "4          4               1.0         No                      4.0   \n",
      "...      ...               ...        ...                      ...   \n",
      "18519  18519               3.0         No                      7.0   \n",
      "18520  18520               1.0         No                      6.0   \n",
      "18521  18521               7.0        Yes                      1.0   \n",
      "18522  18522               2.0        Yes                      1.0   \n",
      "18523  18523               1.0         No                      8.0   \n",
      "\n",
      "       Going_outside Drained_after_socializing  Friends_circle_size  \\\n",
      "0                4.0                        No                 15.0   \n",
      "1                3.0                        No                 10.0   \n",
      "2                0.0                        No                  3.0   \n",
      "3                3.0                        No                 11.0   \n",
      "4                4.0                        No                 13.0   \n",
      "...              ...                       ...                  ...   \n",
      "18519            3.0                        No                  9.0   \n",
      "18520            7.0                        No                  6.0   \n",
      "18521            1.0                       Yes                  1.0   \n",
      "18522            0.0                       Yes                  5.0   \n",
      "18523            6.0                        No                  4.0   \n",
      "\n",
      "       Post_frequency Personality  \n",
      "0                 5.0   Extrovert  \n",
      "1                 8.0   Extrovert  \n",
      "2                 0.0   Introvert  \n",
      "3                 5.0   Extrovert  \n",
      "4                 5.0   Extrovert  \n",
      "...               ...         ...  \n",
      "18519             7.0   Extrovert  \n",
      "18520             5.0   Extrovert  \n",
      "18521             5.0   Introvert  \n",
      "18522             2.0   Introvert  \n",
      "18523             7.0   Extrovert  \n",
      "\n",
      "[18524 rows x 9 columns]\n"
     ]
    }
   ],
   "source": [
    "for col in numerical_cols:\n",
    "    if col in train_df_fill.columns: # Ensure the column exists\n",
    "        # Calculate the mode for the current column. .mode()[0] handles ties by taking the first mode.\n",
    "        median_val = train_df_fill[col].median()\n",
    "        train_df_fill[col] = train_df_fill[col].fillna(median_val)\n",
    "print(\"\\nMethod 1: Filled using a loop for each column's mode:\")\n",
    "print(train_df_fill)"
   ]
  },
  {
   "cell_type": "code",
   "execution_count": 25,
   "id": "f8548cfb",
   "metadata": {
    "execution": {
     "iopub.execute_input": "2025-07-30T05:18:41.064368Z",
     "iopub.status.busy": "2025-07-30T05:18:41.064147Z",
     "iopub.status.idle": "2025-07-30T05:18:41.076088Z",
     "shell.execute_reply": "2025-07-30T05:18:41.075096Z"
    },
    "papermill": {
     "duration": 0.024102,
     "end_time": "2025-07-30T05:18:41.077378",
     "exception": false,
     "start_time": "2025-07-30T05:18:41.053276",
     "status": "completed"
    },
    "tags": []
   },
   "outputs": [
    {
     "name": "stdout",
     "output_type": "stream",
     "text": [
      "\n",
      "Method 1: Filled using a loop for each column's mode:\n",
      "      id  Time_spent_Alone Stage_fear  Social_event_attendance  Going_outside  \\\n",
      "0  18524               3.0         No                      7.0            4.0   \n",
      "1  18525               2.0        Yes                      0.0            0.0   \n",
      "2  18526               3.0         No                      5.0            6.0   \n",
      "3  18527               3.0         No                      4.0            4.0   \n",
      "4  18528               9.0        Yes                      1.0            2.0   \n",
      "\n",
      "  Drained_after_socializing  Friends_circle_size  Post_frequency  \n",
      "0                        No                  6.0             5.0  \n",
      "1                       Yes                  5.0             1.0  \n",
      "2                        No                 15.0             9.0  \n",
      "3                        No                  5.0             6.0  \n",
      "4                       Yes                  1.0             1.0  \n"
     ]
    }
   ],
   "source": [
    "for col in numerical_cols:\n",
    "    if col in test_df_fill.columns: # Ensure the column exists\n",
    "        # Calculate the mode for the current column. .mode()[0] handles ties by taking the first mode.\n",
    "        median_val = test_df_fill[col].median()\n",
    "        test_df_fill[col] = test_df_fill[col].fillna(median_val)\n",
    "print(\"\\nMethod 1: Filled using a loop for each column's mode:\")\n",
    "print(test_df_fill.head())"
   ]
  },
  {
   "cell_type": "code",
   "execution_count": 26,
   "id": "d5043d2c",
   "metadata": {
    "execution": {
     "iopub.execute_input": "2025-07-30T05:18:41.100908Z",
     "iopub.status.busy": "2025-07-30T05:18:41.100656Z",
     "iopub.status.idle": "2025-07-30T05:18:41.108195Z",
     "shell.execute_reply": "2025-07-30T05:18:41.107403Z"
    },
    "papermill": {
     "duration": 0.020353,
     "end_time": "2025-07-30T05:18:41.109734",
     "exception": false,
     "start_time": "2025-07-30T05:18:41.089381",
     "status": "completed"
    },
    "tags": []
   },
   "outputs": [
    {
     "data": {
      "text/plain": [
       "id                         0\n",
       "Time_spent_Alone           0\n",
       "Social_event_attendance    0\n",
       "Going_outside              0\n",
       "Friends_circle_size        0\n",
       "Post_frequency             0\n",
       "dtype: int64"
      ]
     },
     "execution_count": 26,
     "metadata": {},
     "output_type": "execute_result"
    }
   ],
   "source": [
    "train_df_fill[numerical_cols].isna().sum()"
   ]
  },
  {
   "cell_type": "code",
   "execution_count": 27,
   "id": "77e2b8f7",
   "metadata": {
    "execution": {
     "iopub.execute_input": "2025-07-30T05:18:41.132663Z",
     "iopub.status.busy": "2025-07-30T05:18:41.132132Z",
     "iopub.status.idle": "2025-07-30T05:18:41.139208Z",
     "shell.execute_reply": "2025-07-30T05:18:41.138488Z"
    },
    "papermill": {
     "duration": 0.018961,
     "end_time": "2025-07-30T05:18:41.140374",
     "exception": false,
     "start_time": "2025-07-30T05:18:41.121413",
     "status": "completed"
    },
    "tags": []
   },
   "outputs": [
    {
     "data": {
      "text/plain": [
       "id                         0\n",
       "Time_spent_Alone           0\n",
       "Social_event_attendance    0\n",
       "Going_outside              0\n",
       "Friends_circle_size        0\n",
       "Post_frequency             0\n",
       "dtype: int64"
      ]
     },
     "execution_count": 27,
     "metadata": {},
     "output_type": "execute_result"
    }
   ],
   "source": [
    "test_df_fill[numerical_cols].isna().sum()"
   ]
  },
  {
   "cell_type": "code",
   "execution_count": 28,
   "id": "81dfb003",
   "metadata": {
    "execution": {
     "iopub.execute_input": "2025-07-30T05:18:41.161882Z",
     "iopub.status.busy": "2025-07-30T05:18:41.161257Z",
     "iopub.status.idle": "2025-07-30T05:18:41.521469Z",
     "shell.execute_reply": "2025-07-30T05:18:41.520793Z"
    },
    "papermill": {
     "duration": 0.372066,
     "end_time": "2025-07-30T05:18:41.522770",
     "exception": false,
     "start_time": "2025-07-30T05:18:41.150704",
     "status": "completed"
    },
    "tags": []
   },
   "outputs": [
    {
     "data": {
      "text/plain": [
       "<seaborn.axisgrid.FacetGrid at 0x7a760cfd6490>"
      ]
     },
     "execution_count": 28,
     "metadata": {},
     "output_type": "execute_result"
    },
    {
     "data": {
      "image/png": "[encoded data removed]",
      "text/plain": [
       "<Figure size 500x500 with 1 Axes>"
      ]
     },
     "metadata": {},
     "output_type": "display_data"
    }
   ],
   "source": [
    "sns.displot(train_df_fill['Time_spent_Alone'],kde = True)"
   ]
  },
  {
   "cell_type": "code",
   "execution_count": 29,
   "id": "e371bffa",
   "metadata": {
    "execution": {
     "iopub.execute_input": "2025-07-30T05:18:41.546139Z",
     "iopub.status.busy": "2025-07-30T05:18:41.545465Z",
     "iopub.status.idle": "2025-07-30T05:18:41.558056Z",
     "shell.execute_reply": "2025-07-30T05:18:41.557435Z"
    },
    "papermill": {
     "duration": 0.025186,
     "end_time": "2025-07-30T05:18:41.559146",
     "exception": false,
     "start_time": "2025-07-30T05:18:41.533960",
     "status": "completed"
    },
    "tags": []
   },
   "outputs": [
    {
     "data": {
      "text/html": [
       "<div>\n",
       "<style scoped>\n",
       "    .dataframe tbody tr th:only-of-type {\n",
       "        vertical-align: middle;\n",
       "    }\n",
       "\n",
       "    .dataframe tbody tr th {\n",
       "        vertical-align: top;\n",
       "    }\n",
       "\n",
       "    .dataframe thead th {\n",
       "        text-align: right;\n",
       "    }\n",
       "</style>\n",
       "<table border=\"1\" class=\"dataframe\">\n",
       "  <thead>\n",
       "    <tr style=\"text-align: right;\">\n",
       "      <th></th>\n",
       "      <th>id</th>\n",
       "      <th>Time_spent_Alone</th>\n",
       "      <th>Stage_fear</th>\n",
       "      <th>Social_event_attendance</th>\n",
       "      <th>Going_outside</th>\n",
       "      <th>Drained_after_socializing</th>\n",
       "      <th>Friends_circle_size</th>\n",
       "      <th>Post_frequency</th>\n",
       "      <th>Personality</th>\n",
       "    </tr>\n",
       "  </thead>\n",
       "  <tbody>\n",
       "    <tr>\n",
       "      <th>0</th>\n",
       "      <td>0</td>\n",
       "      <td>0.0</td>\n",
       "      <td>No</td>\n",
       "      <td>6.0</td>\n",
       "      <td>4.0</td>\n",
       "      <td>No</td>\n",
       "      <td>15.0</td>\n",
       "      <td>5.0</td>\n",
       "      <td>Extrovert</td>\n",
       "    </tr>\n",
       "    <tr>\n",
       "      <th>1</th>\n",
       "      <td>1</td>\n",
       "      <td>1.0</td>\n",
       "      <td>No</td>\n",
       "      <td>7.0</td>\n",
       "      <td>3.0</td>\n",
       "      <td>No</td>\n",
       "      <td>10.0</td>\n",
       "      <td>8.0</td>\n",
       "      <td>Extrovert</td>\n",
       "    </tr>\n",
       "    <tr>\n",
       "      <th>2</th>\n",
       "      <td>2</td>\n",
       "      <td>6.0</td>\n",
       "      <td>Yes</td>\n",
       "      <td>1.0</td>\n",
       "      <td>0.0</td>\n",
       "      <td>No</td>\n",
       "      <td>3.0</td>\n",
       "      <td>0.0</td>\n",
       "      <td>Introvert</td>\n",
       "    </tr>\n",
       "    <tr>\n",
       "      <th>3</th>\n",
       "      <td>3</td>\n",
       "      <td>3.0</td>\n",
       "      <td>No</td>\n",
       "      <td>7.0</td>\n",
       "      <td>3.0</td>\n",
       "      <td>No</td>\n",
       "      <td>11.0</td>\n",
       "      <td>5.0</td>\n",
       "      <td>Extrovert</td>\n",
       "    </tr>\n",
       "    <tr>\n",
       "      <th>4</th>\n",
       "      <td>4</td>\n",
       "      <td>1.0</td>\n",
       "      <td>No</td>\n",
       "      <td>4.0</td>\n",
       "      <td>4.0</td>\n",
       "      <td>No</td>\n",
       "      <td>13.0</td>\n",
       "      <td>5.0</td>\n",
       "      <td>Extrovert</td>\n",
       "    </tr>\n",
       "    <tr>\n",
       "      <th>5</th>\n",
       "      <td>5</td>\n",
       "      <td>2.0</td>\n",
       "      <td>No</td>\n",
       "      <td>8.0</td>\n",
       "      <td>5.0</td>\n",
       "      <td>No</td>\n",
       "      <td>8.0</td>\n",
       "      <td>3.0</td>\n",
       "      <td>Extrovert</td>\n",
       "    </tr>\n",
       "    <tr>\n",
       "      <th>6</th>\n",
       "      <td>6</td>\n",
       "      <td>1.0</td>\n",
       "      <td>No</td>\n",
       "      <td>8.0</td>\n",
       "      <td>4.0</td>\n",
       "      <td>No</td>\n",
       "      <td>8.0</td>\n",
       "      <td>4.0</td>\n",
       "      <td>Extrovert</td>\n",
       "    </tr>\n",
       "    <tr>\n",
       "      <th>7</th>\n",
       "      <td>7</td>\n",
       "      <td>2.0</td>\n",
       "      <td>No</td>\n",
       "      <td>8.0</td>\n",
       "      <td>3.0</td>\n",
       "      <td>No</td>\n",
       "      <td>4.0</td>\n",
       "      <td>5.0</td>\n",
       "      <td>Extrovert</td>\n",
       "    </tr>\n",
       "    <tr>\n",
       "      <th>8</th>\n",
       "      <td>8</td>\n",
       "      <td>4.0</td>\n",
       "      <td>Yes</td>\n",
       "      <td>2.0</td>\n",
       "      <td>1.0</td>\n",
       "      <td>No</td>\n",
       "      <td>0.0</td>\n",
       "      <td>2.0</td>\n",
       "      <td>Introvert</td>\n",
       "    </tr>\n",
       "    <tr>\n",
       "      <th>9</th>\n",
       "      <td>9</td>\n",
       "      <td>1.0</td>\n",
       "      <td>No</td>\n",
       "      <td>8.0</td>\n",
       "      <td>6.0</td>\n",
       "      <td>No</td>\n",
       "      <td>14.0</td>\n",
       "      <td>9.0</td>\n",
       "      <td>Extrovert</td>\n",
       "    </tr>\n",
       "  </tbody>\n",
       "</table>\n",
       "</div>"
      ],
      "text/plain": [
       "   id  Time_spent_Alone Stage_fear  Social_event_attendance  Going_outside  \\\n",
       "0   0               0.0         No                      6.0            4.0   \n",
       "1   1               1.0         No                      7.0            3.0   \n",
       "2   2               6.0        Yes                      1.0            0.0   \n",
       "3   3               3.0         No                      7.0            3.0   \n",
       "4   4               1.0         No                      4.0            4.0   \n",
       "5   5               2.0         No                      8.0            5.0   \n",
       "6   6               1.0         No                      8.0            4.0   \n",
       "7   7               2.0         No                      8.0            3.0   \n",
       "8   8               4.0        Yes                      2.0            1.0   \n",
       "9   9               1.0         No                      8.0            6.0   \n",
       "\n",
       "  Drained_after_socializing  Friends_circle_size  Post_frequency Personality  \n",
       "0                        No                 15.0             5.0   Extrovert  \n",
       "1                        No                 10.0             8.0   Extrovert  \n",
       "2                        No                  3.0             0.0   Introvert  \n",
       "3                        No                 11.0             5.0   Extrovert  \n",
       "4                        No                 13.0             5.0   Extrovert  \n",
       "5                        No                  8.0             3.0   Extrovert  \n",
       "6                        No                  8.0             4.0   Extrovert  \n",
       "7                        No                  4.0             5.0   Extrovert  \n",
       "8                        No                  0.0             2.0   Introvert  \n",
       "9                        No                 14.0             9.0   Extrovert  "
      ]
     },
     "execution_count": 29,
     "metadata": {},
     "output_type": "execute_result"
    }
   ],
   "source": [
    "train_df_fill.head(10)"
   ]
  },
  {
   "cell_type": "code",
   "execution_count": 30,
   "id": "b1dde75f",
   "metadata": {
    "execution": {
     "iopub.execute_input": "2025-07-30T05:18:41.581778Z",
     "iopub.status.busy": "2025-07-30T05:18:41.581491Z",
     "iopub.status.idle": "2025-07-30T05:18:41.591947Z",
     "shell.execute_reply": "2025-07-30T05:18:41.591353Z"
    },
    "papermill": {
     "duration": 0.022788,
     "end_time": "2025-07-30T05:18:41.593006",
     "exception": false,
     "start_time": "2025-07-30T05:18:41.570218",
     "status": "completed"
    },
    "tags": []
   },
   "outputs": [
    {
     "data": {
      "text/html": [
       "<div>\n",
       "<style scoped>\n",
       "    .dataframe tbody tr th:only-of-type {\n",
       "        vertical-align: middle;\n",
       "    }\n",
       "\n",
       "    .dataframe tbody tr th {\n",
       "        vertical-align: top;\n",
       "    }\n",
       "\n",
       "    .dataframe thead th {\n",
       "        text-align: right;\n",
       "    }\n",
       "</style>\n",
       "<table border=\"1\" class=\"dataframe\">\n",
       "  <thead>\n",
       "    <tr style=\"text-align: right;\">\n",
       "      <th></th>\n",
       "      <th>id</th>\n",
       "      <th>Time_spent_Alone</th>\n",
       "      <th>Stage_fear</th>\n",
       "      <th>Social_event_attendance</th>\n",
       "      <th>Going_outside</th>\n",
       "      <th>Drained_after_socializing</th>\n",
       "      <th>Friends_circle_size</th>\n",
       "      <th>Post_frequency</th>\n",
       "    </tr>\n",
       "  </thead>\n",
       "  <tbody>\n",
       "    <tr>\n",
       "      <th>0</th>\n",
       "      <td>18524</td>\n",
       "      <td>3.0</td>\n",
       "      <td>No</td>\n",
       "      <td>7.0</td>\n",
       "      <td>4.0</td>\n",
       "      <td>No</td>\n",
       "      <td>6.0</td>\n",
       "      <td>5.0</td>\n",
       "    </tr>\n",
       "    <tr>\n",
       "      <th>1</th>\n",
       "      <td>18525</td>\n",
       "      <td>2.0</td>\n",
       "      <td>Yes</td>\n",
       "      <td>0.0</td>\n",
       "      <td>0.0</td>\n",
       "      <td>Yes</td>\n",
       "      <td>5.0</td>\n",
       "      <td>1.0</td>\n",
       "    </tr>\n",
       "    <tr>\n",
       "      <th>2</th>\n",
       "      <td>18526</td>\n",
       "      <td>3.0</td>\n",
       "      <td>No</td>\n",
       "      <td>5.0</td>\n",
       "      <td>6.0</td>\n",
       "      <td>No</td>\n",
       "      <td>15.0</td>\n",
       "      <td>9.0</td>\n",
       "    </tr>\n",
       "    <tr>\n",
       "      <th>3</th>\n",
       "      <td>18527</td>\n",
       "      <td>3.0</td>\n",
       "      <td>No</td>\n",
       "      <td>4.0</td>\n",
       "      <td>4.0</td>\n",
       "      <td>No</td>\n",
       "      <td>5.0</td>\n",
       "      <td>6.0</td>\n",
       "    </tr>\n",
       "    <tr>\n",
       "      <th>4</th>\n",
       "      <td>18528</td>\n",
       "      <td>9.0</td>\n",
       "      <td>Yes</td>\n",
       "      <td>1.0</td>\n",
       "      <td>2.0</td>\n",
       "      <td>Yes</td>\n",
       "      <td>1.0</td>\n",
       "      <td>1.0</td>\n",
       "    </tr>\n",
       "  </tbody>\n",
       "</table>\n",
       "</div>"
      ],
      "text/plain": [
       "      id  Time_spent_Alone Stage_fear  Social_event_attendance  Going_outside  \\\n",
       "0  18524               3.0         No                      7.0            4.0   \n",
       "1  18525               2.0        Yes                      0.0            0.0   \n",
       "2  18526               3.0         No                      5.0            6.0   \n",
       "3  18527               3.0         No                      4.0            4.0   \n",
       "4  18528               9.0        Yes                      1.0            2.0   \n",
       "\n",
       "  Drained_after_socializing  Friends_circle_size  Post_frequency  \n",
       "0                        No                  6.0             5.0  \n",
       "1                       Yes                  5.0             1.0  \n",
       "2                        No                 15.0             9.0  \n",
       "3                        No                  5.0             6.0  \n",
       "4                       Yes                  1.0             1.0  "
      ]
     },
     "execution_count": 30,
     "metadata": {},
     "output_type": "execute_result"
    }
   ],
   "source": [
    "test_df_fill.head()"
   ]
  },
  {
   "cell_type": "code",
   "execution_count": 31,
   "id": "78669f71",
   "metadata": {
    "execution": {
     "iopub.execute_input": "2025-07-30T05:18:41.615894Z",
     "iopub.status.busy": "2025-07-30T05:18:41.615314Z",
     "iopub.status.idle": "2025-07-30T05:18:41.624015Z",
     "shell.execute_reply": "2025-07-30T05:18:41.623295Z"
    },
    "papermill": {
     "duration": 0.021165,
     "end_time": "2025-07-30T05:18:41.625151",
     "exception": false,
     "start_time": "2025-07-30T05:18:41.603986",
     "status": "completed"
    },
    "tags": []
   },
   "outputs": [
    {
     "data": {
      "text/plain": [
       "id                              0\n",
       "Time_spent_Alone             1190\n",
       "Stage_fear                   1893\n",
       "Social_event_attendance      1180\n",
       "Going_outside                1466\n",
       "Drained_after_socializing    1149\n",
       "Friends_circle_size          1054\n",
       "Post_frequency               1264\n",
       "Personality                     0\n",
       "dtype: int64"
      ]
     },
     "execution_count": 31,
     "metadata": {},
     "output_type": "execute_result"
    }
   ],
   "source": [
    "train_df.isnull().sum()"
   ]
  },
  {
   "cell_type": "code",
   "execution_count": null,
   "id": "b9046996",
   "metadata": {
    "papermill": {
     "duration": 0.010927,
     "end_time": "2025-07-30T05:18:41.647029",
     "exception": false,
     "start_time": "2025-07-30T05:18:41.636102",
     "status": "completed"
    },
    "tags": []
   },
   "outputs": [],
   "source": []
  },
  {
   "cell_type": "code",
   "execution_count": 32,
   "id": "d6705f62",
   "metadata": {
    "execution": {
     "iopub.execute_input": "2025-07-30T05:18:41.669665Z",
     "iopub.status.busy": "2025-07-30T05:18:41.669098Z",
     "iopub.status.idle": "2025-07-30T05:18:41.675486Z",
     "shell.execute_reply": "2025-07-30T05:18:41.674908Z"
    },
    "papermill": {
     "duration": 0.018712,
     "end_time": "2025-07-30T05:18:41.676578",
     "exception": false,
     "start_time": "2025-07-30T05:18:41.657866",
     "status": "completed"
    },
    "tags": []
   },
   "outputs": [
    {
     "data": {
      "text/plain": [
       "id                             0\n",
       "Time_spent_Alone             425\n",
       "Stage_fear                   598\n",
       "Social_event_attendance      397\n",
       "Going_outside                466\n",
       "Drained_after_socializing    432\n",
       "Friends_circle_size          350\n",
       "Post_frequency               408\n",
       "dtype: int64"
      ]
     },
     "execution_count": 32,
     "metadata": {},
     "output_type": "execute_result"
    }
   ],
   "source": [
    "test_df.isnull().sum()"
   ]
  },
  {
   "cell_type": "code",
   "execution_count": 33,
   "id": "6972f202",
   "metadata": {
    "execution": {
     "iopub.execute_input": "2025-07-30T05:18:41.700346Z",
     "iopub.status.busy": "2025-07-30T05:18:41.699978Z",
     "iopub.status.idle": "2025-07-30T05:18:41.703133Z",
     "shell.execute_reply": "2025-07-30T05:18:41.702637Z"
    },
    "papermill": {
     "duration": 0.015796,
     "end_time": "2025-07-30T05:18:41.704101",
     "exception": false,
     "start_time": "2025-07-30T05:18:41.688305",
     "status": "completed"
    },
    "tags": []
   },
   "outputs": [],
   "source": [
    "lenc = LabelEncoder()"
   ]
  },
  {
   "cell_type": "code",
   "execution_count": 34,
   "id": "4db03313",
   "metadata": {
    "execution": {
     "iopub.execute_input": "2025-07-30T05:18:41.728125Z",
     "iopub.status.busy": "2025-07-30T05:18:41.727624Z",
     "iopub.status.idle": "2025-07-30T05:18:41.740264Z",
     "shell.execute_reply": "2025-07-30T05:18:41.739697Z"
    },
    "papermill": {
     "duration": 0.025754,
     "end_time": "2025-07-30T05:18:41.741252",
     "exception": false,
     "start_time": "2025-07-30T05:18:41.715498",
     "status": "completed"
    },
    "tags": []
   },
   "outputs": [],
   "source": [
    "for i in cat_columns:\n",
    "    train_df_fill[i] = lenc.fit_transform(train_df_fill[i])\n",
    "train_df_fill['Personality'] = lenc.fit_transform(train_df_fill['Personality'])"
   ]
  },
  {
   "cell_type": "code",
   "execution_count": 35,
   "id": "60855b09",
   "metadata": {
    "execution": {
     "iopub.execute_input": "2025-07-30T05:18:41.764432Z",
     "iopub.status.busy": "2025-07-30T05:18:41.763957Z",
     "iopub.status.idle": "2025-07-30T05:18:41.773622Z",
     "shell.execute_reply": "2025-07-30T05:18:41.773008Z"
    },
    "papermill": {
     "duration": 0.022333,
     "end_time": "2025-07-30T05:18:41.774635",
     "exception": false,
     "start_time": "2025-07-30T05:18:41.752302",
     "status": "completed"
    },
    "tags": []
   },
   "outputs": [
    {
     "data": {
      "text/html": [
       "<div>\n",
       "<style scoped>\n",
       "    .dataframe tbody tr th:only-of-type {\n",
       "        vertical-align: middle;\n",
       "    }\n",
       "\n",
       "    .dataframe tbody tr th {\n",
       "        vertical-align: top;\n",
       "    }\n",
       "\n",
       "    .dataframe thead th {\n",
       "        text-align: right;\n",
       "    }\n",
       "</style>\n",
       "<table border=\"1\" class=\"dataframe\">\n",
       "  <thead>\n",
       "    <tr style=\"text-align: right;\">\n",
       "      <th></th>\n",
       "      <th>id</th>\n",
       "      <th>Time_spent_Alone</th>\n",
       "      <th>Stage_fear</th>\n",
       "      <th>Social_event_attendance</th>\n",
       "      <th>Going_outside</th>\n",
       "      <th>Drained_after_socializing</th>\n",
       "      <th>Friends_circle_size</th>\n",
       "      <th>Post_frequency</th>\n",
       "      <th>Personality</th>\n",
       "    </tr>\n",
       "  </thead>\n",
       "  <tbody>\n",
       "    <tr>\n",
       "      <th>0</th>\n",
       "      <td>0</td>\n",
       "      <td>0.0</td>\n",
       "      <td>0</td>\n",
       "      <td>6.0</td>\n",
       "      <td>4.0</td>\n",
       "      <td>0</td>\n",
       "      <td>15.0</td>\n",
       "      <td>5.0</td>\n",
       "      <td>0</td>\n",
       "    </tr>\n",
       "    <tr>\n",
       "      <th>1</th>\n",
       "      <td>1</td>\n",
       "      <td>1.0</td>\n",
       "      <td>0</td>\n",
       "      <td>7.0</td>\n",
       "      <td>3.0</td>\n",
       "      <td>0</td>\n",
       "      <td>10.0</td>\n",
       "      <td>8.0</td>\n",
       "      <td>0</td>\n",
       "    </tr>\n",
       "    <tr>\n",
       "      <th>2</th>\n",
       "      <td>2</td>\n",
       "      <td>6.0</td>\n",
       "      <td>1</td>\n",
       "      <td>1.0</td>\n",
       "      <td>0.0</td>\n",
       "      <td>0</td>\n",
       "      <td>3.0</td>\n",
       "      <td>0.0</td>\n",
       "      <td>1</td>\n",
       "    </tr>\n",
       "    <tr>\n",
       "      <th>3</th>\n",
       "      <td>3</td>\n",
       "      <td>3.0</td>\n",
       "      <td>0</td>\n",
       "      <td>7.0</td>\n",
       "      <td>3.0</td>\n",
       "      <td>0</td>\n",
       "      <td>11.0</td>\n",
       "      <td>5.0</td>\n",
       "      <td>0</td>\n",
       "    </tr>\n",
       "    <tr>\n",
       "      <th>4</th>\n",
       "      <td>4</td>\n",
       "      <td>1.0</td>\n",
       "      <td>0</td>\n",
       "      <td>4.0</td>\n",
       "      <td>4.0</td>\n",
       "      <td>0</td>\n",
       "      <td>13.0</td>\n",
       "      <td>5.0</td>\n",
       "      <td>0</td>\n",
       "    </tr>\n",
       "  </tbody>\n",
       "</table>\n",
       "</div>"
      ],
      "text/plain": [
       "   id  Time_spent_Alone  Stage_fear  Social_event_attendance  Going_outside  \\\n",
       "0   0               0.0           0                      6.0            4.0   \n",
       "1   1               1.0           0                      7.0            3.0   \n",
       "2   2               6.0           1                      1.0            0.0   \n",
       "3   3               3.0           0                      7.0            3.0   \n",
       "4   4               1.0           0                      4.0            4.0   \n",
       "\n",
       "   Drained_after_socializing  Friends_circle_size  Post_frequency  Personality  \n",
       "0                          0                 15.0             5.0            0  \n",
       "1                          0                 10.0             8.0            0  \n",
       "2                          0                  3.0             0.0            1  \n",
       "3                          0                 11.0             5.0            0  \n",
       "4                          0                 13.0             5.0            0  "
      ]
     },
     "execution_count": 35,
     "metadata": {},
     "output_type": "execute_result"
    }
   ],
   "source": [
    "train_df_fill.head()"
   ]
  },
  {
   "cell_type": "code",
   "execution_count": 36,
   "id": "26f65d00",
   "metadata": {
    "execution": {
     "iopub.execute_input": "2025-07-30T05:18:41.797404Z",
     "iopub.status.busy": "2025-07-30T05:18:41.797206Z",
     "iopub.status.idle": "2025-07-30T05:18:41.803159Z",
     "shell.execute_reply": "2025-07-30T05:18:41.802460Z"
    },
    "papermill": {
     "duration": 0.018535,
     "end_time": "2025-07-30T05:18:41.804200",
     "exception": false,
     "start_time": "2025-07-30T05:18:41.785665",
     "status": "completed"
    },
    "tags": []
   },
   "outputs": [],
   "source": [
    "for i in cat_columns:\n",
    "    test_df_fill[i] = lenc.fit_transform(test_df_fill[i])\n",
    "#test_df_fill['Personality'] = lenc.fit_transform(test_df_fill['Personality'])"
   ]
  },
  {
   "cell_type": "code",
   "execution_count": 37,
   "id": "08b50f79",
   "metadata": {
    "execution": {
     "iopub.execute_input": "2025-07-30T05:18:41.830280Z",
     "iopub.status.busy": "2025-07-30T05:18:41.830065Z",
     "iopub.status.idle": "2025-07-30T05:18:41.841028Z",
     "shell.execute_reply": "2025-07-30T05:18:41.840383Z"
    },
    "papermill": {
     "duration": 0.025444,
     "end_time": "2025-07-30T05:18:41.842154",
     "exception": false,
     "start_time": "2025-07-30T05:18:41.816710",
     "status": "completed"
    },
    "tags": []
   },
   "outputs": [
    {
     "data": {
      "text/html": [
       "<div>\n",
       "<style scoped>\n",
       "    .dataframe tbody tr th:only-of-type {\n",
       "        vertical-align: middle;\n",
       "    }\n",
       "\n",
       "    .dataframe tbody tr th {\n",
       "        vertical-align: top;\n",
       "    }\n",
       "\n",
       "    .dataframe thead th {\n",
       "        text-align: right;\n",
       "    }\n",
       "</style>\n",
       "<table border=\"1\" class=\"dataframe\">\n",
       "  <thead>\n",
       "    <tr style=\"text-align: right;\">\n",
       "      <th></th>\n",
       "      <th>id</th>\n",
       "      <th>Time_spent_Alone</th>\n",
       "      <th>Stage_fear</th>\n",
       "      <th>Social_event_attendance</th>\n",
       "      <th>Going_outside</th>\n",
       "      <th>Drained_after_socializing</th>\n",
       "      <th>Friends_circle_size</th>\n",
       "      <th>Post_frequency</th>\n",
       "    </tr>\n",
       "  </thead>\n",
       "  <tbody>\n",
       "    <tr>\n",
       "      <th>0</th>\n",
       "      <td>0</td>\n",
       "      <td>0.0</td>\n",
       "      <td>0</td>\n",
       "      <td>6.0</td>\n",
       "      <td>4.0</td>\n",
       "      <td>0</td>\n",
       "      <td>15.0</td>\n",
       "      <td>5.0</td>\n",
       "    </tr>\n",
       "    <tr>\n",
       "      <th>1</th>\n",
       "      <td>1</td>\n",
       "      <td>1.0</td>\n",
       "      <td>0</td>\n",
       "      <td>7.0</td>\n",
       "      <td>3.0</td>\n",
       "      <td>0</td>\n",
       "      <td>10.0</td>\n",
       "      <td>8.0</td>\n",
       "    </tr>\n",
       "    <tr>\n",
       "      <th>2</th>\n",
       "      <td>2</td>\n",
       "      <td>6.0</td>\n",
       "      <td>1</td>\n",
       "      <td>1.0</td>\n",
       "      <td>0.0</td>\n",
       "      <td>0</td>\n",
       "      <td>3.0</td>\n",
       "      <td>0.0</td>\n",
       "    </tr>\n",
       "    <tr>\n",
       "      <th>3</th>\n",
       "      <td>3</td>\n",
       "      <td>3.0</td>\n",
       "      <td>0</td>\n",
       "      <td>7.0</td>\n",
       "      <td>3.0</td>\n",
       "      <td>0</td>\n",
       "      <td>11.0</td>\n",
       "      <td>5.0</td>\n",
       "    </tr>\n",
       "    <tr>\n",
       "      <th>4</th>\n",
       "      <td>4</td>\n",
       "      <td>1.0</td>\n",
       "      <td>0</td>\n",
       "      <td>4.0</td>\n",
       "      <td>4.0</td>\n",
       "      <td>0</td>\n",
       "      <td>13.0</td>\n",
       "      <td>5.0</td>\n",
       "    </tr>\n",
       "  </tbody>\n",
       "</table>\n",
       "</div>"
      ],
      "text/plain": [
       "   id  Time_spent_Alone  Stage_fear  Social_event_attendance  Going_outside  \\\n",
       "0   0               0.0           0                      6.0            4.0   \n",
       "1   1               1.0           0                      7.0            3.0   \n",
       "2   2               6.0           1                      1.0            0.0   \n",
       "3   3               3.0           0                      7.0            3.0   \n",
       "4   4               1.0           0                      4.0            4.0   \n",
       "\n",
       "   Drained_after_socializing  Friends_circle_size  Post_frequency  \n",
       "0                          0                 15.0             5.0  \n",
       "1                          0                 10.0             8.0  \n",
       "2                          0                  3.0             0.0  \n",
       "3                          0                 11.0             5.0  \n",
       "4                          0                 13.0             5.0  "
      ]
     },
     "execution_count": 37,
     "metadata": {},
     "output_type": "execute_result"
    }
   ],
   "source": [
    "X_train_df = train_df_fill.iloc[:, :-1]\n",
    "X_train_df.head()"
   ]
  },
  {
   "cell_type": "code",
   "execution_count": 38,
   "id": "fc37bf3c",
   "metadata": {
    "execution": {
     "iopub.execute_input": "2025-07-30T05:18:41.866521Z",
     "iopub.status.busy": "2025-07-30T05:18:41.866108Z",
     "iopub.status.idle": "2025-07-30T05:18:41.890986Z",
     "shell.execute_reply": "2025-07-30T05:18:41.889957Z"
    },
    "papermill": {
     "duration": 0.038177,
     "end_time": "2025-07-30T05:18:41.892135",
     "exception": false,
     "start_time": "2025-07-30T05:18:41.853958",
     "status": "completed"
    },
    "tags": []
   },
   "outputs": [
    {
     "name": "stdout",
     "output_type": "stream",
     "text": [
      "         id  Time_spent_Alone  Stage_fear  Social_event_attendance  \\\n",
      "0 -1.731957         -1.049913           0                 0.282102   \n",
      "1 -1.731770         -0.707327           0                 0.657346   \n",
      "2 -1.731583          1.005601           1                -1.594120   \n",
      "3 -1.731396         -0.022156           0                 0.657346   \n",
      "4 -1.731209         -0.707327           0                -0.468387   \n",
      "\n",
      "   Going_outside  Drained_after_socializing  Friends_circle_size  \\\n",
      "0      -0.020620                          0             1.707463   \n",
      "1      -0.525859                          0             0.488383   \n",
      "2      -2.041578                          0            -1.218331   \n",
      "3      -0.525859                          0             0.732199   \n",
      "4      -0.020620                          0             1.219831   \n",
      "\n",
      "   Post_frequency  \n",
      "0        0.006002  \n",
      "1        1.085490  \n",
      "2       -1.793144  \n",
      "3        0.006002  \n",
      "4        0.006002  \n"
     ]
    }
   ],
   "source": [
    "from sklearn.preprocessing import StandardScaler\n",
    "X_train_df[numerical_cols] = StandardScaler().fit_transform(X_train_df[numerical_cols])\n",
    "test_df_fill[numerical_cols] = StandardScaler().fit_transform(test_df_fill[numerical_cols])\n",
    "print(X_train_df.head())"
   ]
  },
  {
   "cell_type": "code",
   "execution_count": null,
   "id": "bfc4ecf8",
   "metadata": {
    "papermill": {
     "duration": 0.011231,
     "end_time": "2025-07-30T05:18:41.915201",
     "exception": false,
     "start_time": "2025-07-30T05:18:41.903970",
     "status": "completed"
    },
    "tags": []
   },
   "outputs": [],
   "source": []
  },
  {
   "cell_type": "code",
   "execution_count": 39,
   "id": "16dfc91f",
   "metadata": {
    "execution": {
     "iopub.execute_input": "2025-07-30T05:18:41.939173Z",
     "iopub.status.busy": "2025-07-30T05:18:41.938928Z",
     "iopub.status.idle": "2025-07-30T05:18:41.949151Z",
     "shell.execute_reply": "2025-07-30T05:18:41.948556Z"
    },
    "papermill": {
     "duration": 0.023579,
     "end_time": "2025-07-30T05:18:41.950224",
     "exception": false,
     "start_time": "2025-07-30T05:18:41.926645",
     "status": "completed"
    },
    "tags": []
   },
   "outputs": [
    {
     "data": {
      "text/html": [
       "<div>\n",
       "<style scoped>\n",
       "    .dataframe tbody tr th:only-of-type {\n",
       "        vertical-align: middle;\n",
       "    }\n",
       "\n",
       "    .dataframe tbody tr th {\n",
       "        vertical-align: top;\n",
       "    }\n",
       "\n",
       "    .dataframe thead th {\n",
       "        text-align: right;\n",
       "    }\n",
       "</style>\n",
       "<table border=\"1\" class=\"dataframe\">\n",
       "  <thead>\n",
       "    <tr style=\"text-align: right;\">\n",
       "      <th></th>\n",
       "      <th>Time_spent_Alone</th>\n",
       "      <th>Stage_fear</th>\n",
       "      <th>Social_event_attendance</th>\n",
       "      <th>Going_outside</th>\n",
       "      <th>Drained_after_socializing</th>\n",
       "      <th>Friends_circle_size</th>\n",
       "      <th>Post_frequency</th>\n",
       "    </tr>\n",
       "  </thead>\n",
       "  <tbody>\n",
       "    <tr>\n",
       "      <th>0</th>\n",
       "      <td>-1.049913</td>\n",
       "      <td>0</td>\n",
       "      <td>0.282102</td>\n",
       "      <td>-0.020620</td>\n",
       "      <td>0</td>\n",
       "      <td>1.707463</td>\n",
       "      <td>0.006002</td>\n",
       "    </tr>\n",
       "    <tr>\n",
       "      <th>1</th>\n",
       "      <td>-0.707327</td>\n",
       "      <td>0</td>\n",
       "      <td>0.657346</td>\n",
       "      <td>-0.525859</td>\n",
       "      <td>0</td>\n",
       "      <td>0.488383</td>\n",
       "      <td>1.085490</td>\n",
       "    </tr>\n",
       "    <tr>\n",
       "      <th>2</th>\n",
       "      <td>1.005601</td>\n",
       "      <td>1</td>\n",
       "      <td>-1.594120</td>\n",
       "      <td>-2.041578</td>\n",
       "      <td>0</td>\n",
       "      <td>-1.218331</td>\n",
       "      <td>-1.793144</td>\n",
       "    </tr>\n",
       "    <tr>\n",
       "      <th>3</th>\n",
       "      <td>-0.022156</td>\n",
       "      <td>0</td>\n",
       "      <td>0.657346</td>\n",
       "      <td>-0.525859</td>\n",
       "      <td>0</td>\n",
       "      <td>0.732199</td>\n",
       "      <td>0.006002</td>\n",
       "    </tr>\n",
       "    <tr>\n",
       "      <th>4</th>\n",
       "      <td>-0.707327</td>\n",
       "      <td>0</td>\n",
       "      <td>-0.468387</td>\n",
       "      <td>-0.020620</td>\n",
       "      <td>0</td>\n",
       "      <td>1.219831</td>\n",
       "      <td>0.006002</td>\n",
       "    </tr>\n",
       "  </tbody>\n",
       "</table>\n",
       "</div>"
      ],
      "text/plain": [
       "   Time_spent_Alone  Stage_fear  Social_event_attendance  Going_outside  \\\n",
       "0         -1.049913           0                 0.282102      -0.020620   \n",
       "1         -0.707327           0                 0.657346      -0.525859   \n",
       "2          1.005601           1                -1.594120      -2.041578   \n",
       "3         -0.022156           0                 0.657346      -0.525859   \n",
       "4         -0.707327           0                -0.468387      -0.020620   \n",
       "\n",
       "   Drained_after_socializing  Friends_circle_size  Post_frequency  \n",
       "0                          0             1.707463        0.006002  \n",
       "1                          0             0.488383        1.085490  \n",
       "2                          0            -1.218331       -1.793144  \n",
       "3                          0             0.732199        0.006002  \n",
       "4                          0             1.219831        0.006002  "
      ]
     },
     "execution_count": 39,
     "metadata": {},
     "output_type": "execute_result"
    }
   ],
   "source": [
    "X_train_df.drop('id',axis=1,inplace=True)\n",
    "X_train_df.head()"
   ]
  },
  {
   "cell_type": "code",
   "execution_count": 40,
   "id": "e2fd0a52",
   "metadata": {
    "execution": {
     "iopub.execute_input": "2025-07-30T05:18:41.975401Z",
     "iopub.status.busy": "2025-07-30T05:18:41.974915Z",
     "iopub.status.idle": "2025-07-30T05:18:41.979980Z",
     "shell.execute_reply": "2025-07-30T05:18:41.979434Z"
    },
    "papermill": {
     "duration": 0.018507,
     "end_time": "2025-07-30T05:18:41.981017",
     "exception": false,
     "start_time": "2025-07-30T05:18:41.962510",
     "status": "completed"
    },
    "tags": []
   },
   "outputs": [
    {
     "data": {
      "text/plain": [
       "0    0\n",
       "1    0\n",
       "2    1\n",
       "3    0\n",
       "4    0\n",
       "Name: Personality, dtype: int64"
      ]
     },
     "execution_count": 40,
     "metadata": {},
     "output_type": "execute_result"
    }
   ],
   "source": [
    "y_train_df = train_df_fill.iloc[:,-1]\n",
    "y_train_df.head()"
   ]
  },
  {
   "cell_type": "code",
   "execution_count": 41,
   "id": "7dd37f86",
   "metadata": {
    "execution": {
     "iopub.execute_input": "2025-07-30T05:18:42.004610Z",
     "iopub.status.busy": "2025-07-30T05:18:42.004367Z",
     "iopub.status.idle": "2025-07-30T05:18:42.014768Z",
     "shell.execute_reply": "2025-07-30T05:18:42.014157Z"
    },
    "papermill": {
     "duration": 0.023624,
     "end_time": "2025-07-30T05:18:42.016007",
     "exception": false,
     "start_time": "2025-07-30T05:18:41.992383",
     "status": "completed"
    },
    "tags": []
   },
   "outputs": [
    {
     "data": {
      "text/html": [
       "<div>\n",
       "<style scoped>\n",
       "    .dataframe tbody tr th:only-of-type {\n",
       "        vertical-align: middle;\n",
       "    }\n",
       "\n",
       "    .dataframe tbody tr th {\n",
       "        vertical-align: top;\n",
       "    }\n",
       "\n",
       "    .dataframe thead th {\n",
       "        text-align: right;\n",
       "    }\n",
       "</style>\n",
       "<table border=\"1\" class=\"dataframe\">\n",
       "  <thead>\n",
       "    <tr style=\"text-align: right;\">\n",
       "      <th></th>\n",
       "      <th>Time_spent_Alone</th>\n",
       "      <th>Stage_fear</th>\n",
       "      <th>Social_event_attendance</th>\n",
       "      <th>Going_outside</th>\n",
       "      <th>Drained_after_socializing</th>\n",
       "      <th>Friends_circle_size</th>\n",
       "      <th>Post_frequency</th>\n",
       "    </tr>\n",
       "  </thead>\n",
       "  <tbody>\n",
       "    <tr>\n",
       "      <th>0</th>\n",
       "      <td>-0.013818</td>\n",
       "      <td>0</td>\n",
       "      <td>0.648471</td>\n",
       "      <td>-0.017789</td>\n",
       "      <td>0</td>\n",
       "      <td>-0.493132</td>\n",
       "      <td>-0.009761</td>\n",
       "    </tr>\n",
       "    <tr>\n",
       "      <th>1</th>\n",
       "      <td>-0.359281</td>\n",
       "      <td>1</td>\n",
       "      <td>-1.974603</td>\n",
       "      <td>-2.051989</td>\n",
       "      <td>1</td>\n",
       "      <td>-0.738724</td>\n",
       "      <td>-1.453434</td>\n",
       "    </tr>\n",
       "    <tr>\n",
       "      <th>2</th>\n",
       "      <td>-0.013818</td>\n",
       "      <td>0</td>\n",
       "      <td>-0.100979</td>\n",
       "      <td>0.999311</td>\n",
       "      <td>0</td>\n",
       "      <td>1.717194</td>\n",
       "      <td>1.433912</td>\n",
       "    </tr>\n",
       "    <tr>\n",
       "      <th>3</th>\n",
       "      <td>-0.013818</td>\n",
       "      <td>0</td>\n",
       "      <td>-0.475703</td>\n",
       "      <td>-0.017789</td>\n",
       "      <td>0</td>\n",
       "      <td>-0.738724</td>\n",
       "      <td>0.351157</td>\n",
       "    </tr>\n",
       "    <tr>\n",
       "      <th>4</th>\n",
       "      <td>2.058955</td>\n",
       "      <td>1</td>\n",
       "      <td>-1.599878</td>\n",
       "      <td>-1.034889</td>\n",
       "      <td>1</td>\n",
       "      <td>-1.721091</td>\n",
       "      <td>-1.453434</td>\n",
       "    </tr>\n",
       "  </tbody>\n",
       "</table>\n",
       "</div>"
      ],
      "text/plain": [
       "   Time_spent_Alone  Stage_fear  Social_event_attendance  Going_outside  \\\n",
       "0         -0.013818           0                 0.648471      -0.017789   \n",
       "1         -0.359281           1                -1.974603      -2.051989   \n",
       "2         -0.013818           0                -0.100979       0.999311   \n",
       "3         -0.013818           0                -0.475703      -0.017789   \n",
       "4          2.058955           1                -1.599878      -1.034889   \n",
       "\n",
       "   Drained_after_socializing  Friends_circle_size  Post_frequency  \n",
       "0                          0            -0.493132       -0.009761  \n",
       "1                          1            -0.738724       -1.453434  \n",
       "2                          0             1.717194        1.433912  \n",
       "3                          0            -0.738724        0.351157  \n",
       "4                          1            -1.721091       -1.453434  "
      ]
     },
     "execution_count": 41,
     "metadata": {},
     "output_type": "execute_result"
    }
   ],
   "source": [
    "X_test = test_df_fill.copy()\n",
    "X_test.drop('id',axis=1,inplace=True)\n",
    "X_test.head()"
   ]
  },
  {
   "cell_type": "code",
   "execution_count": null,
   "id": "9233af48",
   "metadata": {
    "papermill": {
     "duration": 0.011405,
     "end_time": "2025-07-30T05:18:42.039121",
     "exception": false,
     "start_time": "2025-07-30T05:18:42.027716",
     "status": "completed"
    },
    "tags": []
   },
   "outputs": [],
   "source": []
  },
  {
   "cell_type": "code",
   "execution_count": 42,
   "id": "f21a36de",
   "metadata": {
    "execution": {
     "iopub.execute_input": "2025-07-30T05:18:42.062822Z",
     "iopub.status.busy": "2025-07-30T05:18:42.062532Z",
     "iopub.status.idle": "2025-07-30T05:18:42.069506Z",
     "shell.execute_reply": "2025-07-30T05:18:42.068989Z"
    },
    "papermill": {
     "duration": 0.020086,
     "end_time": "2025-07-30T05:18:42.070565",
     "exception": false,
     "start_time": "2025-07-30T05:18:42.050479",
     "status": "completed"
    },
    "tags": []
   },
   "outputs": [],
   "source": [
    "from sklearn.model_selection import train_test_split\n",
    "X_train, X_valid, y_train, y_valid = train_test_split(\n",
    "    X_train_df, y_train_df, test_size=0.3, random_state=42\n",
    ")"
   ]
  },
  {
   "cell_type": "code",
   "execution_count": 43,
   "id": "220583c0",
   "metadata": {
    "execution": {
     "iopub.execute_input": "2025-07-30T05:18:42.094461Z",
     "iopub.status.busy": "2025-07-30T05:18:42.094001Z",
     "iopub.status.idle": "2025-07-30T05:18:42.098184Z",
     "shell.execute_reply": "2025-07-30T05:18:42.097447Z"
    },
    "papermill": {
     "duration": 0.017165,
     "end_time": "2025-07-30T05:18:42.099222",
     "exception": false,
     "start_time": "2025-07-30T05:18:42.082057",
     "status": "completed"
    },
    "tags": []
   },
   "outputs": [
    {
     "name": "stdout",
     "output_type": "stream",
     "text": [
      "(12966, 7)\n",
      "(5558, 7)\n",
      "(12966,)\n",
      "(5558,)\n"
     ]
    }
   ],
   "source": [
    "print(X_train.shape)\n",
    "print(X_valid.shape)\n",
    "print(y_train.shape)\n",
    "print(y_valid.shape)"
   ]
  },
  {
   "cell_type": "code",
   "execution_count": 44,
   "id": "caf3f4fb",
   "metadata": {
    "execution": {
     "iopub.execute_input": "2025-07-30T05:18:42.123673Z",
     "iopub.status.busy": "2025-07-30T05:18:42.123115Z",
     "iopub.status.idle": "2025-07-30T05:18:42.126247Z",
     "shell.execute_reply": "2025-07-30T05:18:42.125724Z"
    },
    "papermill": {
     "duration": 0.016355,
     "end_time": "2025-07-30T05:18:42.127261",
     "exception": false,
     "start_time": "2025-07-30T05:18:42.110906",
     "status": "completed"
    },
    "tags": []
   },
   "outputs": [],
   "source": [
    "from sklearn.linear_model import LogisticRegression\n"
   ]
  },
  {
   "cell_type": "code",
   "execution_count": 45,
   "id": "049fe8cc",
   "metadata": {
    "execution": {
     "iopub.execute_input": "2025-07-30T05:18:42.151891Z",
     "iopub.status.busy": "2025-07-30T05:18:42.151642Z",
     "iopub.status.idle": "2025-07-30T05:18:42.155168Z",
     "shell.execute_reply": "2025-07-30T05:18:42.154566Z"
    },
    "papermill": {
     "duration": 0.017462,
     "end_time": "2025-07-30T05:18:42.156385",
     "exception": false,
     "start_time": "2025-07-30T05:18:42.138923",
     "status": "completed"
    },
    "tags": []
   },
   "outputs": [],
   "source": [
    "lr = LogisticRegression(solver='liblinear', max_iter=200)"
   ]
  },
  {
   "cell_type": "code",
   "execution_count": 46,
   "id": "0396ec60",
   "metadata": {
    "execution": {
     "iopub.execute_input": "2025-07-30T05:18:42.180762Z",
     "iopub.status.busy": "2025-07-30T05:18:42.180455Z",
     "iopub.status.idle": "2025-07-30T05:18:42.208883Z",
     "shell.execute_reply": "2025-07-30T05:18:42.208117Z"
    },
    "papermill": {
     "duration": 0.042096,
     "end_time": "2025-07-30T05:18:42.210091",
     "exception": false,
     "start_time": "2025-07-30T05:18:42.167995",
     "status": "completed"
    },
    "tags": []
   },
   "outputs": [
    {
     "data": {
      "text/html": [
       "<style>#sk-container-id-1 {color: black;background-color: white;}#sk-container-id-1 pre{padding: 0;}#sk-container-id-1 div.sk-toggleable {background-color: white;}#sk-container-id-1 label.sk-toggleable__label {cursor: pointer;display: block;width: 100%;margin-bottom: 0;padding: 0.3em;box-sizing: border-box;text-align: center;}#sk-container-id-1 label.sk-toggleable__label-arrow:before {content: \"▸\";float: left;margin-right: 0.25em;color: #696969;}#sk-container-id-1 label.sk-toggleable__label-arrow:hover:before {color: black;}#sk-container-id-1 div.sk-estimator:hover label.sk-toggleable__label-arrow:before {color: black;}#sk-container-id-1 div.sk-toggleable__content {max-height: 0;max-width: 0;overflow: hidden;text-align: left;background-color: #f0f8ff;}#sk-container-id-1 div.sk-toggleable__content pre {margin: 0.2em;color: black;border-radius: 0.25em;background-color: #f0f8ff;}#sk-container-id-1 input.sk-toggleable__control:checked~div.sk-toggleable__content {max-height: 200px;max-width: 100%;overflow: auto;}#sk-container-id-1 input.sk-toggleable__control:checked~label.sk-toggleable__label-arrow:before {content: \"▾\";}#sk-container-id-1 div.sk-estimator input.sk-toggleable__control:checked~label.sk-toggleable__label {background-color: #d4ebff;}#sk-container-id-1 div.sk-label input.sk-toggleable__control:checked~label.sk-toggleable__label {background-color: #d4ebff;}#sk-container-id-1 input.sk-hidden--visually {border: 0;clip: rect(1px 1px 1px 1px);clip: rect(1px, 1px, 1px, 1px);height: 1px;margin: -1px;overflow: hidden;padding: 0;position: absolute;width: 1px;}#sk-container-id-1 div.sk-estimator {font-family: monospace;background-color: #f0f8ff;border: 1px dotted black;border-radius: 0.25em;box-sizing: border-box;margin-bottom: 0.5em;}#sk-container-id-1 div.sk-estimator:hover {background-color: #d4ebff;}#sk-container-id-1 div.sk-parallel-item::after {content: \"\";width: 100%;border-bottom: 1px solid gray;flex-grow: 1;}#sk-container-id-1 div.sk-label:hover label.sk-toggleable__label {background-color: #d4ebff;}#sk-container-id-1 div.sk-serial::before {content: \"\";position: absolute;border-left: 1px solid gray;box-sizing: border-box;top: 0;bottom: 0;left: 50%;z-index: 0;}#sk-container-id-1 div.sk-serial {display: flex;flex-direction: column;align-items: center;background-color: white;padding-right: 0.2em;padding-left: 0.2em;position: relative;}#sk-container-id-1 div.sk-item {position: relative;z-index: 1;}#sk-container-id-1 div.sk-parallel {display: flex;align-items: stretch;justify-content: center;background-color: white;position: relative;}#sk-container-id-1 div.sk-item::before, #sk-container-id-1 div.sk-parallel-item::before {content: \"\";position: absolute;border-left: 1px solid gray;box-sizing: border-box;top: 0;bottom: 0;left: 50%;z-index: -1;}#sk-container-id-1 div.sk-parallel-item {display: flex;flex-direction: column;z-index: 1;position: relative;background-color: white;}#sk-container-id-1 div.sk-parallel-item:first-child::after {align-self: flex-end;width: 50%;}#sk-container-id-1 div.sk-parallel-item:last-child::after {align-self: flex-start;width: 50%;}#sk-container-id-1 div.sk-parallel-item:only-child::after {width: 0;}#sk-container-id-1 div.sk-dashed-wrapped {border: 1px dashed gray;margin: 0 0.4em 0.5em 0.4em;box-sizing: border-box;padding-bottom: 0.4em;background-color: white;}#sk-container-id-1 div.sk-label label {font-family: monospace;font-weight: bold;display: inline-block;line-height: 1.2em;}#sk-container-id-1 div.sk-label-container {text-align: center;}#sk-container-id-1 div.sk-container {/* jupyter's `normalize.less` sets `[hidden] { display: none; }` but bootstrap.min.css set `[hidden] { display: none !important; }` so we also need the `!important` here to be able to override the default hidden behavior on the sphinx rendered scikit-learn.org. See: https://github.com/scikit-learn/scikit-learn/issues/21755 */display: inline-block !important;position: relative;}#sk-container-id-1 div.sk-text-repr-fallback {display: none;}</style><div id=\"sk-container-id-1\" class=\"sk-top-container\"><div class=\"sk-text-repr-fallback\"><pre>LogisticRegression(max_iter=200, solver=&#x27;liblinear&#x27;)</pre><b>In a Jupyter environment, please rerun this cell to show the HTML representation or trust the notebook. <br />On GitHub, the HTML representation is unable to render, please try loading this page with nbviewer.org.</b></div><div class=\"sk-container\" hidden><div class=\"sk-item\"><div class=\"sk-estimator sk-toggleable\"><input class=\"sk-toggleable__control sk-hidden--visually\" id=\"sk-estimator-id-1\" type=\"checkbox\" checked><label for=\"sk-estimator-id-1\" class=\"sk-toggleable__label sk-toggleable__label-arrow\">LogisticRegression</label><div class=\"sk-toggleable__content\"><pre>LogisticRegression(max_iter=200, solver=&#x27;liblinear&#x27;)</pre></div></div></div></div></div>"
      ],
      "text/plain": [
       "LogisticRegression(max_iter=200, solver='liblinear')"
      ]
     },
     "execution_count": 46,
     "metadata": {},
     "output_type": "execute_result"
    }
   ],
   "source": [
    "lr.fit(X_train,y_train)"
   ]
  },
  {
   "cell_type": "code",
   "execution_count": 47,
   "id": "3591b9ab",
   "metadata": {
    "execution": {
     "iopub.execute_input": "2025-07-30T05:18:42.236284Z",
     "iopub.status.busy": "2025-07-30T05:18:42.236031Z",
     "iopub.status.idle": "2025-07-30T05:18:42.243898Z",
     "shell.execute_reply": "2025-07-30T05:18:42.243119Z"
    },
    "papermill": {
     "duration": 0.022261,
     "end_time": "2025-07-30T05:18:42.245118",
     "exception": false,
     "start_time": "2025-07-30T05:18:42.222857",
     "status": "completed"
    },
    "tags": []
   },
   "outputs": [],
   "source": [
    "y_pred = lr.predict(X_valid)"
   ]
  },
  {
   "cell_type": "code",
   "execution_count": 48,
   "id": "499ccf94",
   "metadata": {
    "execution": {
     "iopub.execute_input": "2025-07-30T05:18:42.274063Z",
     "iopub.status.busy": "2025-07-30T05:18:42.273801Z",
     "iopub.status.idle": "2025-07-30T05:18:42.278961Z",
     "shell.execute_reply": "2025-07-30T05:18:42.278390Z"
    },
    "papermill": {
     "duration": 0.019535,
     "end_time": "2025-07-30T05:18:42.280151",
     "exception": false,
     "start_time": "2025-07-30T05:18:42.260616",
     "status": "completed"
    },
    "tags": []
   },
   "outputs": [],
   "source": [
    "from sklearn.metrics import accuracy_score\n",
    "\n",
    "accuracy = accuracy_score(y_valid,y_pred)"
   ]
  },
  {
   "cell_type": "code",
   "execution_count": 49,
   "id": "cfaa36a0",
   "metadata": {
    "execution": {
     "iopub.execute_input": "2025-07-30T05:18:42.306392Z",
     "iopub.status.busy": "2025-07-30T05:18:42.305860Z",
     "iopub.status.idle": "2025-07-30T05:18:42.310045Z",
     "shell.execute_reply": "2025-07-30T05:18:42.309237Z"
    },
    "papermill": {
     "duration": 0.018256,
     "end_time": "2025-07-30T05:18:42.311090",
     "exception": false,
     "start_time": "2025-07-30T05:18:42.292834",
     "status": "completed"
    },
    "tags": []
   },
   "outputs": [
    {
     "name": "stdout",
     "output_type": "stream",
     "text": [
      "Model Accuracy:  0.967\n"
     ]
    }
   ],
   "source": [
    "print(f\"Model Accuracy: {accuracy: .3f}\")"
   ]
  },
  {
   "cell_type": "code",
   "execution_count": 50,
   "id": "9020cc0c",
   "metadata": {
    "execution": {
     "iopub.execute_input": "2025-07-30T05:18:42.337283Z",
     "iopub.status.busy": "2025-07-30T05:18:42.336653Z",
     "iopub.status.idle": "2025-07-30T05:18:42.383753Z",
     "shell.execute_reply": "2025-07-30T05:18:42.382990Z"
    },
    "papermill": {
     "duration": 0.061381,
     "end_time": "2025-07-30T05:18:42.384975",
     "exception": false,
     "start_time": "2025-07-30T05:18:42.323594",
     "status": "completed"
    },
    "tags": []
   },
   "outputs": [
    {
     "data": {
      "text/html": [
       "<style>#sk-container-id-2 {color: black;background-color: white;}#sk-container-id-2 pre{padding: 0;}#sk-container-id-2 div.sk-toggleable {background-color: white;}#sk-container-id-2 label.sk-toggleable__label {cursor: pointer;display: block;width: 100%;margin-bottom: 0;padding: 0.3em;box-sizing: border-box;text-align: center;}#sk-container-id-2 label.sk-toggleable__label-arrow:before {content: \"▸\";float: left;margin-right: 0.25em;color: #696969;}#sk-container-id-2 label.sk-toggleable__label-arrow:hover:before {color: black;}#sk-container-id-2 div.sk-estimator:hover label.sk-toggleable__label-arrow:before {color: black;}#sk-container-id-2 div.sk-toggleable__content {max-height: 0;max-width: 0;overflow: hidden;text-align: left;background-color: #f0f8ff;}#sk-container-id-2 div.sk-toggleable__content pre {margin: 0.2em;color: black;border-radius: 0.25em;background-color: #f0f8ff;}#sk-container-id-2 input.sk-toggleable__control:checked~div.sk-toggleable__content {max-height: 200px;max-width: 100%;overflow: auto;}#sk-container-id-2 input.sk-toggleable__control:checked~label.sk-toggleable__label-arrow:before {content: \"▾\";}#sk-container-id-2 div.sk-estimator input.sk-toggleable__control:checked~label.sk-toggleable__label {background-color: #d4ebff;}#sk-container-id-2 div.sk-label input.sk-toggleable__control:checked~label.sk-toggleable__label {background-color: #d4ebff;}#sk-container-id-2 input.sk-hidden--visually {border: 0;clip: rect(1px 1px 1px 1px);clip: rect(1px, 1px, 1px, 1px);height: 1px;margin: -1px;overflow: hidden;padding: 0;position: absolute;width: 1px;}#sk-container-id-2 div.sk-estimator {font-family: monospace;background-color: #f0f8ff;border: 1px dotted black;border-radius: 0.25em;box-sizing: border-box;margin-bottom: 0.5em;}#sk-container-id-2 div.sk-estimator:hover {background-color: #d4ebff;}#sk-container-id-2 div.sk-parallel-item::after {content: \"\";width: 100%;border-bottom: 1px solid gray;flex-grow: 1;}#sk-container-id-2 div.sk-label:hover label.sk-toggleable__label {background-color: #d4ebff;}#sk-container-id-2 div.sk-serial::before {content: \"\";position: absolute;border-left: 1px solid gray;box-sizing: border-box;top: 0;bottom: 0;left: 50%;z-index: 0;}#sk-container-id-2 div.sk-serial {display: flex;flex-direction: column;align-items: center;background-color: white;padding-right: 0.2em;padding-left: 0.2em;position: relative;}#sk-container-id-2 div.sk-item {position: relative;z-index: 1;}#sk-container-id-2 div.sk-parallel {display: flex;align-items: stretch;justify-content: center;background-color: white;position: relative;}#sk-container-id-2 div.sk-item::before, #sk-container-id-2 div.sk-parallel-item::before {content: \"\";position: absolute;border-left: 1px solid gray;box-sizing: border-box;top: 0;bottom: 0;left: 50%;z-index: -1;}#sk-container-id-2 div.sk-parallel-item {display: flex;flex-direction: column;z-index: 1;position: relative;background-color: white;}#sk-container-id-2 div.sk-parallel-item:first-child::after {align-self: flex-end;width: 50%;}#sk-container-id-2 div.sk-parallel-item:last-child::after {align-self: flex-start;width: 50%;}#sk-container-id-2 div.sk-parallel-item:only-child::after {width: 0;}#sk-container-id-2 div.sk-dashed-wrapped {border: 1px dashed gray;margin: 0 0.4em 0.5em 0.4em;box-sizing: border-box;padding-bottom: 0.4em;background-color: white;}#sk-container-id-2 div.sk-label label {font-family: monospace;font-weight: bold;display: inline-block;line-height: 1.2em;}#sk-container-id-2 div.sk-label-container {text-align: center;}#sk-container-id-2 div.sk-container {/* jupyter's `normalize.less` sets `[hidden] { display: none; }` but bootstrap.min.css set `[hidden] { display: none !important; }` so we also need the `!important` here to be able to override the default hidden behavior on the sphinx rendered scikit-learn.org. See: https://github.com/scikit-learn/scikit-learn/issues/21755 */display: inline-block !important;position: relative;}#sk-container-id-2 div.sk-text-repr-fallback {display: none;}</style><div id=\"sk-container-id-2\" class=\"sk-top-container\"><div class=\"sk-text-repr-fallback\"><pre>DecisionTreeClassifier(criterion=&#x27;entropy&#x27;, max_depth=3, random_state=0,\n",
       "                       splitter=&#x27;random&#x27;)</pre><b>In a Jupyter environment, please rerun this cell to show the HTML representation or trust the notebook. <br />On GitHub, the HTML representation is unable to render, please try loading this page with nbviewer.org.</b></div><div class=\"sk-container\" hidden><div class=\"sk-item\"><div class=\"sk-estimator sk-toggleable\"><input class=\"sk-toggleable__control sk-hidden--visually\" id=\"sk-estimator-id-2\" type=\"checkbox\" checked><label for=\"sk-estimator-id-2\" class=\"sk-toggleable__label sk-toggleable__label-arrow\">DecisionTreeClassifier</label><div class=\"sk-toggleable__content\"><pre>DecisionTreeClassifier(criterion=&#x27;entropy&#x27;, max_depth=3, random_state=0,\n",
       "                       splitter=&#x27;random&#x27;)</pre></div></div></div></div></div>"
      ],
      "text/plain": [
       "DecisionTreeClassifier(criterion='entropy', max_depth=3, random_state=0,\n",
       "                       splitter='random')"
      ]
     },
     "execution_count": 50,
     "metadata": {},
     "output_type": "execute_result"
    }
   ],
   "source": [
    "from sklearn.tree import DecisionTreeClassifier\n",
    "clf = DecisionTreeClassifier(random_state=0,criterion='entropy',splitter='random',max_depth=3,min_samples_split= 2)\n",
    "clf.fit(X_train,y_train)"
   ]
  },
  {
   "cell_type": "code",
   "execution_count": 51,
   "id": "ce02df5a",
   "metadata": {
    "execution": {
     "iopub.execute_input": "2025-07-30T05:18:42.412480Z",
     "iopub.status.busy": "2025-07-30T05:18:42.411818Z",
     "iopub.status.idle": "2025-07-30T05:18:42.419634Z",
     "shell.execute_reply": "2025-07-30T05:18:42.418826Z"
    },
    "papermill": {
     "duration": 0.022387,
     "end_time": "2025-07-30T05:18:42.420703",
     "exception": false,
     "start_time": "2025-07-30T05:18:42.398316",
     "status": "completed"
    },
    "tags": []
   },
   "outputs": [
    {
     "name": "stdout",
     "output_type": "stream",
     "text": [
      "Model Accuracy: 0.967\n"
     ]
    }
   ],
   "source": [
    "y_pred_Dt = clf.predict(X_valid)\n",
    "accuracy_dt = accuracy_score(y_pred_Dt,y_valid)\n",
    "print(f\"Model Accuracy: {accuracy_dt:.3f}\")"
   ]
  },
  {
   "cell_type": "code",
   "execution_count": 52,
   "id": "b2e0b57c",
   "metadata": {
    "execution": {
     "iopub.execute_input": "2025-07-30T05:18:42.447990Z",
     "iopub.status.busy": "2025-07-30T05:18:42.447321Z",
     "iopub.status.idle": "2025-07-30T05:18:42.522043Z",
     "shell.execute_reply": "2025-07-30T05:18:42.521172Z"
    },
    "papermill": {
     "duration": 0.089415,
     "end_time": "2025-07-30T05:18:42.523317",
     "exception": false,
     "start_time": "2025-07-30T05:18:42.433902",
     "status": "completed"
    },
    "tags": []
   },
   "outputs": [
    {
     "name": "stdout",
     "output_type": "stream",
     "text": [
      "0.9685337483461358\n"
     ]
    }
   ],
   "source": [
    "from sklearn.model_selection import cross_val_score\n",
    "accuracy_cv1 = cross_val_score(estimator=clf,X=X_train,y=y_train,cv=10,n_jobs=1)\n",
    "print(accuracy_cv1.mean())"
   ]
  },
  {
   "cell_type": "code",
   "execution_count": 53,
   "id": "9c6d1ef3",
   "metadata": {
    "execution": {
     "iopub.execute_input": "2025-07-30T05:18:42.550873Z",
     "iopub.status.busy": "2025-07-30T05:18:42.550301Z",
     "iopub.status.idle": "2025-07-30T05:18:46.887620Z",
     "shell.execute_reply": "2025-07-30T05:18:46.886893Z"
    },
    "papermill": {
     "duration": 4.351976,
     "end_time": "2025-07-30T05:18:46.888901",
     "exception": false,
     "start_time": "2025-07-30T05:18:42.536925",
     "status": "completed"
    },
    "tags": []
   },
   "outputs": [
    {
     "data": {
      "image/png": "[encoded data removed]",
      "text/plain": [
       "<Figure size 640x480 with 1 Axes>"
      ]
     },
     "metadata": {},
     "output_type": "display_data"
    }
   ],
   "source": [
    "from sklearn.model_selection import learning_curve\n",
    "# Create CV training and test scores for various training set sizes\n",
    "train_sizes, train_scores, test_scores = learning_curve(clf, \n",
    "                                                        X_train, \n",
    "                                                        y_train,\n",
    "                                                        # Number of folds in cross-validation\n",
    "                                                        cv=10,\n",
    "                                                        # Evaluation metric\n",
    "                                                        scoring='accuracy',\n",
    "                                                        # Use all computer cores\n",
    "                                                        n_jobs=-1, \n",
    "                                                        # 50 different sizes of the training set\n",
    "                                                        train_sizes=np.linspace(0.01, 1.0, 50))\n",
    "\n",
    "# Create means and standard deviations of training set scores\n",
    "train_mean = np.mean(train_scores, axis=1)\n",
    "train_std = np.std(train_scores, axis=1)\n",
    "\n",
    "# Create means and standard deviations of test set scores\n",
    "test_mean = np.mean(test_scores, axis=1)\n",
    "test_std = np.std(test_scores, axis=1)\n",
    "\n",
    "# Draw lines\n",
    "plt.plot(train_sizes, train_mean, '--', color=\"#111111\",  label=\"Training score\")\n",
    "plt.plot(train_sizes, test_mean, color=\"#111111\", label=\"Cross-validation score\")\n",
    "\n",
    "# Draw bands\n",
    "plt.fill_between(train_sizes, train_mean - train_std, train_mean + train_std, color=\"#DDDDDD\")\n",
    "plt.fill_between(train_sizes, test_mean - test_std, test_mean + test_std, color=\"#DDDDDD\")\n",
    "\n",
    "# Create plot\n",
    "plt.title(\"Learning Curve\")\n",
    "plt.xlabel(\"Training Set Size\"), plt.ylabel(\"Accuracy Score\"), plt.legend(loc=\"best\")\n",
    "plt.tight_layout()\n",
    "plt.show()"
   ]
  },
  {
   "cell_type": "code",
   "execution_count": 54,
   "id": "8c1ee16b",
   "metadata": {
    "execution": {
     "iopub.execute_input": "2025-07-30T05:18:46.916944Z",
     "iopub.status.busy": "2025-07-30T05:18:46.916691Z",
     "iopub.status.idle": "2025-07-30T05:18:46.921195Z",
     "shell.execute_reply": "2025-07-30T05:18:46.920470Z"
    },
    "papermill": {
     "duration": 0.019562,
     "end_time": "2025-07-30T05:18:46.922251",
     "exception": false,
     "start_time": "2025-07-30T05:18:46.902689",
     "status": "completed"
    },
    "tags": []
   },
   "outputs": [
    {
     "data": {
      "text/plain": [
       "(18524, 9)"
      ]
     },
     "execution_count": 54,
     "metadata": {},
     "output_type": "execute_result"
    }
   ],
   "source": [
    "train_df.shape"
   ]
  },
  {
   "cell_type": "code",
   "execution_count": 55,
   "id": "e68d8c10",
   "metadata": {
    "execution": {
     "iopub.execute_input": "2025-07-30T05:18:46.949162Z",
     "iopub.status.busy": "2025-07-30T05:18:46.948939Z",
     "iopub.status.idle": "2025-07-30T05:18:46.956568Z",
     "shell.execute_reply": "2025-07-30T05:18:46.955995Z"
    },
    "papermill": {
     "duration": 0.022283,
     "end_time": "2025-07-30T05:18:46.957721",
     "exception": false,
     "start_time": "2025-07-30T05:18:46.935438",
     "status": "completed"
    },
    "tags": []
   },
   "outputs": [
    {
     "data": {
      "text/plain": [
       "Personality\n",
       "Extrovert    13699\n",
       "Introvert     4825\n",
       "Name: count, dtype: int64"
      ]
     },
     "execution_count": 55,
     "metadata": {},
     "output_type": "execute_result"
    }
   ],
   "source": [
    "train_df['Personality'].value_counts()"
   ]
  },
  {
   "cell_type": "code",
   "execution_count": null,
   "id": "e39fbda9",
   "metadata": {
    "papermill": {
     "duration": 0.012867,
     "end_time": "2025-07-30T05:18:46.983952",
     "exception": false,
     "start_time": "2025-07-30T05:18:46.971085",
     "status": "completed"
    },
    "tags": []
   },
   "outputs": [],
   "source": []
  },
  {
   "cell_type": "code",
   "execution_count": null,
   "id": "6884b8b1",
   "metadata": {
    "papermill": {
     "duration": 0.012838,
     "end_time": "2025-07-30T05:18:47.009634",
     "exception": false,
     "start_time": "2025-07-30T05:18:46.996796",
     "status": "completed"
    },
    "tags": []
   },
   "outputs": [],
   "source": []
  },
  {
   "cell_type": "code",
   "execution_count": null,
   "id": "240a039d",
   "metadata": {
    "papermill": {
     "duration": 0.012964,
     "end_time": "2025-07-30T05:18:47.035904",
     "exception": false,
     "start_time": "2025-07-30T05:18:47.022940",
     "status": "completed"
    },
    "tags": []
   },
   "outputs": [],
   "source": []
  },
  {
   "cell_type": "code",
   "execution_count": null,
   "id": "65771f2a",
   "metadata": {
    "papermill": {
     "duration": 0.013445,
     "end_time": "2025-07-30T05:18:47.062486",
     "exception": false,
     "start_time": "2025-07-30T05:18:47.049041",
     "status": "completed"
    },
    "tags": []
   },
   "outputs": [],
   "source": []
  },
  {
   "cell_type": "code",
   "execution_count": null,
   "id": "f1d6e4ae",
   "metadata": {
    "papermill": {
     "duration": 0.013133,
     "end_time": "2025-07-30T05:18:47.089298",
     "exception": false,
     "start_time": "2025-07-30T05:18:47.076165",
     "status": "completed"
    },
    "tags": []
   },
   "outputs": [],
   "source": []
  },
  {
   "cell_type": "code",
   "execution_count": null,
   "id": "a97f20d1",
   "metadata": {
    "papermill": {
     "duration": 0.013022,
     "end_time": "2025-07-30T05:18:47.115641",
     "exception": false,
     "start_time": "2025-07-30T05:18:47.102619",
     "status": "completed"
    },
    "tags": []
   },
   "outputs": [],
   "source": []
  }
 ],
 "metadata": {
  "kaggle": {
   "accelerator": "none",
   "dataSources": [
    {
     "databundleVersionId": 12738969,
     "sourceId": 91718,
     "sourceType": "competition"
    }
   ],
   "dockerImageVersionId": 31089,
   "isGpuEnabled": false,
   "isInternetEnabled": true,
   "language": "python",
   "sourceType": "notebook"
  },
  "kernelspec": {
   "display_name": "Python 3",
   "language": "python",
   "name": "python3"
  },
  "language_info": {
   "codemirror_mode": {
    "name": "ipython",
    "version": 3
   },
   "file_extension": ".py",
   "mimetype": "text/x-python",
   "name": "python",
   "nbconvert_exporter": "python",
   "pygments_lexer": "ipython3",
   "version": "3.11.13"
  },
  "papermill": {
   "default_parameters": {},
   "duration": 23.716237,
   "end_time": "2025-07-30T05:18:49.746689",
   "environment_variables": {},
   "exception": null,
   "input_path": "__notebook__.ipynb",
   "output_path": "__notebook__.ipynb",
   "parameters": {},
   "start_time": "2025-07-30T05:18:26.030452",
   "version": "2.6.0"
  }
 },
 "nbformat": 4,
 "nbformat_minor": 5
}
